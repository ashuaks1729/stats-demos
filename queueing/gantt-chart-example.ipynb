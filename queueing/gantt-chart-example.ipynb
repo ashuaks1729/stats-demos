{
 "cells": [
  {
   "cell_type": "markdown",
   "id": "fa8198b0",
   "metadata": {},
   "source": [
    "# Gantt chart example"
   ]
  },
  {
   "cell_type": "markdown",
   "id": "97766a7e",
   "metadata": {},
   "source": [
    "This shows how to create Gantt charts using Python. I'm wanting to use this kind of chart to plot job arrivals, starts and departures in a queueing network.\n",
    "\n",
    "I didn't write this code. It comes from the blog post [Create an Advanced Gantt Chart in Python](https://medium.com/geekculture/create-an-advanced-gantt-chart-in-python-f2608a1fd6cc) by Abhijith Chandradas.\n",
    "\n",
    "See:\n",
    "\n",
    "- https://medium.com/geekculture/generate-gantt-chart-in-python-9d1e1fe9103e\n",
    "- https://medium.com/geekculture/create-an-advanced-gantt-chart-in-python-f2608a1fd6cc\n",
    "- https://github.com/hashABCD/Publications/tree/main/Medium/gantt%20chart"
   ]
  },
  {
   "cell_type": "code",
   "execution_count": 2,
   "id": "260ae8e1",
   "metadata": {},
   "outputs": [
    {
     "data": {
      "text/html": [
       "<div>\n",
       "<style scoped>\n",
       "    .dataframe tbody tr th:only-of-type {\n",
       "        vertical-align: middle;\n",
       "    }\n",
       "\n",
       "    .dataframe tbody tr th {\n",
       "        vertical-align: top;\n",
       "    }\n",
       "\n",
       "    .dataframe thead th {\n",
       "        text-align: right;\n",
       "    }\n",
       "</style>\n",
       "<table border=\"1\" class=\"dataframe\">\n",
       "  <thead>\n",
       "    <tr style=\"text-align: right;\">\n",
       "      <th></th>\n",
       "      <th>Task</th>\n",
       "      <th>start</th>\n",
       "      <th>end</th>\n",
       "      <th>Department</th>\n",
       "      <th>Completion</th>\n",
       "    </tr>\n",
       "  </thead>\n",
       "  <tbody>\n",
       "    <tr>\n",
       "      <th>0</th>\n",
       "      <td>Task A</td>\n",
       "      <td>14-Jun-2021</td>\n",
       "      <td>18-Jun-2021</td>\n",
       "      <td>Mkt</td>\n",
       "      <td>100</td>\n",
       "    </tr>\n",
       "    <tr>\n",
       "      <th>1</th>\n",
       "      <td>Task B</td>\n",
       "      <td>16-Jun-2021</td>\n",
       "      <td>24-Jun-2021</td>\n",
       "      <td>Fin</td>\n",
       "      <td>100</td>\n",
       "    </tr>\n",
       "    <tr>\n",
       "      <th>2</th>\n",
       "      <td>Task C</td>\n",
       "      <td>18-Jun-2021</td>\n",
       "      <td>22-Jun-2021</td>\n",
       "      <td>Fin</td>\n",
       "      <td>100</td>\n",
       "    </tr>\n",
       "    <tr>\n",
       "      <th>3</th>\n",
       "      <td>Task D</td>\n",
       "      <td>22-Jun-2021</td>\n",
       "      <td>25-Jun-2021</td>\n",
       "      <td>Mkt</td>\n",
       "      <td>90</td>\n",
       "    </tr>\n",
       "    <tr>\n",
       "      <th>4</th>\n",
       "      <td>Task E</td>\n",
       "      <td>22-Jun-2021</td>\n",
       "      <td>30-Jun-2021</td>\n",
       "      <td>HR</td>\n",
       "      <td>60</td>\n",
       "    </tr>\n",
       "  </tbody>\n",
       "</table>\n",
       "</div>"
      ],
      "text/plain": [
       "     Task        start          end Department  Completion\n",
       "0  Task A  14-Jun-2021  18-Jun-2021        Mkt         100\n",
       "1  Task B  16-Jun-2021  24-Jun-2021        Fin         100\n",
       "2  Task C  18-Jun-2021  22-Jun-2021        Fin         100\n",
       "3  Task D  22-Jun-2021  25-Jun-2021        Mkt          90\n",
       "4  Task E  22-Jun-2021  30-Jun-2021         HR          60"
      ]
     },
     "execution_count": 2,
     "metadata": {},
     "output_type": "execute_result"
    }
   ],
   "source": [
    "import pandas as pd\n",
    "import matplotlib.pyplot as plt\n",
    "import datetime as dt\n",
    "\n",
    "df = pd.read_csv('schedule.csv')\n",
    "df.head()"
   ]
  },
  {
   "cell_type": "code",
   "execution_count": 8,
   "id": "b921c040",
   "metadata": {},
   "outputs": [
    {
     "data": {
      "image/png": "[encoded data removed]",
      "text/plain": [
       "<Figure size 576x288 with 1 Axes>"
      ]
     },
     "metadata": {
      "needs_background": "light"
     },
     "output_type": "display_data"
    }
   ],
   "source": [
    "###### PRE-PROCESSING THE DATA ###### \n",
    "\n",
    "df.start = pd.to_datetime(df.start)\n",
    "df.end = pd.to_datetime(df.end)\n",
    "\n",
    "df['duration'] = df.end-df.start\n",
    "df.duration = df.duration.apply(lambda x: x.days+1)\n",
    "\n",
    "# sort in ascending order of start date\n",
    "df = df.sort_values(by='start', ascending=True)\n",
    "\n",
    "# project level variables\n",
    "p_start = df.start.min()\n",
    "p_end = df.end.max()\n",
    "p_duration = (p_end-p_start).days + 1\n",
    "\n",
    "# Add relative date\n",
    "df['rel_start'] = df.start.apply(lambda x: (x-p_start).days)\n",
    "\n",
    "# Create custom x-ticks and x-tick labels\n",
    "x_ticks = [i for i in range(p_duration+1)]\n",
    "x_labels = [(p_start+dt.timedelta(days=i)).strftime('%d-%b') for i in x_ticks]\n",
    "\n",
    "######  PLOTTING GANTT CHART ######\n",
    "plt.figure(figsize=(8,4))\n",
    "plt.title('Basic Gantt Chart', size=18)\n",
    "plt.barh(y=df.Task, left=df.rel_start, width=df.duration)\n",
    "plt.gca().invert_yaxis()\n",
    "plt.xticks(ticks=x_ticks[::3], labels=x_labels[::3])\n",
    "plt.grid(axis='x')\n",
    "plt.show()"
   ]
  },
  {
   "cell_type": "code",
   "execution_count": 4,
   "id": "f6d10818",
   "metadata": {},
   "outputs": [
    {
     "data": {
      "text/html": [
       "<div>\n",
       "<style scoped>\n",
       "    .dataframe tbody tr th:only-of-type {\n",
       "        vertical-align: middle;\n",
       "    }\n",
       "\n",
       "    .dataframe tbody tr th {\n",
       "        vertical-align: top;\n",
       "    }\n",
       "\n",
       "    .dataframe thead th {\n",
       "        text-align: right;\n",
       "    }\n",
       "</style>\n",
       "<table border=\"1\" class=\"dataframe\">\n",
       "  <thead>\n",
       "    <tr style=\"text-align: right;\">\n",
       "      <th></th>\n",
       "      <th>Task</th>\n",
       "      <th>start</th>\n",
       "      <th>end</th>\n",
       "      <th>Department</th>\n",
       "      <th>Completion</th>\n",
       "      <th>duration</th>\n",
       "      <th>rel_start</th>\n",
       "      <th>w_comp</th>\n",
       "    </tr>\n",
       "  </thead>\n",
       "  <tbody>\n",
       "    <tr>\n",
       "      <th>0</th>\n",
       "      <td>Task A</td>\n",
       "      <td>2021-06-14</td>\n",
       "      <td>2021-06-18</td>\n",
       "      <td>Mkt</td>\n",
       "      <td>100</td>\n",
       "      <td>5</td>\n",
       "      <td>0</td>\n",
       "      <td>5.0</td>\n",
       "    </tr>\n",
       "    <tr>\n",
       "      <th>1</th>\n",
       "      <td>Task B</td>\n",
       "      <td>2021-06-16</td>\n",
       "      <td>2021-06-24</td>\n",
       "      <td>Fin</td>\n",
       "      <td>100</td>\n",
       "      <td>9</td>\n",
       "      <td>2</td>\n",
       "      <td>9.0</td>\n",
       "    </tr>\n",
       "    <tr>\n",
       "      <th>2</th>\n",
       "      <td>Task C</td>\n",
       "      <td>2021-06-18</td>\n",
       "      <td>2021-06-22</td>\n",
       "      <td>Fin</td>\n",
       "      <td>100</td>\n",
       "      <td>5</td>\n",
       "      <td>4</td>\n",
       "      <td>5.0</td>\n",
       "    </tr>\n",
       "    <tr>\n",
       "      <th>3</th>\n",
       "      <td>Task D</td>\n",
       "      <td>2021-06-22</td>\n",
       "      <td>2021-06-25</td>\n",
       "      <td>Mkt</td>\n",
       "      <td>90</td>\n",
       "      <td>4</td>\n",
       "      <td>8</td>\n",
       "      <td>3.6</td>\n",
       "    </tr>\n",
       "    <tr>\n",
       "      <th>4</th>\n",
       "      <td>Task E</td>\n",
       "      <td>2021-06-22</td>\n",
       "      <td>2021-06-30</td>\n",
       "      <td>HR</td>\n",
       "      <td>60</td>\n",
       "      <td>9</td>\n",
       "      <td>8</td>\n",
       "      <td>5.4</td>\n",
       "    </tr>\n",
       "  </tbody>\n",
       "</table>\n",
       "</div>"
      ],
      "text/plain": [
       "     Task      start        end Department  Completion  duration  rel_start  \\\n",
       "0  Task A 2021-06-14 2021-06-18        Mkt         100         5          0   \n",
       "1  Task B 2021-06-16 2021-06-24        Fin         100         9          2   \n",
       "2  Task C 2021-06-18 2021-06-22        Fin         100         5          4   \n",
       "3  Task D 2021-06-22 2021-06-25        Mkt          90         4          8   \n",
       "4  Task E 2021-06-22 2021-06-30         HR          60         9          8   \n",
       "\n",
       "   w_comp  \n",
       "0     5.0  \n",
       "1     9.0  \n",
       "2     5.0  \n",
       "3     3.6  \n",
       "4     5.4  "
      ]
     },
     "execution_count": 4,
     "metadata": {},
     "output_type": "execute_result"
    }
   ],
   "source": [
    "df['w_comp'] = round(df.Completion*df.duration/100,2)\n",
    "df.head()"
   ]
  },
  {
   "cell_type": "code",
   "execution_count": 7,
   "id": "bba1bbb1",
   "metadata": {},
   "outputs": [
    {
     "data": {
      "image/png": "[encoded data removed]",
      "text/plain": [
       "<Figure size 576x288 with 1 Axes>"
      ]
     },
     "metadata": {
      "needs_background": "light"
     },
     "output_type": "display_data"
    }
   ],
   "source": [
    "plt.figure(figsize=(8,4))\n",
    "plt.title('Gantt Chart: Completion', size=18)\n",
    "\n",
    "# Light bar for entire task\n",
    "plt.barh(y=df.Task, left=df.rel_start, width=df.duration, alpha=0.4, color='green')\n",
    "\n",
    "# Darker bar for completed part\n",
    "plt.barh(y=df.Task, left=df.rel_start, width=df.w_comp, alpha=1, color='green')\n",
    "\n",
    "plt.gca().invert_yaxis()\n",
    "plt.xticks(ticks=x_ticks[::3], labels=x_labels[::3])\n",
    "plt.grid(axis='x')\n",
    "plt.show()"
   ]
  },
  {
   "cell_type": "markdown",
   "id": "5bcfc970",
   "metadata": {},
   "source": [
    "The blog post contains further elaborations, but the above is perfect for what I need."
   ]
  },
  {
   "cell_type": "code",
   "execution_count": null,
   "id": "6c72bc4c",
   "metadata": {},
   "outputs": [],
   "source": []
  }
 ],
 "metadata": {
  "kernelspec": {
   "display_name": "Python 3 (ipykernel)",
   "language": "python",
   "name": "python3"
  },
  "language_info": {
   "codemirror_mode": {
    "name": "ipython",
    "version": 3
   },
   "file_extension": ".py",
   "mimetype": "text/x-python",
   "name": "python",
   "nbconvert_exporter": "python",
   "pygments_lexer": "ipython3",
   "version": "3.9.5"
  }
 },
 "nbformat": 4,
 "nbformat_minor": 5
}
