{
 "cells": [
  {
   "cell_type": "markdown",
   "id": "81d2534e",
   "metadata": {},
   "source": [
    "# Little's Law simulation"
   ]
  },
  {
   "cell_type": "markdown",
   "id": "dd4d5854",
   "metadata": {},
   "source": [
    "This notebook provides a simple, single queue simulation. We generate jobs, run them through the system and compare the behavior to Little's Law for verification.\n",
    "\n",
    "The goal is to develop intuitions about the underlying dynamics of the system, especially around inputs, outputs, and how queueing processes convert inputs into outputs. On the input side we want to understand how to reduce response times to queueing network parameters. On the output side we want to understand the performance metrics available and how we can measure them.\n",
    "\n",
    "**Reduction of response times to queueing network parameters.** First we show how to reduce response times to the following queueing network parameters:\n",
    "\n",
    "- mean arrival rate\n",
    "- mean service rate\n",
    "\n",
    "Eventually we will also incorporate\n",
    "\n",
    "- job scheduling policy: policy around how we prioritize waiting jobs; and\n",
    "- job assignment policy: policy around how we assign jobs to resources\n",
    "\n",
    "though this notebook simply assumes First-Come-First-Served (FCFS) scheduling, and assumes a single resource (which makes assignment not applicable).\n",
    "\n",
    "**Performance measurement.** We show how to measure the following performance metrics:\n",
    "\n",
    "- response time\n",
    "- number of jobs in the system\n",
    "- wait time\n",
    "- device utilization\n",
    "- throughput"
   ]
  },
  {
   "cell_type": "markdown",
   "id": "e68f5a9b",
   "metadata": {},
   "source": [
    "## Little's Law for open systems\n",
    "$$ E[N] = \\lambda E[T] $$\n",
    "\n",
    "where\n",
    "\n",
    "- $\\lambda$ = mean job arrival rate\n",
    "- $N$ = number of jobs in the system\n",
    "- $T$ = response time (departure time minus arrival time)\n",
    "- $E$ is the expectation operator"
   ]
  },
  {
   "cell_type": "markdown",
   "id": "072b0a63",
   "metadata": {},
   "source": [
    "## 0 Setup "
   ]
  },
  {
   "cell_type": "code",
   "execution_count": 1,
   "id": "f495faeb",
   "metadata": {},
   "outputs": [],
   "source": [
    "import numpy as np\n",
    "import pandas as pd\n",
    "import random\n",
    "import matplotlib.pyplot as plt"
   ]
  },
  {
   "cell_type": "code",
   "execution_count": 2,
   "id": "e734a2a9",
   "metadata": {},
   "outputs": [],
   "source": [
    "rng = np.random.default_rng(42)"
   ]
  },
  {
   "cell_type": "code",
   "execution_count": 3,
   "id": "a8194dd9",
   "metadata": {},
   "outputs": [],
   "source": [
    "# Simulation parameters\n",
    "num_events = 4000\n",
    "mean_arrival_rate = 16.0  # lambda\n",
    "mean_service_rate = 18.0  # mu"
   ]
  },
  {
   "cell_type": "markdown",
   "id": "46380496",
   "metadata": {},
   "source": [
    "## 1 Generate arrival times "
   ]
  },
  {
   "cell_type": "code",
   "execution_count": 4,
   "id": "ec8dea5f",
   "metadata": {},
   "outputs": [
    {
     "data": {
      "text/plain": [
       "250"
      ]
     },
     "execution_count": 4,
     "metadata": {},
     "output_type": "execute_result"
    }
   ],
   "source": [
    "mean_interarrival_time = 1.0 / mean_arrival_rate\n",
    "num_bins_arrival = int(num_events / mean_arrival_rate)\n",
    "num_bins_arrival"
   ]
  },
  {
   "cell_type": "code",
   "execution_count": 5,
   "id": "3dc8d428",
   "metadata": {},
   "outputs": [],
   "source": [
    "interarrival_times = rng.exponential(scale=mean_interarrival_time, size=num_events)"
   ]
  },
  {
   "cell_type": "code",
   "execution_count": 6,
   "id": "899d96b5",
   "metadata": {},
   "outputs": [
    {
     "data": {
      "text/plain": [
       "array([0.15026304, 0.14601185, 0.14904756, 0.01748714, 0.00540234,\n",
       "       0.09079128, 0.08812254, 0.1952685 , 0.00495589, 0.06541005,\n",
       "       0.00440227, 0.06806398, 0.10820796, 0.02418093, 0.0769741 ])"
      ]
     },
     "execution_count": 6,
     "metadata": {},
     "output_type": "execute_result"
    }
   ],
   "source": [
    "interarrival_times[0:15]"
   ]
  },
  {
   "cell_type": "code",
   "execution_count": 7,
   "id": "ed8a480f",
   "metadata": {},
   "outputs": [
    {
     "name": "stdout",
     "output_type": "stream",
     "text": [
      "mean_interarrival_time_actual   =0.0625\n",
      "mean_interarrival_time_observed =0.06250397901153028\n"
     ]
    }
   ],
   "source": [
    "print(f\"mean_interarrival_time_actual   ={mean_interarrival_time}\")\n",
    "print(f\"mean_interarrival_time_observed ={np.mean(interarrival_times)}\")"
   ]
  },
  {
   "cell_type": "code",
   "execution_count": 8,
   "id": "f8c56818",
   "metadata": {},
   "outputs": [
    {
     "data": {
      "image/png": "[encoded data removed]",
      "text/plain": [
       "<Figure size 864x288 with 1 Axes>"
      ]
     },
     "metadata": {
      "needs_background": "light"
     },
     "output_type": "display_data"
    }
   ],
   "source": [
    "plt.figure(figsize=(12, 4))\n",
    "plt.hist(interarrival_times, bins=num_bins_arrival)\n",
    "plt.show()"
   ]
  },
  {
   "cell_type": "code",
   "execution_count": 9,
   "id": "b450477c",
   "metadata": {},
   "outputs": [],
   "source": [
    "arrival_times = np.cumsum(interarrival_times)"
   ]
  },
  {
   "cell_type": "code",
   "execution_count": 10,
   "id": "356f6fa2",
   "metadata": {},
   "outputs": [
    {
     "data": {
      "text/plain": [
       "(4000,)"
      ]
     },
     "execution_count": 10,
     "metadata": {},
     "output_type": "execute_result"
    }
   ],
   "source": [
    "arrival_times.shape"
   ]
  },
  {
   "cell_type": "code",
   "execution_count": 11,
   "id": "a15f0727",
   "metadata": {},
   "outputs": [
    {
     "data": {
      "text/plain": [
       "array([0.15026304, 0.29627489, 0.44532245, 0.4628096 , 0.46821193,\n",
       "       0.55900322, 0.64712576, 0.84239426, 0.84735014, 0.9127602 ,\n",
       "       0.91716247, 0.98522644, 1.0934344 , 1.11761533, 1.19458943,\n",
       "       1.20420026, 1.20992384, 1.22962254, 1.2859475 , 1.31175908,\n",
       "       1.3897207 , 1.40369422, 1.51856737, 1.59526023, 1.63624749,\n",
       "       1.66231541, 1.69064789, 1.69546521, 1.70669223, 1.74952476,\n",
       "       1.77381727, 1.8528302 , 1.89711086, 1.91198149, 1.94079951,\n",
       "       1.9808968 , 2.00238639, 2.02250584, 2.07743801, 2.09599721,\n",
       "       2.17935361, 2.26628261, 2.33403779, 2.33860206, 2.40948128,\n",
       "       2.49412741, 2.56425489, 2.58175796, 2.60181647, 2.61217496,\n",
       "       2.63432268, 2.63564392, 2.64610369, 2.72829474, 2.97802951,\n",
       "       3.01325064, 3.03100312, 3.05586289, 3.07844678, 3.08654888,\n",
       "       3.1542567 , 3.24024725, 3.33448532, 3.666353  , 3.79801926,\n",
       "       3.90082338, 3.96604159, 4.00307436, 4.0058527 , 4.06564038,\n",
       "       4.10447682, 4.19872441, 4.32547451, 4.34622881, 4.34933823,\n",
       "       4.40713962, 4.56672833, 4.6180453 , 4.75122923, 4.79829266,\n",
       "       4.88041728, 4.89846622, 4.9068673 , 4.91577235, 4.9231275 ,\n",
       "       4.92654457, 5.03383164, 5.06187008, 5.08600328, 5.14443824,\n",
       "       5.15614246, 5.27603573, 5.35678299, 5.37736062, 5.38989761,\n",
       "       5.42308634, 5.44213827, 5.44687194, 5.47834442, 5.61908683])"
      ]
     },
     "execution_count": 11,
     "metadata": {},
     "output_type": "execute_result"
    }
   ],
   "source": [
    "arrival_times[0:100]"
   ]
  },
  {
   "cell_type": "code",
   "execution_count": 12,
   "id": "29a2ce16",
   "metadata": {},
   "outputs": [
    {
     "data": {
      "image/png": "[encoded data removed]",
      "text/plain": [
       "<Figure size 864x288 with 1 Axes>"
      ]
     },
     "metadata": {
      "needs_background": "light"
     },
     "output_type": "display_data"
    }
   ],
   "source": [
    "plt.figure(figsize=(12, 4))\n",
    "counts, bins, bars = plt.hist(arrival_times, bins=num_bins_arrival)\n",
    "plt.show()"
   ]
  },
  {
   "cell_type": "code",
   "execution_count": 13,
   "id": "b49a70d1",
   "metadata": {},
   "outputs": [
    {
     "data": {
      "text/plain": [
       "16.0"
      ]
     },
     "execution_count": 13,
     "metadata": {},
     "output_type": "execute_result"
    }
   ],
   "source": [
    "np.mean(counts)"
   ]
  },
  {
   "cell_type": "code",
   "execution_count": 14,
   "id": "81b4bb6d",
   "metadata": {},
   "outputs": [
    {
     "data": {
      "image/png": "[encoded data removed]",
      "text/plain": [
       "<Figure size 432x288 with 1 Axes>"
      ]
     },
     "metadata": {
      "needs_background": "light"
     },
     "output_type": "display_data"
    }
   ],
   "source": [
    "plt.hist(counts, bins=15)\n",
    "plt.show()"
   ]
  },
  {
   "cell_type": "markdown",
   "id": "cc7bc996",
   "metadata": {},
   "source": [
    "## 2 Generate service times "
   ]
  },
  {
   "cell_type": "code",
   "execution_count": 15,
   "id": "e14942f7",
   "metadata": {},
   "outputs": [],
   "source": [
    "mean_service_time = 1.0 / mean_service_rate  # E[S] = 1 / mu\n",
    "num_bins_service = int(num_events / mean_service_rate)"
   ]
  },
  {
   "cell_type": "code",
   "execution_count": 16,
   "id": "af22cee2",
   "metadata": {},
   "outputs": [],
   "source": [
    "service_times = rng.exponential(scale=mean_service_time, size=num_events)"
   ]
  },
  {
   "cell_type": "code",
   "execution_count": 17,
   "id": "48788fdf",
   "metadata": {},
   "outputs": [
    {
     "data": {
      "text/plain": [
       "array([0.00668553, 0.01270898, 0.00328629, 0.08525936, 0.06999469,\n",
       "       0.02415699, 0.06019742, 0.12377094, 0.01045287, 0.02642004,\n",
       "       0.00613009, 0.00087379, 0.00957915, 0.05568526, 0.04407284])"
      ]
     },
     "execution_count": 17,
     "metadata": {},
     "output_type": "execute_result"
    }
   ],
   "source": [
    "service_times[0:15]"
   ]
  },
  {
   "cell_type": "code",
   "execution_count": 18,
   "id": "5aa182de",
   "metadata": {},
   "outputs": [
    {
     "data": {
      "image/png": "[encoded data removed]",
      "text/plain": [
       "<Figure size 864x288 with 1 Axes>"
      ]
     },
     "metadata": {
      "needs_background": "light"
     },
     "output_type": "display_data"
    }
   ],
   "source": [
    "plt.figure(figsize=(12, 4))\n",
    "plt.hist(service_times, bins=num_bins_service)\n",
    "plt.show()"
   ]
  },
  {
   "cell_type": "markdown",
   "id": "fc3f8c3f",
   "metadata": {},
   "source": [
    "## 3 Calculate job start and end (departure) times"
   ]
  },
  {
   "cell_type": "code",
   "execution_count": 19,
   "id": "edaccec4",
   "metadata": {},
   "outputs": [],
   "source": [
    "jobs_df = pd.DataFrame({\n",
    "    \"arrive_time\": arrival_times,\n",
    "    \"service_time\": service_times,\n",
    "    \"start_time\": np.zeros(num_events),\n",
    "    \"depart_time\": np.zeros(num_events)\n",
    "})"
   ]
  },
  {
   "cell_type": "code",
   "execution_count": 20,
   "id": "81c7f213",
   "metadata": {},
   "outputs": [],
   "source": [
    "jobs_df.loc[0, \"start_time\"] = jobs_df.loc[0, \"arrive_time\"]\n",
    "jobs_df.loc[0, \"depart_time\"] = jobs_df.loc[0, \"start_time\"] + jobs_df.loc[0, \"service_time\"]"
   ]
  },
  {
   "cell_type": "code",
   "execution_count": 21,
   "id": "f3f1d97c",
   "metadata": {},
   "outputs": [],
   "source": [
    "for i in range(1, num_events):\n",
    "    jobs_df.loc[i, \"start_time\"] = max(jobs_df.loc[i, \"arrive_time\"], jobs_df.loc[i-1, \"depart_time\"])\n",
    "    jobs_df.loc[i, \"depart_time\"] = jobs_df.loc[i, \"start_time\"] + jobs_df.loc[i, \"service_time\"]"
   ]
  },
  {
   "cell_type": "markdown",
   "id": "2d1e4752",
   "metadata": {},
   "source": [
    "## 4 Estimate expected response time $E[T]$"
   ]
  },
  {
   "cell_type": "code",
   "execution_count": 22,
   "id": "5b54761d",
   "metadata": {},
   "outputs": [],
   "source": [
    "jobs_df[\"response_time\"] = jobs_df[\"depart_time\"] - jobs_df[\"arrive_time\"]"
   ]
  },
  {
   "cell_type": "code",
   "execution_count": 23,
   "id": "bee4f092",
   "metadata": {},
   "outputs": [
    {
     "data": {
      "text/html": [
       "<div>\n",
       "<style scoped>\n",
       "    .dataframe tbody tr th:only-of-type {\n",
       "        vertical-align: middle;\n",
       "    }\n",
       "\n",
       "    .dataframe tbody tr th {\n",
       "        vertical-align: top;\n",
       "    }\n",
       "\n",
       "    .dataframe thead th {\n",
       "        text-align: right;\n",
       "    }\n",
       "</style>\n",
       "<table border=\"1\" class=\"dataframe\">\n",
       "  <thead>\n",
       "    <tr style=\"text-align: right;\">\n",
       "      <th></th>\n",
       "      <th>arrive_time</th>\n",
       "      <th>service_time</th>\n",
       "      <th>start_time</th>\n",
       "      <th>depart_time</th>\n",
       "      <th>response_time</th>\n",
       "    </tr>\n",
       "  </thead>\n",
       "  <tbody>\n",
       "    <tr>\n",
       "      <th>0</th>\n",
       "      <td>0.150263</td>\n",
       "      <td>0.006686</td>\n",
       "      <td>0.150263</td>\n",
       "      <td>0.156949</td>\n",
       "      <td>0.006686</td>\n",
       "    </tr>\n",
       "    <tr>\n",
       "      <th>1</th>\n",
       "      <td>0.296275</td>\n",
       "      <td>0.012709</td>\n",
       "      <td>0.296275</td>\n",
       "      <td>0.308984</td>\n",
       "      <td>0.012709</td>\n",
       "    </tr>\n",
       "    <tr>\n",
       "      <th>2</th>\n",
       "      <td>0.445322</td>\n",
       "      <td>0.003286</td>\n",
       "      <td>0.445322</td>\n",
       "      <td>0.448609</td>\n",
       "      <td>0.003286</td>\n",
       "    </tr>\n",
       "    <tr>\n",
       "      <th>3</th>\n",
       "      <td>0.462810</td>\n",
       "      <td>0.085259</td>\n",
       "      <td>0.462810</td>\n",
       "      <td>0.548069</td>\n",
       "      <td>0.085259</td>\n",
       "    </tr>\n",
       "    <tr>\n",
       "      <th>4</th>\n",
       "      <td>0.468212</td>\n",
       "      <td>0.069995</td>\n",
       "      <td>0.548069</td>\n",
       "      <td>0.618064</td>\n",
       "      <td>0.149852</td>\n",
       "    </tr>\n",
       "    <tr>\n",
       "      <th>5</th>\n",
       "      <td>0.559003</td>\n",
       "      <td>0.024157</td>\n",
       "      <td>0.618064</td>\n",
       "      <td>0.642221</td>\n",
       "      <td>0.083217</td>\n",
       "    </tr>\n",
       "    <tr>\n",
       "      <th>6</th>\n",
       "      <td>0.647126</td>\n",
       "      <td>0.060197</td>\n",
       "      <td>0.647126</td>\n",
       "      <td>0.707323</td>\n",
       "      <td>0.060197</td>\n",
       "    </tr>\n",
       "    <tr>\n",
       "      <th>7</th>\n",
       "      <td>0.842394</td>\n",
       "      <td>0.123771</td>\n",
       "      <td>0.842394</td>\n",
       "      <td>0.966165</td>\n",
       "      <td>0.123771</td>\n",
       "    </tr>\n",
       "    <tr>\n",
       "      <th>8</th>\n",
       "      <td>0.847350</td>\n",
       "      <td>0.010453</td>\n",
       "      <td>0.966165</td>\n",
       "      <td>0.976618</td>\n",
       "      <td>0.129268</td>\n",
       "    </tr>\n",
       "    <tr>\n",
       "      <th>9</th>\n",
       "      <td>0.912760</td>\n",
       "      <td>0.026420</td>\n",
       "      <td>0.976618</td>\n",
       "      <td>1.003038</td>\n",
       "      <td>0.090278</td>\n",
       "    </tr>\n",
       "    <tr>\n",
       "      <th>10</th>\n",
       "      <td>0.917162</td>\n",
       "      <td>0.006130</td>\n",
       "      <td>1.003038</td>\n",
       "      <td>1.009168</td>\n",
       "      <td>0.092006</td>\n",
       "    </tr>\n",
       "    <tr>\n",
       "      <th>11</th>\n",
       "      <td>0.985226</td>\n",
       "      <td>0.000874</td>\n",
       "      <td>1.009168</td>\n",
       "      <td>1.010042</td>\n",
       "      <td>0.024816</td>\n",
       "    </tr>\n",
       "    <tr>\n",
       "      <th>12</th>\n",
       "      <td>1.093434</td>\n",
       "      <td>0.009579</td>\n",
       "      <td>1.093434</td>\n",
       "      <td>1.103014</td>\n",
       "      <td>0.009579</td>\n",
       "    </tr>\n",
       "    <tr>\n",
       "      <th>13</th>\n",
       "      <td>1.117615</td>\n",
       "      <td>0.055685</td>\n",
       "      <td>1.117615</td>\n",
       "      <td>1.173301</td>\n",
       "      <td>0.055685</td>\n",
       "    </tr>\n",
       "    <tr>\n",
       "      <th>14</th>\n",
       "      <td>1.194589</td>\n",
       "      <td>0.044073</td>\n",
       "      <td>1.194589</td>\n",
       "      <td>1.238662</td>\n",
       "      <td>0.044073</td>\n",
       "    </tr>\n",
       "    <tr>\n",
       "      <th>15</th>\n",
       "      <td>1.204200</td>\n",
       "      <td>0.029196</td>\n",
       "      <td>1.238662</td>\n",
       "      <td>1.267858</td>\n",
       "      <td>0.063658</td>\n",
       "    </tr>\n",
       "    <tr>\n",
       "      <th>16</th>\n",
       "      <td>1.209924</td>\n",
       "      <td>0.049259</td>\n",
       "      <td>1.267858</td>\n",
       "      <td>1.317117</td>\n",
       "      <td>0.107193</td>\n",
       "    </tr>\n",
       "    <tr>\n",
       "      <th>17</th>\n",
       "      <td>1.229623</td>\n",
       "      <td>0.104655</td>\n",
       "      <td>1.317117</td>\n",
       "      <td>1.421772</td>\n",
       "      <td>0.192150</td>\n",
       "    </tr>\n",
       "    <tr>\n",
       "      <th>18</th>\n",
       "      <td>1.285947</td>\n",
       "      <td>0.046502</td>\n",
       "      <td>1.421772</td>\n",
       "      <td>1.468275</td>\n",
       "      <td>0.182327</td>\n",
       "    </tr>\n",
       "    <tr>\n",
       "      <th>19</th>\n",
       "      <td>1.311759</td>\n",
       "      <td>0.077163</td>\n",
       "      <td>1.468275</td>\n",
       "      <td>1.545438</td>\n",
       "      <td>0.233679</td>\n",
       "    </tr>\n",
       "  </tbody>\n",
       "</table>\n",
       "</div>"
      ],
      "text/plain": [
       "    arrive_time  service_time  start_time  depart_time  response_time\n",
       "0      0.150263      0.006686    0.150263     0.156949       0.006686\n",
       "1      0.296275      0.012709    0.296275     0.308984       0.012709\n",
       "2      0.445322      0.003286    0.445322     0.448609       0.003286\n",
       "3      0.462810      0.085259    0.462810     0.548069       0.085259\n",
       "4      0.468212      0.069995    0.548069     0.618064       0.149852\n",
       "5      0.559003      0.024157    0.618064     0.642221       0.083217\n",
       "6      0.647126      0.060197    0.647126     0.707323       0.060197\n",
       "7      0.842394      0.123771    0.842394     0.966165       0.123771\n",
       "8      0.847350      0.010453    0.966165     0.976618       0.129268\n",
       "9      0.912760      0.026420    0.976618     1.003038       0.090278\n",
       "10     0.917162      0.006130    1.003038     1.009168       0.092006\n",
       "11     0.985226      0.000874    1.009168     1.010042       0.024816\n",
       "12     1.093434      0.009579    1.093434     1.103014       0.009579\n",
       "13     1.117615      0.055685    1.117615     1.173301       0.055685\n",
       "14     1.194589      0.044073    1.194589     1.238662       0.044073\n",
       "15     1.204200      0.029196    1.238662     1.267858       0.063658\n",
       "16     1.209924      0.049259    1.267858     1.317117       0.107193\n",
       "17     1.229623      0.104655    1.317117     1.421772       0.192150\n",
       "18     1.285947      0.046502    1.421772     1.468275       0.182327\n",
       "19     1.311759      0.077163    1.468275     1.545438       0.233679"
      ]
     },
     "execution_count": 23,
     "metadata": {},
     "output_type": "execute_result"
    }
   ],
   "source": [
    "jobs_df.head(20)"
   ]
  },
  {
   "cell_type": "code",
   "execution_count": 24,
   "id": "900205f3",
   "metadata": {},
   "outputs": [],
   "source": [
    "mean_response_time = jobs_df[\"response_time\"].mean()"
   ]
  },
  {
   "cell_type": "code",
   "execution_count": 25,
   "id": "3eac9bd0",
   "metadata": {},
   "outputs": [
    {
     "data": {
      "text/plain": [
       "0.34052028527578576"
      ]
     },
     "execution_count": 25,
     "metadata": {},
     "output_type": "execute_result"
    }
   ],
   "source": [
    "mean_response_time"
   ]
  },
  {
   "cell_type": "markdown",
   "id": "463d35d8",
   "metadata": {},
   "source": [
    "## 5 Estimate expected job count $E[N]$"
   ]
  },
  {
   "cell_type": "code",
   "execution_count": 26,
   "id": "b15301ef",
   "metadata": {},
   "outputs": [],
   "source": [
    "# Build intervals and their corresponding job counts so we can calculate E[N].\n",
    "# To do this, we will have two pointers: one for the arrival times and the other for the end (departure) times.\n",
    "# At each iteration, the lower-valued pointer is the next interval's upper bound. We increment the job count\n",
    "# whenever we choose the arrival time and we decrement the job count whenever we choose the end time.\n",
    "def build_intervals(arrivals, departures):\n",
    "    intervals_df = pd.DataFrame(columns=[\"lo_bd\", \"up_bd\", \"width\", \"num_jobs\"])\n",
    "\n",
    "    lo_bd = 0.0\n",
    "    arrival_idx = 0\n",
    "    end_idx = 0\n",
    "    num_jobs = 0\n",
    "    while arrival_idx < num_events and end_idx < num_events:\n",
    "        num_jobs_orig = num_jobs\n",
    "        curr_arrival = arrivals[arrival_idx]\n",
    "        curr_end = departures[end_idx]\n",
    "        if curr_arrival < curr_end:\n",
    "            num_jobs = num_jobs + 1\n",
    "            up_bd = curr_arrival\n",
    "            arrival_idx = arrival_idx + 1\n",
    "        else:\n",
    "            num_jobs = num_jobs - 1\n",
    "            up_bd = curr_end\n",
    "            end_idx = end_idx + 1\n",
    "\n",
    "        width = up_bd - lo_bd\n",
    "        intervals_df = intervals_df.append({\n",
    "            \"lo_bd\": lo_bd,\n",
    "            \"up_bd\": up_bd,\n",
    "            \"width\": width,\n",
    "            \"num_jobs\": num_jobs,\n",
    "            \"num_jobs_change\": num_jobs - num_jobs_orig,\n",
    "            \"weighted_num_jobs\": width * num_jobs\n",
    "        }, ignore_index=True)\n",
    "\n",
    "        lo_bd = up_bd\n",
    "    \n",
    "    return intervals_df"
   ]
  },
  {
   "cell_type": "code",
   "execution_count": 27,
   "id": "b1870aa3",
   "metadata": {},
   "outputs": [
    {
     "data": {
      "text/html": [
       "<div>\n",
       "<style scoped>\n",
       "    .dataframe tbody tr th:only-of-type {\n",
       "        vertical-align: middle;\n",
       "    }\n",
       "\n",
       "    .dataframe tbody tr th {\n",
       "        vertical-align: top;\n",
       "    }\n",
       "\n",
       "    .dataframe thead th {\n",
       "        text-align: right;\n",
       "    }\n",
       "</style>\n",
       "<table border=\"1\" class=\"dataframe\">\n",
       "  <thead>\n",
       "    <tr style=\"text-align: right;\">\n",
       "      <th></th>\n",
       "      <th>lo_bd</th>\n",
       "      <th>up_bd</th>\n",
       "      <th>width</th>\n",
       "      <th>num_jobs</th>\n",
       "      <th>num_jobs_change</th>\n",
       "      <th>weighted_num_jobs</th>\n",
       "    </tr>\n",
       "  </thead>\n",
       "  <tbody>\n",
       "    <tr>\n",
       "      <th>0</th>\n",
       "      <td>0.000000</td>\n",
       "      <td>0.150263</td>\n",
       "      <td>0.150263</td>\n",
       "      <td>1.0</td>\n",
       "      <td>1.0</td>\n",
       "      <td>0.150263</td>\n",
       "    </tr>\n",
       "    <tr>\n",
       "      <th>1</th>\n",
       "      <td>0.150263</td>\n",
       "      <td>0.156949</td>\n",
       "      <td>0.006686</td>\n",
       "      <td>0.0</td>\n",
       "      <td>-1.0</td>\n",
       "      <td>0.000000</td>\n",
       "    </tr>\n",
       "    <tr>\n",
       "      <th>2</th>\n",
       "      <td>0.156949</td>\n",
       "      <td>0.296275</td>\n",
       "      <td>0.139326</td>\n",
       "      <td>1.0</td>\n",
       "      <td>1.0</td>\n",
       "      <td>0.139326</td>\n",
       "    </tr>\n",
       "    <tr>\n",
       "      <th>3</th>\n",
       "      <td>0.296275</td>\n",
       "      <td>0.308984</td>\n",
       "      <td>0.012709</td>\n",
       "      <td>0.0</td>\n",
       "      <td>-1.0</td>\n",
       "      <td>0.000000</td>\n",
       "    </tr>\n",
       "    <tr>\n",
       "      <th>4</th>\n",
       "      <td>0.308984</td>\n",
       "      <td>0.445322</td>\n",
       "      <td>0.136339</td>\n",
       "      <td>1.0</td>\n",
       "      <td>1.0</td>\n",
       "      <td>0.136339</td>\n",
       "    </tr>\n",
       "    <tr>\n",
       "      <th>5</th>\n",
       "      <td>0.445322</td>\n",
       "      <td>0.448609</td>\n",
       "      <td>0.003286</td>\n",
       "      <td>0.0</td>\n",
       "      <td>-1.0</td>\n",
       "      <td>0.000000</td>\n",
       "    </tr>\n",
       "    <tr>\n",
       "      <th>6</th>\n",
       "      <td>0.448609</td>\n",
       "      <td>0.462810</td>\n",
       "      <td>0.014201</td>\n",
       "      <td>1.0</td>\n",
       "      <td>1.0</td>\n",
       "      <td>0.014201</td>\n",
       "    </tr>\n",
       "    <tr>\n",
       "      <th>7</th>\n",
       "      <td>0.462810</td>\n",
       "      <td>0.468212</td>\n",
       "      <td>0.005402</td>\n",
       "      <td>2.0</td>\n",
       "      <td>1.0</td>\n",
       "      <td>0.010805</td>\n",
       "    </tr>\n",
       "    <tr>\n",
       "      <th>8</th>\n",
       "      <td>0.468212</td>\n",
       "      <td>0.548069</td>\n",
       "      <td>0.079857</td>\n",
       "      <td>1.0</td>\n",
       "      <td>-1.0</td>\n",
       "      <td>0.079857</td>\n",
       "    </tr>\n",
       "    <tr>\n",
       "      <th>9</th>\n",
       "      <td>0.548069</td>\n",
       "      <td>0.559003</td>\n",
       "      <td>0.010934</td>\n",
       "      <td>2.0</td>\n",
       "      <td>1.0</td>\n",
       "      <td>0.021869</td>\n",
       "    </tr>\n",
       "    <tr>\n",
       "      <th>10</th>\n",
       "      <td>0.559003</td>\n",
       "      <td>0.618064</td>\n",
       "      <td>0.059060</td>\n",
       "      <td>1.0</td>\n",
       "      <td>-1.0</td>\n",
       "      <td>0.059060</td>\n",
       "    </tr>\n",
       "    <tr>\n",
       "      <th>11</th>\n",
       "      <td>0.618064</td>\n",
       "      <td>0.642221</td>\n",
       "      <td>0.024157</td>\n",
       "      <td>0.0</td>\n",
       "      <td>-1.0</td>\n",
       "      <td>0.000000</td>\n",
       "    </tr>\n",
       "    <tr>\n",
       "      <th>12</th>\n",
       "      <td>0.642221</td>\n",
       "      <td>0.647126</td>\n",
       "      <td>0.004905</td>\n",
       "      <td>1.0</td>\n",
       "      <td>1.0</td>\n",
       "      <td>0.004905</td>\n",
       "    </tr>\n",
       "    <tr>\n",
       "      <th>13</th>\n",
       "      <td>0.647126</td>\n",
       "      <td>0.707323</td>\n",
       "      <td>0.060197</td>\n",
       "      <td>0.0</td>\n",
       "      <td>-1.0</td>\n",
       "      <td>0.000000</td>\n",
       "    </tr>\n",
       "    <tr>\n",
       "      <th>14</th>\n",
       "      <td>0.707323</td>\n",
       "      <td>0.842394</td>\n",
       "      <td>0.135071</td>\n",
       "      <td>1.0</td>\n",
       "      <td>1.0</td>\n",
       "      <td>0.135071</td>\n",
       "    </tr>\n",
       "    <tr>\n",
       "      <th>15</th>\n",
       "      <td>0.842394</td>\n",
       "      <td>0.847350</td>\n",
       "      <td>0.004956</td>\n",
       "      <td>2.0</td>\n",
       "      <td>1.0</td>\n",
       "      <td>0.009912</td>\n",
       "    </tr>\n",
       "    <tr>\n",
       "      <th>16</th>\n",
       "      <td>0.847350</td>\n",
       "      <td>0.912760</td>\n",
       "      <td>0.065410</td>\n",
       "      <td>3.0</td>\n",
       "      <td>1.0</td>\n",
       "      <td>0.196230</td>\n",
       "    </tr>\n",
       "    <tr>\n",
       "      <th>17</th>\n",
       "      <td>0.912760</td>\n",
       "      <td>0.917162</td>\n",
       "      <td>0.004402</td>\n",
       "      <td>4.0</td>\n",
       "      <td>1.0</td>\n",
       "      <td>0.017609</td>\n",
       "    </tr>\n",
       "    <tr>\n",
       "      <th>18</th>\n",
       "      <td>0.917162</td>\n",
       "      <td>0.966165</td>\n",
       "      <td>0.049003</td>\n",
       "      <td>3.0</td>\n",
       "      <td>-1.0</td>\n",
       "      <td>0.147008</td>\n",
       "    </tr>\n",
       "    <tr>\n",
       "      <th>19</th>\n",
       "      <td>0.966165</td>\n",
       "      <td>0.976618</td>\n",
       "      <td>0.010453</td>\n",
       "      <td>2.0</td>\n",
       "      <td>-1.0</td>\n",
       "      <td>0.020906</td>\n",
       "    </tr>\n",
       "  </tbody>\n",
       "</table>\n",
       "</div>"
      ],
      "text/plain": [
       "       lo_bd     up_bd     width  num_jobs  num_jobs_change  weighted_num_jobs\n",
       "0   0.000000  0.150263  0.150263       1.0              1.0           0.150263\n",
       "1   0.150263  0.156949  0.006686       0.0             -1.0           0.000000\n",
       "2   0.156949  0.296275  0.139326       1.0              1.0           0.139326\n",
       "3   0.296275  0.308984  0.012709       0.0             -1.0           0.000000\n",
       "4   0.308984  0.445322  0.136339       1.0              1.0           0.136339\n",
       "5   0.445322  0.448609  0.003286       0.0             -1.0           0.000000\n",
       "6   0.448609  0.462810  0.014201       1.0              1.0           0.014201\n",
       "7   0.462810  0.468212  0.005402       2.0              1.0           0.010805\n",
       "8   0.468212  0.548069  0.079857       1.0             -1.0           0.079857\n",
       "9   0.548069  0.559003  0.010934       2.0              1.0           0.021869\n",
       "10  0.559003  0.618064  0.059060       1.0             -1.0           0.059060\n",
       "11  0.618064  0.642221  0.024157       0.0             -1.0           0.000000\n",
       "12  0.642221  0.647126  0.004905       1.0              1.0           0.004905\n",
       "13  0.647126  0.707323  0.060197       0.0             -1.0           0.000000\n",
       "14  0.707323  0.842394  0.135071       1.0              1.0           0.135071\n",
       "15  0.842394  0.847350  0.004956       2.0              1.0           0.009912\n",
       "16  0.847350  0.912760  0.065410       3.0              1.0           0.196230\n",
       "17  0.912760  0.917162  0.004402       4.0              1.0           0.017609\n",
       "18  0.917162  0.966165  0.049003       3.0             -1.0           0.147008\n",
       "19  0.966165  0.976618  0.010453       2.0             -1.0           0.020906"
      ]
     },
     "execution_count": 27,
     "metadata": {},
     "output_type": "execute_result"
    }
   ],
   "source": [
    "intervals_df = build_intervals(jobs_df[\"arrive_time\"], jobs_df[\"depart_time\"])\n",
    "intervals_df.head(20)"
   ]
  },
  {
   "cell_type": "code",
   "execution_count": 28,
   "id": "6943543e",
   "metadata": {},
   "outputs": [
    {
     "data": {
      "image/png": "[encoded data removed]",
      "text/plain": [
       "<Figure size 1008x288 with 1 Axes>"
      ]
     },
     "metadata": {
      "needs_background": "light"
     },
     "output_type": "display_data"
    }
   ],
   "source": [
    "intervals_df.plot(\n",
    "    x=\"lo_bd\",\n",
    "    y=\"num_jobs\",\n",
    "    title=\"Job count over time\",\n",
    "    xlabel=\"Time\",\n",
    "    ylabel=\"Job count\",\n",
    "    figsize=(14, 4))\n",
    "plt.show()"
   ]
  },
  {
   "cell_type": "markdown",
   "id": "d4a1eb43",
   "metadata": {},
   "source": [
    "## 6 Apply Little's Law"
   ]
  },
  {
   "cell_type": "code",
   "execution_count": 29,
   "id": "18e39177",
   "metadata": {},
   "outputs": [],
   "source": [
    "total_weighted_num_jobs = intervals_df[\"weighted_num_jobs\"].sum()\n",
    "total_width = intervals_df.iloc[-1][\"up_bd\"]\n",
    "mean_num_jobs = total_weighted_num_jobs / total_width"
   ]
  },
  {
   "cell_type": "code",
   "execution_count": 30,
   "id": "a729b4de",
   "metadata": {},
   "outputs": [
    {
     "name": "stdout",
     "output_type": "stream",
     "text": [
      "total_weighted_num_jobs =1380.4451295668437\n",
      "total_width             =250.01591604612148\n",
      "mean_num_jobs           =5.521429000992829\n"
     ]
    }
   ],
   "source": [
    "print(f\"total_weighted_num_jobs ={total_weighted_num_jobs}\")\n",
    "print(f\"total_width             ={total_width}\")\n",
    "print(f\"mean_num_jobs           ={mean_num_jobs}\")"
   ]
  },
  {
   "cell_type": "code",
   "execution_count": 31,
   "id": "de7cc469",
   "metadata": {},
   "outputs": [
    {
     "data": {
      "text/plain": [
       "5.448324564412572"
      ]
     },
     "execution_count": 31,
     "metadata": {},
     "output_type": "execute_result"
    }
   ],
   "source": [
    "# Little's Law verification\n",
    "mean_arrival_rate * mean_response_time"
   ]
  },
  {
   "cell_type": "markdown",
   "id": "ed3ece32",
   "metadata": {},
   "source": [
    "## 7 Estimate utilization "
   ]
  },
  {
   "cell_type": "code",
   "execution_count": 32,
   "id": "051c3fb2",
   "metadata": {},
   "outputs": [],
   "source": [
    "busy = intervals_df.loc[intervals_df[\"num_jobs\"] > 0.0, \"width\"].sum()\n",
    "util = busy / total_width"
   ]
  },
  {
   "cell_type": "code",
   "execution_count": 33,
   "id": "349aa2ac",
   "metadata": {},
   "outputs": [
    {
     "data": {
      "text/plain": [
       "0.9328865166743321"
      ]
     },
     "execution_count": 33,
     "metadata": {},
     "output_type": "execute_result"
    }
   ],
   "source": [
    "util"
   ]
  },
  {
   "cell_type": "markdown",
   "id": "ca70cc4d",
   "metadata": {},
   "source": [
    "## 8 Estimate throughput "
   ]
  },
  {
   "cell_type": "code",
   "execution_count": 34,
   "id": "d566789c",
   "metadata": {},
   "outputs": [
    {
     "name": "stdout",
     "output_type": "stream",
     "text": [
      "num_events        =4000\n",
      "total_width       =250.01591604612148\n",
      "mean_arrival_rate =16.0\n",
      "mean_service_rate =18.0\n"
     ]
    }
   ],
   "source": [
    "print(f\"num_events        ={num_events}\")\n",
    "print(f\"total_width       ={total_width}\")\n",
    "print(f\"mean_arrival_rate ={mean_arrival_rate}\")\n",
    "print(f\"mean_service_rate ={mean_service_rate}\")"
   ]
  },
  {
   "cell_type": "code",
   "execution_count": 35,
   "id": "9587c3c5",
   "metadata": {},
   "outputs": [
    {
     "data": {
      "image/png": "[encoded data removed]",
      "text/plain": [
       "<Figure size 432x288 with 1 Axes>"
      ]
     },
     "metadata": {
      "needs_background": "light"
     },
     "output_type": "display_data"
    }
   ],
   "source": [
    "completions = intervals_df.loc[intervals_df[\"num_jobs_change\"] == -1.0, \"up_bd\"]\n",
    "completion_counts, _, _ = plt.hist(completions, bins=int(total_width))\n",
    "plt.show()"
   ]
  },
  {
   "cell_type": "code",
   "execution_count": 36,
   "id": "89afe63e",
   "metadata": {},
   "outputs": [
    {
     "data": {
      "text/plain": [
       "15.992"
      ]
     },
     "execution_count": 36,
     "metadata": {},
     "output_type": "execute_result"
    }
   ],
   "source": [
    "# Jobs completed per bin\n",
    "mean_throughput = np.mean(completion_counts)\n",
    "mean_throughput"
   ]
  },
  {
   "cell_type": "markdown",
   "id": "1b4f4b3b",
   "metadata": {},
   "source": [
    "## 9 Estimate wait time "
   ]
  },
  {
   "cell_type": "code",
   "execution_count": 37,
   "id": "b13f31f5",
   "metadata": {},
   "outputs": [],
   "source": [
    "jobs_df[\"wait_time\"] = jobs_df[\"start_time\"] - jobs_df[\"arrive_time\"]"
   ]
  },
  {
   "cell_type": "code",
   "execution_count": 38,
   "id": "6a43b0ea",
   "metadata": {},
   "outputs": [
    {
     "data": {
      "text/html": [
       "<div>\n",
       "<style scoped>\n",
       "    .dataframe tbody tr th:only-of-type {\n",
       "        vertical-align: middle;\n",
       "    }\n",
       "\n",
       "    .dataframe tbody tr th {\n",
       "        vertical-align: top;\n",
       "    }\n",
       "\n",
       "    .dataframe thead th {\n",
       "        text-align: right;\n",
       "    }\n",
       "</style>\n",
       "<table border=\"1\" class=\"dataframe\">\n",
       "  <thead>\n",
       "    <tr style=\"text-align: right;\">\n",
       "      <th></th>\n",
       "      <th>arrive_time</th>\n",
       "      <th>service_time</th>\n",
       "      <th>start_time</th>\n",
       "      <th>depart_time</th>\n",
       "      <th>response_time</th>\n",
       "      <th>wait_time</th>\n",
       "    </tr>\n",
       "  </thead>\n",
       "  <tbody>\n",
       "    <tr>\n",
       "      <th>0</th>\n",
       "      <td>0.150263</td>\n",
       "      <td>0.006686</td>\n",
       "      <td>0.150263</td>\n",
       "      <td>0.156949</td>\n",
       "      <td>0.006686</td>\n",
       "      <td>0.000000</td>\n",
       "    </tr>\n",
       "    <tr>\n",
       "      <th>1</th>\n",
       "      <td>0.296275</td>\n",
       "      <td>0.012709</td>\n",
       "      <td>0.296275</td>\n",
       "      <td>0.308984</td>\n",
       "      <td>0.012709</td>\n",
       "      <td>0.000000</td>\n",
       "    </tr>\n",
       "    <tr>\n",
       "      <th>2</th>\n",
       "      <td>0.445322</td>\n",
       "      <td>0.003286</td>\n",
       "      <td>0.445322</td>\n",
       "      <td>0.448609</td>\n",
       "      <td>0.003286</td>\n",
       "      <td>0.000000</td>\n",
       "    </tr>\n",
       "    <tr>\n",
       "      <th>3</th>\n",
       "      <td>0.462810</td>\n",
       "      <td>0.085259</td>\n",
       "      <td>0.462810</td>\n",
       "      <td>0.548069</td>\n",
       "      <td>0.085259</td>\n",
       "      <td>0.000000</td>\n",
       "    </tr>\n",
       "    <tr>\n",
       "      <th>4</th>\n",
       "      <td>0.468212</td>\n",
       "      <td>0.069995</td>\n",
       "      <td>0.548069</td>\n",
       "      <td>0.618064</td>\n",
       "      <td>0.149852</td>\n",
       "      <td>0.079857</td>\n",
       "    </tr>\n",
       "    <tr>\n",
       "      <th>5</th>\n",
       "      <td>0.559003</td>\n",
       "      <td>0.024157</td>\n",
       "      <td>0.618064</td>\n",
       "      <td>0.642221</td>\n",
       "      <td>0.083217</td>\n",
       "      <td>0.059060</td>\n",
       "    </tr>\n",
       "    <tr>\n",
       "      <th>6</th>\n",
       "      <td>0.647126</td>\n",
       "      <td>0.060197</td>\n",
       "      <td>0.647126</td>\n",
       "      <td>0.707323</td>\n",
       "      <td>0.060197</td>\n",
       "      <td>0.000000</td>\n",
       "    </tr>\n",
       "    <tr>\n",
       "      <th>7</th>\n",
       "      <td>0.842394</td>\n",
       "      <td>0.123771</td>\n",
       "      <td>0.842394</td>\n",
       "      <td>0.966165</td>\n",
       "      <td>0.123771</td>\n",
       "      <td>0.000000</td>\n",
       "    </tr>\n",
       "    <tr>\n",
       "      <th>8</th>\n",
       "      <td>0.847350</td>\n",
       "      <td>0.010453</td>\n",
       "      <td>0.966165</td>\n",
       "      <td>0.976618</td>\n",
       "      <td>0.129268</td>\n",
       "      <td>0.118815</td>\n",
       "    </tr>\n",
       "    <tr>\n",
       "      <th>9</th>\n",
       "      <td>0.912760</td>\n",
       "      <td>0.026420</td>\n",
       "      <td>0.976618</td>\n",
       "      <td>1.003038</td>\n",
       "      <td>0.090278</td>\n",
       "      <td>0.063858</td>\n",
       "    </tr>\n",
       "    <tr>\n",
       "      <th>10</th>\n",
       "      <td>0.917162</td>\n",
       "      <td>0.006130</td>\n",
       "      <td>1.003038</td>\n",
       "      <td>1.009168</td>\n",
       "      <td>0.092006</td>\n",
       "      <td>0.085876</td>\n",
       "    </tr>\n",
       "    <tr>\n",
       "      <th>11</th>\n",
       "      <td>0.985226</td>\n",
       "      <td>0.000874</td>\n",
       "      <td>1.009168</td>\n",
       "      <td>1.010042</td>\n",
       "      <td>0.024816</td>\n",
       "      <td>0.023942</td>\n",
       "    </tr>\n",
       "    <tr>\n",
       "      <th>12</th>\n",
       "      <td>1.093434</td>\n",
       "      <td>0.009579</td>\n",
       "      <td>1.093434</td>\n",
       "      <td>1.103014</td>\n",
       "      <td>0.009579</td>\n",
       "      <td>0.000000</td>\n",
       "    </tr>\n",
       "    <tr>\n",
       "      <th>13</th>\n",
       "      <td>1.117615</td>\n",
       "      <td>0.055685</td>\n",
       "      <td>1.117615</td>\n",
       "      <td>1.173301</td>\n",
       "      <td>0.055685</td>\n",
       "      <td>0.000000</td>\n",
       "    </tr>\n",
       "    <tr>\n",
       "      <th>14</th>\n",
       "      <td>1.194589</td>\n",
       "      <td>0.044073</td>\n",
       "      <td>1.194589</td>\n",
       "      <td>1.238662</td>\n",
       "      <td>0.044073</td>\n",
       "      <td>0.000000</td>\n",
       "    </tr>\n",
       "    <tr>\n",
       "      <th>15</th>\n",
       "      <td>1.204200</td>\n",
       "      <td>0.029196</td>\n",
       "      <td>1.238662</td>\n",
       "      <td>1.267858</td>\n",
       "      <td>0.063658</td>\n",
       "      <td>0.034462</td>\n",
       "    </tr>\n",
       "    <tr>\n",
       "      <th>16</th>\n",
       "      <td>1.209924</td>\n",
       "      <td>0.049259</td>\n",
       "      <td>1.267858</td>\n",
       "      <td>1.317117</td>\n",
       "      <td>0.107193</td>\n",
       "      <td>0.057934</td>\n",
       "    </tr>\n",
       "    <tr>\n",
       "      <th>17</th>\n",
       "      <td>1.229623</td>\n",
       "      <td>0.104655</td>\n",
       "      <td>1.317117</td>\n",
       "      <td>1.421772</td>\n",
       "      <td>0.192150</td>\n",
       "      <td>0.087495</td>\n",
       "    </tr>\n",
       "    <tr>\n",
       "      <th>18</th>\n",
       "      <td>1.285947</td>\n",
       "      <td>0.046502</td>\n",
       "      <td>1.421772</td>\n",
       "      <td>1.468275</td>\n",
       "      <td>0.182327</td>\n",
       "      <td>0.135825</td>\n",
       "    </tr>\n",
       "    <tr>\n",
       "      <th>19</th>\n",
       "      <td>1.311759</td>\n",
       "      <td>0.077163</td>\n",
       "      <td>1.468275</td>\n",
       "      <td>1.545438</td>\n",
       "      <td>0.233679</td>\n",
       "      <td>0.156516</td>\n",
       "    </tr>\n",
       "  </tbody>\n",
       "</table>\n",
       "</div>"
      ],
      "text/plain": [
       "    arrive_time  service_time  start_time  depart_time  response_time  \\\n",
       "0      0.150263      0.006686    0.150263     0.156949       0.006686   \n",
       "1      0.296275      0.012709    0.296275     0.308984       0.012709   \n",
       "2      0.445322      0.003286    0.445322     0.448609       0.003286   \n",
       "3      0.462810      0.085259    0.462810     0.548069       0.085259   \n",
       "4      0.468212      0.069995    0.548069     0.618064       0.149852   \n",
       "5      0.559003      0.024157    0.618064     0.642221       0.083217   \n",
       "6      0.647126      0.060197    0.647126     0.707323       0.060197   \n",
       "7      0.842394      0.123771    0.842394     0.966165       0.123771   \n",
       "8      0.847350      0.010453    0.966165     0.976618       0.129268   \n",
       "9      0.912760      0.026420    0.976618     1.003038       0.090278   \n",
       "10     0.917162      0.006130    1.003038     1.009168       0.092006   \n",
       "11     0.985226      0.000874    1.009168     1.010042       0.024816   \n",
       "12     1.093434      0.009579    1.093434     1.103014       0.009579   \n",
       "13     1.117615      0.055685    1.117615     1.173301       0.055685   \n",
       "14     1.194589      0.044073    1.194589     1.238662       0.044073   \n",
       "15     1.204200      0.029196    1.238662     1.267858       0.063658   \n",
       "16     1.209924      0.049259    1.267858     1.317117       0.107193   \n",
       "17     1.229623      0.104655    1.317117     1.421772       0.192150   \n",
       "18     1.285947      0.046502    1.421772     1.468275       0.182327   \n",
       "19     1.311759      0.077163    1.468275     1.545438       0.233679   \n",
       "\n",
       "    wait_time  \n",
       "0    0.000000  \n",
       "1    0.000000  \n",
       "2    0.000000  \n",
       "3    0.000000  \n",
       "4    0.079857  \n",
       "5    0.059060  \n",
       "6    0.000000  \n",
       "7    0.000000  \n",
       "8    0.118815  \n",
       "9    0.063858  \n",
       "10   0.085876  \n",
       "11   0.023942  \n",
       "12   0.000000  \n",
       "13   0.000000  \n",
       "14   0.000000  \n",
       "15   0.034462  \n",
       "16   0.057934  \n",
       "17   0.087495  \n",
       "18   0.135825  \n",
       "19   0.156516  "
      ]
     },
     "execution_count": 38,
     "metadata": {},
     "output_type": "execute_result"
    }
   ],
   "source": [
    "jobs_df.head(20)"
   ]
  },
  {
   "cell_type": "code",
   "execution_count": 39,
   "id": "22a4bc62",
   "metadata": {},
   "outputs": [
    {
     "data": {
      "text/plain": [
       "0.28666555397305143"
      ]
     },
     "execution_count": 39,
     "metadata": {},
     "output_type": "execute_result"
    }
   ],
   "source": [
    "mean_wait_time = np.mean(jobs_df[\"wait_time\"])\n",
    "mean_wait_time"
   ]
  },
  {
   "cell_type": "code",
   "execution_count": 40,
   "id": "70c56d39",
   "metadata": {},
   "outputs": [
    {
     "name": "stdout",
     "output_type": "stream",
     "text": [
      "mean_response_time                 =0.34052028527578576\n",
      "mean_wait_time + mean_service_time =0.34222110952860696\n"
     ]
    }
   ],
   "source": [
    "# Note: E[response_time] = E[wait_time] + E[service_time]\n",
    "print(f\"mean_response_time                 ={mean_response_time}\")\n",
    "print(f\"mean_wait_time + mean_service_time ={mean_wait_time + mean_service_time}\")"
   ]
  },
  {
   "cell_type": "code",
   "execution_count": null,
   "id": "d035c020",
   "metadata": {},
   "outputs": [],
   "source": []
  }
 ],
 "metadata": {
  "kernelspec": {
   "display_name": "Python 3 (ipykernel)",
   "language": "python",
   "name": "python3"
  },
  "language_info": {
   "codemirror_mode": {
    "name": "ipython",
    "version": 3
   },
   "file_extension": ".py",
   "mimetype": "text/x-python",
   "name": "python",
   "nbconvert_exporter": "python",
   "pygments_lexer": "ipython3",
   "version": "3.9.6"
  }
 },
 "nbformat": 4,
 "nbformat_minor": 5
}
