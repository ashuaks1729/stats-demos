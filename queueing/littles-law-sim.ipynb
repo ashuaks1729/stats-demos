{
 "cells": [
  {
   "cell_type": "markdown",
   "id": "81d2534e",
   "metadata": {},
   "source": [
    "# Little's Law simulation"
   ]
  },
  {
   "cell_type": "markdown",
   "id": "dd4d5854",
   "metadata": {},
   "source": [
    "Little's Law for open systems:\n",
    "\n",
    "$$ E[N] = \\lambda E[T] $$\n",
    "\n",
    "where\n",
    "\n",
    "- $N$ = number of jobs in the system\n",
    "- $T$ = response time (departure time minus arrival time)"
   ]
  },
  {
   "cell_type": "code",
   "execution_count": 96,
   "id": "f495faeb",
   "metadata": {},
   "outputs": [],
   "source": [
    "import numpy as np\n",
    "import pandas as pd\n",
    "import random\n",
    "import matplotlib.pyplot as plt"
   ]
  },
  {
   "cell_type": "code",
   "execution_count": 97,
   "id": "e734a2a9",
   "metadata": {},
   "outputs": [],
   "source": [
    "rng = np.random.default_rng(42)"
   ]
  },
  {
   "cell_type": "code",
   "execution_count": 98,
   "id": "a8194dd9",
   "metadata": {},
   "outputs": [],
   "source": [
    "num_events = 5000"
   ]
  },
  {
   "cell_type": "markdown",
   "id": "46380496",
   "metadata": {},
   "source": [
    "## 1 Arrival times "
   ]
  },
  {
   "cell_type": "code",
   "execution_count": 99,
   "id": "ec8dea5f",
   "metadata": {},
   "outputs": [],
   "source": [
    "mean_arrival_rate = 16.0  # this is lambda\n",
    "mean_interarrival_time = 1.0 / mean_arrival_rate\n",
    "num_bins_arrival = int(num_events / mean_arrival_rate)"
   ]
  },
  {
   "cell_type": "code",
   "execution_count": 100,
   "id": "3dc8d428",
   "metadata": {},
   "outputs": [],
   "source": [
    "interarrival_times = rng.exponential(scale=mean_interarrival_time, size=num_events)"
   ]
  },
  {
   "cell_type": "code",
   "execution_count": 101,
   "id": "899d96b5",
   "metadata": {},
   "outputs": [
    {
     "data": {
      "text/plain": [
       "array([0.15026304, 0.14601185, 0.14904756, 0.01748714, 0.00540234,\n",
       "       0.09079128, 0.08812254, 0.1952685 , 0.00495589, 0.06541005,\n",
       "       0.00440227, 0.06806398, 0.10820796, 0.02418093, 0.0769741 ])"
      ]
     },
     "execution_count": 101,
     "metadata": {},
     "output_type": "execute_result"
    }
   ],
   "source": [
    "interarrival_times[0:15]"
   ]
  },
  {
   "cell_type": "code",
   "execution_count": 102,
   "id": "ed8a480f",
   "metadata": {},
   "outputs": [
    {
     "name": "stdout",
     "output_type": "stream",
     "text": [
      "mean_interarrival_time_actual   =0.0625\n",
      "mean_interarrival_time_observed =0.06148502588802146\n"
     ]
    }
   ],
   "source": [
    "print(f\"mean_interarrival_time_actual   ={mean_interarrival_time}\")\n",
    "print(f\"mean_interarrival_time_observed ={np.mean(interarrival_times)}\")"
   ]
  },
  {
   "cell_type": "code",
   "execution_count": 103,
   "id": "f8c56818",
   "metadata": {},
   "outputs": [
    {
     "data": {
      "image/png": "[encoded data removed]",
      "text/plain": [
       "<Figure size 432x288 with 1 Axes>"
      ]
     },
     "metadata": {
      "needs_background": "light"
     },
     "output_type": "display_data"
    }
   ],
   "source": [
    "plt.hist(interarrival_times, bins=num_bins_arrival)\n",
    "plt.show()"
   ]
  },
  {
   "cell_type": "code",
   "execution_count": 104,
   "id": "b450477c",
   "metadata": {},
   "outputs": [],
   "source": [
    "arrival_times = np.cumsum(interarrival_times)"
   ]
  },
  {
   "cell_type": "code",
   "execution_count": 105,
   "id": "356f6fa2",
   "metadata": {},
   "outputs": [
    {
     "data": {
      "text/plain": [
       "(5000,)"
      ]
     },
     "execution_count": 105,
     "metadata": {},
     "output_type": "execute_result"
    }
   ],
   "source": [
    "arrival_times.shape"
   ]
  },
  {
   "cell_type": "code",
   "execution_count": 106,
   "id": "a15f0727",
   "metadata": {},
   "outputs": [
    {
     "data": {
      "text/plain": [
       "array([0.15026304, 0.29627489, 0.44532245, 0.4628096 , 0.46821193,\n",
       "       0.55900322, 0.64712576, 0.84239426, 0.84735014, 0.9127602 ,\n",
       "       0.91716247, 0.98522644, 1.0934344 , 1.11761533, 1.19458943,\n",
       "       1.20420026, 1.20992384, 1.22962254, 1.2859475 , 1.31175908,\n",
       "       1.3897207 , 1.40369422, 1.51856737, 1.59526023, 1.63624749,\n",
       "       1.66231541, 1.69064789, 1.69546521, 1.70669223, 1.74952476,\n",
       "       1.77381727, 1.8528302 , 1.89711086, 1.91198149, 1.94079951,\n",
       "       1.9808968 , 2.00238639, 2.02250584, 2.07743801, 2.09599721,\n",
       "       2.17935361, 2.26628261, 2.33403779, 2.33860206, 2.40948128,\n",
       "       2.49412741, 2.56425489, 2.58175796, 2.60181647, 2.61217496,\n",
       "       2.63432268, 2.63564392, 2.64610369, 2.72829474, 2.97802951,\n",
       "       3.01325064, 3.03100312, 3.05586289, 3.07844678, 3.08654888,\n",
       "       3.1542567 , 3.24024725, 3.33448532, 3.666353  , 3.79801926,\n",
       "       3.90082338, 3.96604159, 4.00307436, 4.0058527 , 4.06564038,\n",
       "       4.10447682, 4.19872441, 4.32547451, 4.34622881, 4.34933823,\n",
       "       4.40713962, 4.56672833, 4.6180453 , 4.75122923, 4.79829266,\n",
       "       4.88041728, 4.89846622, 4.9068673 , 4.91577235, 4.9231275 ,\n",
       "       4.92654457, 5.03383164, 5.06187008, 5.08600328, 5.14443824,\n",
       "       5.15614246, 5.27603573, 5.35678299, 5.37736062, 5.38989761,\n",
       "       5.42308634, 5.44213827, 5.44687194, 5.47834442, 5.61908683])"
      ]
     },
     "execution_count": 106,
     "metadata": {},
     "output_type": "execute_result"
    }
   ],
   "source": [
    "arrival_times[0:100]"
   ]
  },
  {
   "cell_type": "code",
   "execution_count": 107,
   "id": "29a2ce16",
   "metadata": {},
   "outputs": [
    {
     "data": {
      "image/png": "[encoded data removed]",
      "text/plain": [
       "<Figure size 432x288 with 1 Axes>"
      ]
     },
     "metadata": {
      "needs_background": "light"
     },
     "output_type": "display_data"
    }
   ],
   "source": [
    "counts, bins, bars = plt.hist(arrival_times, bins=num_bins_arrival)\n",
    "plt.show()"
   ]
  },
  {
   "cell_type": "code",
   "execution_count": 108,
   "id": "b49a70d1",
   "metadata": {},
   "outputs": [
    {
     "data": {
      "text/plain": [
       "16.025641025641026"
      ]
     },
     "execution_count": 108,
     "metadata": {},
     "output_type": "execute_result"
    }
   ],
   "source": [
    "np.mean(counts)"
   ]
  },
  {
   "cell_type": "code",
   "execution_count": 109,
   "id": "81b4bb6d",
   "metadata": {},
   "outputs": [
    {
     "data": {
      "image/png": "[encoded data removed]",
      "text/plain": [
       "<Figure size 432x288 with 1 Axes>"
      ]
     },
     "metadata": {
      "needs_background": "light"
     },
     "output_type": "display_data"
    }
   ],
   "source": [
    "plt.hist(counts, bins=15)\n",
    "plt.show()"
   ]
  },
  {
   "cell_type": "markdown",
   "id": "cc7bc996",
   "metadata": {},
   "source": [
    "## 2 Service times "
   ]
  },
  {
   "cell_type": "code",
   "execution_count": 110,
   "id": "e14942f7",
   "metadata": {},
   "outputs": [],
   "source": [
    "mean_service_rate = 20.0  # mu = 1 / E[S]\n",
    "mean_service_time = 1.0 / mean_service_rate  # E[S]\n",
    "num_bins_service = int(num_events / mean_service_rate)"
   ]
  },
  {
   "cell_type": "code",
   "execution_count": 111,
   "id": "af22cee2",
   "metadata": {},
   "outputs": [],
   "source": [
    "service_times = rng.exponential(scale=mean_service_time, size=num_events)"
   ]
  },
  {
   "cell_type": "code",
   "execution_count": 112,
   "id": "48788fdf",
   "metadata": {},
   "outputs": [
    {
     "data": {
      "text/plain": [
       "array([0.00158195, 0.01884807, 0.09045764, 0.07635791, 0.08590009,\n",
       "       0.04994925, 0.01101017, 0.07612617, 0.0985673 , 0.09991621,\n",
       "       0.08083917, 0.05350831, 0.11389655, 0.07927393, 0.00350595])"
      ]
     },
     "execution_count": 112,
     "metadata": {},
     "output_type": "execute_result"
    }
   ],
   "source": [
    "service_times[0:15]"
   ]
  },
  {
   "cell_type": "code",
   "execution_count": 113,
   "id": "5aa182de",
   "metadata": {},
   "outputs": [
    {
     "data": {
      "image/png": "[encoded data removed]",
      "text/plain": [
       "<Figure size 432x288 with 1 Axes>"
      ]
     },
     "metadata": {
      "needs_background": "light"
     },
     "output_type": "display_data"
    }
   ],
   "source": [
    "plt.hist(service_times, bins=num_bins_service)\n",
    "plt.show()"
   ]
  },
  {
   "cell_type": "markdown",
   "id": "091b7a27",
   "metadata": {},
   "source": [
    "## 3 Simulation "
   ]
  },
  {
   "cell_type": "markdown",
   "id": "39ff6c36",
   "metadata": {},
   "source": [
    "We'll run the \"jobs\" through the system, estimate both $E[N]$ and $E[T]$, and compare the result to Little's Law."
   ]
  },
  {
   "cell_type": "code",
   "execution_count": 114,
   "id": "edaccec4",
   "metadata": {},
   "outputs": [],
   "source": [
    "df = pd.DataFrame({\n",
    "    \"arrival_time\": arrival_times,\n",
    "    \"service_time\": service_times,\n",
    "    \"start_time\": np.zeros(num_events),\n",
    "    \"end_time\": np.zeros(num_events)\n",
    "})"
   ]
  },
  {
   "cell_type": "code",
   "execution_count": 115,
   "id": "81c7f213",
   "metadata": {},
   "outputs": [],
   "source": [
    "df.loc[0, \"start_time\"] = df.loc[0, \"arrival_time\"]\n",
    "df.loc[0, \"end_time\"] = df.loc[0, \"start_time\"] + df.loc[0, \"service_time\"]"
   ]
  },
  {
   "cell_type": "code",
   "execution_count": 116,
   "id": "f3f1d97c",
   "metadata": {},
   "outputs": [],
   "source": [
    "for i in range(1, num_events):\n",
    "    df.loc[i, \"start_time\"] = max(df.loc[i, \"arrival_time\"], df.loc[i-1, \"end_time\"])\n",
    "    df.loc[i, \"end_time\"] = df.loc[i, \"start_time\"] + df.loc[i, \"service_time\"]"
   ]
  },
  {
   "cell_type": "code",
   "execution_count": 117,
   "id": "5b54761d",
   "metadata": {},
   "outputs": [],
   "source": [
    "df[\"response_time\"] = df[\"end_time\"] - df[\"arrival_time\"]"
   ]
  },
  {
   "cell_type": "code",
   "execution_count": 118,
   "id": "bee4f092",
   "metadata": {},
   "outputs": [
    {
     "data": {
      "text/html": [
       "<div>\n",
       "<style scoped>\n",
       "    .dataframe tbody tr th:only-of-type {\n",
       "        vertical-align: middle;\n",
       "    }\n",
       "\n",
       "    .dataframe tbody tr th {\n",
       "        vertical-align: top;\n",
       "    }\n",
       "\n",
       "    .dataframe thead th {\n",
       "        text-align: right;\n",
       "    }\n",
       "</style>\n",
       "<table border=\"1\" class=\"dataframe\">\n",
       "  <thead>\n",
       "    <tr style=\"text-align: right;\">\n",
       "      <th></th>\n",
       "      <th>arrival_time</th>\n",
       "      <th>service_time</th>\n",
       "      <th>start_time</th>\n",
       "      <th>end_time</th>\n",
       "      <th>response_time</th>\n",
       "    </tr>\n",
       "  </thead>\n",
       "  <tbody>\n",
       "    <tr>\n",
       "      <th>0</th>\n",
       "      <td>0.150263</td>\n",
       "      <td>0.001582</td>\n",
       "      <td>0.150263</td>\n",
       "      <td>0.151845</td>\n",
       "      <td>0.001582</td>\n",
       "    </tr>\n",
       "    <tr>\n",
       "      <th>1</th>\n",
       "      <td>0.296275</td>\n",
       "      <td>0.018848</td>\n",
       "      <td>0.296275</td>\n",
       "      <td>0.315123</td>\n",
       "      <td>0.018848</td>\n",
       "    </tr>\n",
       "    <tr>\n",
       "      <th>2</th>\n",
       "      <td>0.445322</td>\n",
       "      <td>0.090458</td>\n",
       "      <td>0.445322</td>\n",
       "      <td>0.535780</td>\n",
       "      <td>0.090458</td>\n",
       "    </tr>\n",
       "    <tr>\n",
       "      <th>3</th>\n",
       "      <td>0.462810</td>\n",
       "      <td>0.076358</td>\n",
       "      <td>0.535780</td>\n",
       "      <td>0.612138</td>\n",
       "      <td>0.149328</td>\n",
       "    </tr>\n",
       "    <tr>\n",
       "      <th>4</th>\n",
       "      <td>0.468212</td>\n",
       "      <td>0.085900</td>\n",
       "      <td>0.612138</td>\n",
       "      <td>0.698038</td>\n",
       "      <td>0.229826</td>\n",
       "    </tr>\n",
       "    <tr>\n",
       "      <th>5</th>\n",
       "      <td>0.559003</td>\n",
       "      <td>0.049949</td>\n",
       "      <td>0.698038</td>\n",
       "      <td>0.747987</td>\n",
       "      <td>0.188984</td>\n",
       "    </tr>\n",
       "    <tr>\n",
       "      <th>6</th>\n",
       "      <td>0.647126</td>\n",
       "      <td>0.011010</td>\n",
       "      <td>0.747987</td>\n",
       "      <td>0.758998</td>\n",
       "      <td>0.111872</td>\n",
       "    </tr>\n",
       "    <tr>\n",
       "      <th>7</th>\n",
       "      <td>0.842394</td>\n",
       "      <td>0.076126</td>\n",
       "      <td>0.842394</td>\n",
       "      <td>0.918520</td>\n",
       "      <td>0.076126</td>\n",
       "    </tr>\n",
       "    <tr>\n",
       "      <th>8</th>\n",
       "      <td>0.847350</td>\n",
       "      <td>0.098567</td>\n",
       "      <td>0.918520</td>\n",
       "      <td>1.017088</td>\n",
       "      <td>0.169738</td>\n",
       "    </tr>\n",
       "    <tr>\n",
       "      <th>9</th>\n",
       "      <td>0.912760</td>\n",
       "      <td>0.099916</td>\n",
       "      <td>1.017088</td>\n",
       "      <td>1.117004</td>\n",
       "      <td>0.204244</td>\n",
       "    </tr>\n",
       "    <tr>\n",
       "      <th>10</th>\n",
       "      <td>0.917162</td>\n",
       "      <td>0.080839</td>\n",
       "      <td>1.117004</td>\n",
       "      <td>1.197843</td>\n",
       "      <td>0.280681</td>\n",
       "    </tr>\n",
       "    <tr>\n",
       "      <th>11</th>\n",
       "      <td>0.985226</td>\n",
       "      <td>0.053508</td>\n",
       "      <td>1.197843</td>\n",
       "      <td>1.251351</td>\n",
       "      <td>0.266125</td>\n",
       "    </tr>\n",
       "    <tr>\n",
       "      <th>12</th>\n",
       "      <td>1.093434</td>\n",
       "      <td>0.113897</td>\n",
       "      <td>1.251351</td>\n",
       "      <td>1.365248</td>\n",
       "      <td>0.271814</td>\n",
       "    </tr>\n",
       "    <tr>\n",
       "      <th>13</th>\n",
       "      <td>1.117615</td>\n",
       "      <td>0.079274</td>\n",
       "      <td>1.365248</td>\n",
       "      <td>1.444522</td>\n",
       "      <td>0.326907</td>\n",
       "    </tr>\n",
       "    <tr>\n",
       "      <th>14</th>\n",
       "      <td>1.194589</td>\n",
       "      <td>0.003506</td>\n",
       "      <td>1.444522</td>\n",
       "      <td>1.448028</td>\n",
       "      <td>0.253438</td>\n",
       "    </tr>\n",
       "    <tr>\n",
       "      <th>15</th>\n",
       "      <td>1.204200</td>\n",
       "      <td>0.017402</td>\n",
       "      <td>1.448028</td>\n",
       "      <td>1.465429</td>\n",
       "      <td>0.261229</td>\n",
       "    </tr>\n",
       "    <tr>\n",
       "      <th>16</th>\n",
       "      <td>1.209924</td>\n",
       "      <td>0.021167</td>\n",
       "      <td>1.465429</td>\n",
       "      <td>1.486596</td>\n",
       "      <td>0.276672</td>\n",
       "    </tr>\n",
       "    <tr>\n",
       "      <th>17</th>\n",
       "      <td>1.229623</td>\n",
       "      <td>0.099514</td>\n",
       "      <td>1.486596</td>\n",
       "      <td>1.586110</td>\n",
       "      <td>0.356487</td>\n",
       "    </tr>\n",
       "    <tr>\n",
       "      <th>18</th>\n",
       "      <td>1.285947</td>\n",
       "      <td>0.041110</td>\n",
       "      <td>1.586110</td>\n",
       "      <td>1.627220</td>\n",
       "      <td>0.341272</td>\n",
       "    </tr>\n",
       "    <tr>\n",
       "      <th>19</th>\n",
       "      <td>1.311759</td>\n",
       "      <td>0.002694</td>\n",
       "      <td>1.627220</td>\n",
       "      <td>1.629914</td>\n",
       "      <td>0.318155</td>\n",
       "    </tr>\n",
       "  </tbody>\n",
       "</table>\n",
       "</div>"
      ],
      "text/plain": [
       "    arrival_time  service_time  start_time  end_time  response_time\n",
       "0       0.150263      0.001582    0.150263  0.151845       0.001582\n",
       "1       0.296275      0.018848    0.296275  0.315123       0.018848\n",
       "2       0.445322      0.090458    0.445322  0.535780       0.090458\n",
       "3       0.462810      0.076358    0.535780  0.612138       0.149328\n",
       "4       0.468212      0.085900    0.612138  0.698038       0.229826\n",
       "5       0.559003      0.049949    0.698038  0.747987       0.188984\n",
       "6       0.647126      0.011010    0.747987  0.758998       0.111872\n",
       "7       0.842394      0.076126    0.842394  0.918520       0.076126\n",
       "8       0.847350      0.098567    0.918520  1.017088       0.169738\n",
       "9       0.912760      0.099916    1.017088  1.117004       0.204244\n",
       "10      0.917162      0.080839    1.117004  1.197843       0.280681\n",
       "11      0.985226      0.053508    1.197843  1.251351       0.266125\n",
       "12      1.093434      0.113897    1.251351  1.365248       0.271814\n",
       "13      1.117615      0.079274    1.365248  1.444522       0.326907\n",
       "14      1.194589      0.003506    1.444522  1.448028       0.253438\n",
       "15      1.204200      0.017402    1.448028  1.465429       0.261229\n",
       "16      1.209924      0.021167    1.465429  1.486596       0.276672\n",
       "17      1.229623      0.099514    1.486596  1.586110       0.356487\n",
       "18      1.285947      0.041110    1.586110  1.627220       0.341272\n",
       "19      1.311759      0.002694    1.627220  1.629914       0.318155"
      ]
     },
     "execution_count": 118,
     "metadata": {},
     "output_type": "execute_result"
    }
   ],
   "source": [
    "df.head(20)"
   ]
  },
  {
   "cell_type": "code",
   "execution_count": 119,
   "id": "900205f3",
   "metadata": {},
   "outputs": [],
   "source": [
    "mean_response_time = df[\"response_time\"].mean()"
   ]
  },
  {
   "cell_type": "code",
   "execution_count": 120,
   "id": "3eac9bd0",
   "metadata": {},
   "outputs": [
    {
     "data": {
      "text/plain": [
       "0.26122913073546106"
      ]
     },
     "execution_count": 120,
     "metadata": {},
     "output_type": "execute_result"
    }
   ],
   "source": [
    "mean_response_time"
   ]
  },
  {
   "cell_type": "code",
   "execution_count": 121,
   "id": "b15301ef",
   "metadata": {},
   "outputs": [],
   "source": [
    "# Build intervals and their corresponding job counts so we can calculate E[N].\n",
    "# To do this, we will have two pointers: one for the arrival times and the other for the end (departure) times.\n",
    "# At each iteration, the lower-valued pointer is the next interval's upper bound. We increment the job count\n",
    "# whenever we choose the arrival time and we decrement the job count whenever we choose the end time.\n",
    "intervals_df = pd.DataFrame(columns=[\"start_time\", \"end_time\", \"width\", \"num_jobs\"])\n",
    "\n",
    "lo_bd = 0.0\n",
    "arrival_idx = 0\n",
    "end_idx = 0\n",
    "num_jobs = 0\n",
    "while arrival_idx < num_events and end_idx < num_events:\n",
    "    curr_arrival = df.loc[arrival_idx, \"arrival_time\"]\n",
    "    curr_end = df.loc[end_idx, \"end_time\"]\n",
    "    if curr_arrival < curr_end:\n",
    "        num_jobs = num_jobs + 1\n",
    "        up_bd = curr_arrival\n",
    "        arrival_idx = arrival_idx + 1\n",
    "    else:\n",
    "        num_jobs = num_jobs - 1\n",
    "        up_bd = curr_end\n",
    "        end_idx = end_idx + 1\n",
    "    \n",
    "    width = up_bd - lo_bd\n",
    "    intervals_df = intervals_df.append({\n",
    "        \"start_time\": lo_bd,\n",
    "        \"end_time\": up_bd,\n",
    "        \"width\": width,\n",
    "        \"num_jobs\": num_jobs,\n",
    "        \"weighted_num_jobs\": width * num_jobs\n",
    "    }, ignore_index=True)\n",
    "    \n",
    "    lo_bd = up_bd"
   ]
  },
  {
   "cell_type": "code",
   "execution_count": 122,
   "id": "b1870aa3",
   "metadata": {},
   "outputs": [
    {
     "data": {
      "text/html": [
       "<div>\n",
       "<style scoped>\n",
       "    .dataframe tbody tr th:only-of-type {\n",
       "        vertical-align: middle;\n",
       "    }\n",
       "\n",
       "    .dataframe tbody tr th {\n",
       "        vertical-align: top;\n",
       "    }\n",
       "\n",
       "    .dataframe thead th {\n",
       "        text-align: right;\n",
       "    }\n",
       "</style>\n",
       "<table border=\"1\" class=\"dataframe\">\n",
       "  <thead>\n",
       "    <tr style=\"text-align: right;\">\n",
       "      <th></th>\n",
       "      <th>start_time</th>\n",
       "      <th>end_time</th>\n",
       "      <th>width</th>\n",
       "      <th>num_jobs</th>\n",
       "      <th>weighted_num_jobs</th>\n",
       "    </tr>\n",
       "  </thead>\n",
       "  <tbody>\n",
       "    <tr>\n",
       "      <th>0</th>\n",
       "      <td>0.000000</td>\n",
       "      <td>0.150263</td>\n",
       "      <td>0.150263</td>\n",
       "      <td>1.0</td>\n",
       "      <td>0.150263</td>\n",
       "    </tr>\n",
       "    <tr>\n",
       "      <th>1</th>\n",
       "      <td>0.150263</td>\n",
       "      <td>0.151845</td>\n",
       "      <td>0.001582</td>\n",
       "      <td>0.0</td>\n",
       "      <td>0.000000</td>\n",
       "    </tr>\n",
       "    <tr>\n",
       "      <th>2</th>\n",
       "      <td>0.151845</td>\n",
       "      <td>0.296275</td>\n",
       "      <td>0.144430</td>\n",
       "      <td>1.0</td>\n",
       "      <td>0.144430</td>\n",
       "    </tr>\n",
       "    <tr>\n",
       "      <th>3</th>\n",
       "      <td>0.296275</td>\n",
       "      <td>0.315123</td>\n",
       "      <td>0.018848</td>\n",
       "      <td>0.0</td>\n",
       "      <td>0.000000</td>\n",
       "    </tr>\n",
       "    <tr>\n",
       "      <th>4</th>\n",
       "      <td>0.315123</td>\n",
       "      <td>0.445322</td>\n",
       "      <td>0.130199</td>\n",
       "      <td>1.0</td>\n",
       "      <td>0.130199</td>\n",
       "    </tr>\n",
       "    <tr>\n",
       "      <th>5</th>\n",
       "      <td>0.445322</td>\n",
       "      <td>0.462810</td>\n",
       "      <td>0.017487</td>\n",
       "      <td>2.0</td>\n",
       "      <td>0.034974</td>\n",
       "    </tr>\n",
       "    <tr>\n",
       "      <th>6</th>\n",
       "      <td>0.462810</td>\n",
       "      <td>0.468212</td>\n",
       "      <td>0.005402</td>\n",
       "      <td>3.0</td>\n",
       "      <td>0.016207</td>\n",
       "    </tr>\n",
       "    <tr>\n",
       "      <th>7</th>\n",
       "      <td>0.468212</td>\n",
       "      <td>0.535780</td>\n",
       "      <td>0.067568</td>\n",
       "      <td>2.0</td>\n",
       "      <td>0.135136</td>\n",
       "    </tr>\n",
       "    <tr>\n",
       "      <th>8</th>\n",
       "      <td>0.535780</td>\n",
       "      <td>0.559003</td>\n",
       "      <td>0.023223</td>\n",
       "      <td>3.0</td>\n",
       "      <td>0.069669</td>\n",
       "    </tr>\n",
       "    <tr>\n",
       "      <th>9</th>\n",
       "      <td>0.559003</td>\n",
       "      <td>0.612138</td>\n",
       "      <td>0.053135</td>\n",
       "      <td>2.0</td>\n",
       "      <td>0.106270</td>\n",
       "    </tr>\n",
       "    <tr>\n",
       "      <th>10</th>\n",
       "      <td>0.612138</td>\n",
       "      <td>0.647126</td>\n",
       "      <td>0.034988</td>\n",
       "      <td>3.0</td>\n",
       "      <td>0.104963</td>\n",
       "    </tr>\n",
       "    <tr>\n",
       "      <th>11</th>\n",
       "      <td>0.647126</td>\n",
       "      <td>0.698038</td>\n",
       "      <td>0.050912</td>\n",
       "      <td>2.0</td>\n",
       "      <td>0.101825</td>\n",
       "    </tr>\n",
       "    <tr>\n",
       "      <th>12</th>\n",
       "      <td>0.698038</td>\n",
       "      <td>0.747987</td>\n",
       "      <td>0.049949</td>\n",
       "      <td>1.0</td>\n",
       "      <td>0.049949</td>\n",
       "    </tr>\n",
       "    <tr>\n",
       "      <th>13</th>\n",
       "      <td>0.747987</td>\n",
       "      <td>0.758998</td>\n",
       "      <td>0.011010</td>\n",
       "      <td>0.0</td>\n",
       "      <td>0.000000</td>\n",
       "    </tr>\n",
       "    <tr>\n",
       "      <th>14</th>\n",
       "      <td>0.758998</td>\n",
       "      <td>0.842394</td>\n",
       "      <td>0.083397</td>\n",
       "      <td>1.0</td>\n",
       "      <td>0.083397</td>\n",
       "    </tr>\n",
       "    <tr>\n",
       "      <th>15</th>\n",
       "      <td>0.842394</td>\n",
       "      <td>0.847350</td>\n",
       "      <td>0.004956</td>\n",
       "      <td>2.0</td>\n",
       "      <td>0.009912</td>\n",
       "    </tr>\n",
       "    <tr>\n",
       "      <th>16</th>\n",
       "      <td>0.847350</td>\n",
       "      <td>0.912760</td>\n",
       "      <td>0.065410</td>\n",
       "      <td>3.0</td>\n",
       "      <td>0.196230</td>\n",
       "    </tr>\n",
       "    <tr>\n",
       "      <th>17</th>\n",
       "      <td>0.912760</td>\n",
       "      <td>0.917162</td>\n",
       "      <td>0.004402</td>\n",
       "      <td>4.0</td>\n",
       "      <td>0.017609</td>\n",
       "    </tr>\n",
       "    <tr>\n",
       "      <th>18</th>\n",
       "      <td>0.917162</td>\n",
       "      <td>0.918520</td>\n",
       "      <td>0.001358</td>\n",
       "      <td>3.0</td>\n",
       "      <td>0.004074</td>\n",
       "    </tr>\n",
       "    <tr>\n",
       "      <th>19</th>\n",
       "      <td>0.918520</td>\n",
       "      <td>0.985226</td>\n",
       "      <td>0.066706</td>\n",
       "      <td>4.0</td>\n",
       "      <td>0.266824</td>\n",
       "    </tr>\n",
       "  </tbody>\n",
       "</table>\n",
       "</div>"
      ],
      "text/plain": [
       "    start_time  end_time     width  num_jobs  weighted_num_jobs\n",
       "0     0.000000  0.150263  0.150263       1.0           0.150263\n",
       "1     0.150263  0.151845  0.001582       0.0           0.000000\n",
       "2     0.151845  0.296275  0.144430       1.0           0.144430\n",
       "3     0.296275  0.315123  0.018848       0.0           0.000000\n",
       "4     0.315123  0.445322  0.130199       1.0           0.130199\n",
       "5     0.445322  0.462810  0.017487       2.0           0.034974\n",
       "6     0.462810  0.468212  0.005402       3.0           0.016207\n",
       "7     0.468212  0.535780  0.067568       2.0           0.135136\n",
       "8     0.535780  0.559003  0.023223       3.0           0.069669\n",
       "9     0.559003  0.612138  0.053135       2.0           0.106270\n",
       "10    0.612138  0.647126  0.034988       3.0           0.104963\n",
       "11    0.647126  0.698038  0.050912       2.0           0.101825\n",
       "12    0.698038  0.747987  0.049949       1.0           0.049949\n",
       "13    0.747987  0.758998  0.011010       0.0           0.000000\n",
       "14    0.758998  0.842394  0.083397       1.0           0.083397\n",
       "15    0.842394  0.847350  0.004956       2.0           0.009912\n",
       "16    0.847350  0.912760  0.065410       3.0           0.196230\n",
       "17    0.912760  0.917162  0.004402       4.0           0.017609\n",
       "18    0.917162  0.918520  0.001358       3.0           0.004074\n",
       "19    0.918520  0.985226  0.066706       4.0           0.266824"
      ]
     },
     "execution_count": 122,
     "metadata": {},
     "output_type": "execute_result"
    }
   ],
   "source": [
    "intervals_df.head(20)"
   ]
  },
  {
   "cell_type": "code",
   "execution_count": 123,
   "id": "18e39177",
   "metadata": {},
   "outputs": [
    {
     "data": {
      "text/plain": [
       "1343.5601265393905"
      ]
     },
     "execution_count": 123,
     "metadata": {},
     "output_type": "execute_result"
    }
   ],
   "source": [
    "total_weighted_num_jobs = intervals_df[\"weighted_num_jobs\"].sum()\n",
    "total_weighted_num_jobs"
   ]
  },
  {
   "cell_type": "code",
   "execution_count": 124,
   "id": "ab98296b",
   "metadata": {},
   "outputs": [
    {
     "data": {
      "text/plain": [
       "307.4251294401077"
      ]
     },
     "execution_count": 124,
     "metadata": {},
     "output_type": "execute_result"
    }
   ],
   "source": [
    "total_width = intervals_df[\"width\"].sum()\n",
    "total_width"
   ]
  },
  {
   "cell_type": "code",
   "execution_count": 125,
   "id": "e48ce4f1",
   "metadata": {},
   "outputs": [
    {
     "data": {
      "text/plain": [
       "4.37036532760456"
      ]
     },
     "execution_count": 125,
     "metadata": {},
     "output_type": "execute_result"
    }
   ],
   "source": [
    "mean_num_jobs = total_weighted_num_jobs / total_width\n",
    "mean_num_jobs"
   ]
  },
  {
   "cell_type": "code",
   "execution_count": 126,
   "id": "de7cc469",
   "metadata": {},
   "outputs": [
    {
     "data": {
      "text/plain": [
       "4.179666091767377"
      ]
     },
     "execution_count": 126,
     "metadata": {},
     "output_type": "execute_result"
    }
   ],
   "source": [
    "# Little's Law verification\n",
    "mean_arrival_rate * mean_response_time"
   ]
  }
 ],
 "metadata": {
  "kernelspec": {
   "display_name": "Python 3",
   "language": "python",
   "name": "python3"
  },
  "language_info": {
   "codemirror_mode": {
    "name": "ipython",
    "version": 3
   },
   "file_extension": ".py",
   "mimetype": "text/x-python",
   "name": "python",
   "nbconvert_exporter": "python",
   "pygments_lexer": "ipython3",
   "version": "3.9.5"
  }
 },
 "nbformat": 4,
 "nbformat_minor": 5
}
