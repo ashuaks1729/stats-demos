{
 "cells": [
  {
   "cell_type": "markdown",
   "id": "81d2534e",
   "metadata": {},
   "source": [
    "# Little's Law simulation "
   ]
  },
  {
   "cell_type": "code",
   "execution_count": 1,
   "id": "f495faeb",
   "metadata": {},
   "outputs": [],
   "source": [
    "import numpy as np\n",
    "import random\n",
    "import matplotlib.pyplot as plt"
   ]
  },
  {
   "cell_type": "code",
   "execution_count": 2,
   "id": "e734a2a9",
   "metadata": {},
   "outputs": [],
   "source": [
    "rng = np.random.default_rng(42)"
   ]
  },
  {
   "cell_type": "code",
   "execution_count": 51,
   "id": "ec8dea5f",
   "metadata": {},
   "outputs": [],
   "source": [
    "mean_arrival_rate = 15.0\n",
    "mean_interarrival_time = 1.0 / mean_arrival_rate\n",
    "\n",
    "num_events = 3000\n",
    "num_bins = int(num_events / mean_arrival_rate)\n",
    "\n",
    "#mean_service_rate = 12.0\n",
    "#mean_service_time = 1.0 / mean_service_rate"
   ]
  },
  {
   "cell_type": "code",
   "execution_count": 52,
   "id": "3dc8d428",
   "metadata": {},
   "outputs": [],
   "source": [
    "interarrival_times = rng.exponential(scale=mean_interarrival_time, size=num_events)"
   ]
  },
  {
   "cell_type": "code",
   "execution_count": 53,
   "id": "899d96b5",
   "metadata": {},
   "outputs": [
    {
     "data": {
      "text/plain": [
       "array([0.15995065, 0.1833172 , 0.03507743, ..., 0.05300321, 0.05041162,\n",
       "       0.03608253])"
      ]
     },
     "execution_count": 53,
     "metadata": {},
     "output_type": "execute_result"
    }
   ],
   "source": [
    "interarrival_times"
   ]
  },
  {
   "cell_type": "code",
   "execution_count": 54,
   "id": "f8c56818",
   "metadata": {},
   "outputs": [
    {
     "data": {
      "image/png": "[encoded data removed]",
      "text/plain": [
       "<Figure size 432x288 with 1 Axes>"
      ]
     },
     "metadata": {
      "needs_background": "light"
     },
     "output_type": "display_data"
    }
   ],
   "source": [
    "plt.hist(interarrival_times, bins=num_bins)\n",
    "plt.show()"
   ]
  },
  {
   "cell_type": "code",
   "execution_count": 55,
   "id": "b450477c",
   "metadata": {},
   "outputs": [],
   "source": [
    "arrival_times = np.cumsum(interarrival_times)"
   ]
  },
  {
   "cell_type": "code",
   "execution_count": 56,
   "id": "356f6fa2",
   "metadata": {},
   "outputs": [
    {
     "data": {
      "text/plain": [
       "(3000,)"
      ]
     },
     "execution_count": 56,
     "metadata": {},
     "output_type": "execute_result"
    }
   ],
   "source": [
    "arrival_times.shape"
   ]
  },
  {
   "cell_type": "code",
   "execution_count": 57,
   "id": "29a2ce16",
   "metadata": {},
   "outputs": [
    {
     "data": {
      "image/png": "[encoded data removed]",
      "text/plain": [
       "<Figure size 432x288 with 1 Axes>"
      ]
     },
     "metadata": {
      "needs_background": "light"
     },
     "output_type": "display_data"
    }
   ],
   "source": [
    "counts, bins, bars = plt.hist(arrival_times, bins=num_bins)\n",
    "plt.show()"
   ]
  },
  {
   "cell_type": "code",
   "execution_count": 58,
   "id": "b49a70d1",
   "metadata": {},
   "outputs": [
    {
     "data": {
      "text/plain": [
       "array([18., 17., 12., 15., 23., 17., 14., 20., 16., 17., 10., 18., 10.,\n",
       "       14., 18., 23., 14., 16., 14., 11., 10.,  7., 13., 12., 13.,  9.,\n",
       "       13., 14., 18., 16., 11., 16., 19.,  7., 14., 12., 18.,  9., 23.,\n",
       "        6., 18., 20., 11., 11., 15., 18., 15., 11., 15., 16., 14., 13.,\n",
       "       15., 16., 21., 17., 18., 20., 16., 11., 15., 15., 11., 18., 17.,\n",
       "       21., 13., 15., 20., 19., 12., 16., 18., 13., 15., 16., 20., 17.,\n",
       "       12., 12., 15., 15., 17., 10., 15., 18., 15., 28., 17., 17., 10.,\n",
       "       12., 17., 21., 14., 13., 14., 14., 11., 10., 14., 11., 15., 19.,\n",
       "       17., 13., 21., 11., 12., 23., 15., 14., 15., 16., 15., 22., 20.,\n",
       "       13., 14., 14., 19., 17., 10., 15., 12.,  9., 18., 16., 14., 16.,\n",
       "       16., 16., 15., 16.,  8., 18., 19., 15., 15.,  6., 16., 17., 14.,\n",
       "       20.,  9., 11., 17., 18., 21., 18., 12., 12., 15., 10., 18., 12.,\n",
       "       14.,  9., 16., 15., 10., 12., 21.,  8., 13., 11., 18., 20., 14.,\n",
       "       11., 10., 15., 23., 14.,  9., 16., 19., 13., 12., 17., 23., 20.,\n",
       "       15., 18.,  7., 14., 21., 12., 14., 17., 15., 15., 11., 17., 13.,\n",
       "       15., 19., 23.,  7., 14.])"
      ]
     },
     "execution_count": 58,
     "metadata": {},
     "output_type": "execute_result"
    }
   ],
   "source": [
    "counts"
   ]
  },
  {
   "cell_type": "code",
   "execution_count": 59,
   "id": "81b4bb6d",
   "metadata": {},
   "outputs": [
    {
     "data": {
      "text/plain": [
       "15.0"
      ]
     },
     "execution_count": 59,
     "metadata": {},
     "output_type": "execute_result"
    }
   ],
   "source": [
    "np.mean(counts)"
   ]
  },
  {
   "cell_type": "code",
   "execution_count": null,
   "id": "2d108598",
   "metadata": {},
   "outputs": [],
   "source": []
  }
 ],
 "metadata": {
  "kernelspec": {
   "display_name": "Python 3",
   "language": "python",
   "name": "python3"
  },
  "language_info": {
   "codemirror_mode": {
    "name": "ipython",
    "version": 3
   },
   "file_extension": ".py",
   "mimetype": "text/x-python",
   "name": "python",
   "nbconvert_exporter": "python",
   "pygments_lexer": "ipython3",
   "version": "3.9.5"
  }
 },
 "nbformat": 4,
 "nbformat_minor": 5
}
