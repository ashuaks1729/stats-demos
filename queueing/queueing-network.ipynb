{
 "cells": [
  {
   "cell_type": "markdown",
   "id": "ca7899e7",
   "metadata": {},
   "source": [
    "# Queueing network"
   ]
  },
  {
   "cell_type": "markdown",
   "id": "7544f523",
   "metadata": {},
   "source": [
    "## 1 Simulation code"
   ]
  },
  {
   "cell_type": "code",
   "execution_count": 1,
   "id": "8c16b7a0",
   "metadata": {},
   "outputs": [],
   "source": [
    "import numpy as np\n",
    "import pandas as pd\n",
    "import matplotlib.pyplot as plt\n",
    "import heapq\n",
    "import random"
   ]
  },
  {
   "cell_type": "code",
   "execution_count": 2,
   "id": "7325f8a7",
   "metadata": {},
   "outputs": [],
   "source": [
    "TITLE_SIZE = 14"
   ]
  },
  {
   "cell_type": "code",
   "execution_count": 3,
   "id": "c17832a8",
   "metadata": {},
   "outputs": [],
   "source": [
    "# Utility min heap implementation\n",
    "# https://stackoverflow.com/a/8875823\n",
    "class MyHeap:\n",
    "    def __init__(self, initial=None, key=lambda x:x):\n",
    "        self.key = key\n",
    "        self.index = 0\n",
    "        if initial:\n",
    "            self._data = [(key(item), i, item) for i, item in enumerate(initial)]\n",
    "            self.index = len(self._data)\n",
    "            heapq.heapify(self._data)\n",
    "        else:\n",
    "            self._data = []\n",
    "            \n",
    "    def push(self, item):\n",
    "        heapq.heappush(self._data, (self.key(item), self.index, item))\n",
    "        self.index += 1\n",
    "    \n",
    "    def peek(self):\n",
    "        return self._data[0][2]\n",
    "    \n",
    "    def pop(self):\n",
    "        return heapq.heappop(self._data)[2]"
   ]
  },
  {
   "cell_type": "code",
   "execution_count": 4,
   "id": "67539fcb",
   "metadata": {},
   "outputs": [],
   "source": [
    "# We maintain per-server arrival queues to know which server gets the job.\n",
    "# Note that the arrival queues aren't part of the modeled system at all --\n",
    "# they're simply a bookkeeping construct for this simulation.\n",
    "# \n",
    "# We maintain per-server wait queues to track per-server queue lengths and\n",
    "# to know which server gets the job.\n",
    "class Server:\n",
    "    def __init__(self, id, params):\n",
    "        self.id = id\n",
    "        self.arrival_rate = params[\"arrival_rate\"]\n",
    "        self.service_rate = params[\"service_rate\"]\n",
    "        self.routing_cdf = params[\"routing_cdf\"]\n",
    "        \n",
    "        # Structure: arrival timestamp\n",
    "        # We assign job ID at arrival time to main proper order in the Gantt chart.\n",
    "        self.next_arrival = None\n",
    "        \n",
    "        # Queue for jobs waiting for the server. Arrival time supports FCFS discipline.\n",
    "        # We could have used a linked list here, but a heap implementation makes it easier\n",
    "        # to apply other priority disciplines later.\n",
    "        self.wait_queue = MyHeap(key = lambda job : job.arrive_ts)\n",
    "        \n",
    "        # Structure: (job_id, start timestamp, departure timestamp)\n",
    "        self.current_job = None\n",
    "\n",
    "class Job:\n",
    "    next_id = 0\n",
    "    \n",
    "    def __init__(self, arrive_ts):\n",
    "        self.id = Job.next_id\n",
    "        self.arrive_ts = arrive_ts\n",
    "        Job.next_id += 1"
   ]
  },
  {
   "cell_type": "code",
   "execution_count": 5,
   "id": "451e1518",
   "metadata": {},
   "outputs": [],
   "source": [
    "class Simulation:\n",
    "    \n",
    "    # Initializes a simulation run.\n",
    "    def __init__(self, params, seed):\n",
    "        self.rng = np.random.default_rng(seed)\n",
    "        self.params = params\n",
    "        self.servers = [Server(i, p) for i, p in enumerate(self.params[\"servers\"])]\n",
    "        self.event_df = pd.DataFrame(columns=[\"timestamp\", \"job_id\", \"server_id\", \"event_type\",]).astype(int)\n",
    "        self.span_df = pd.DataFrame(columns=[\"job_id\", \"span_type\", \"server\", \"start\", \"duration\",]).astype(int)\n",
    "        self.job_df = pd.DataFrame(columns=[\"job_id\", \"arrival\", \"departure\"]).astype(int)\n",
    "        self.clock = 0.0\n",
    "        \n",
    "        for server in self.servers:\n",
    "            self._generate_arrival(server)\n",
    "    \n",
    "    def _generate_arrival(self, server):\n",
    "        server.next_arrival = self.clock + self.rng.exponential(scale=1.0/server.arrival_rate)\n",
    "    \n",
    "    # Performs a single simulation run.\n",
    "    # Call this only once. The result of calling it more than once is undefined.\n",
    "    def run(self, num_events):\n",
    "        for i in range(num_events):\n",
    "            self._update_clock()\n",
    "            self._process_arrivals()\n",
    "            self._process_starts()\n",
    "            self._process_departures()\n",
    "        \n",
    "        self.job_df[\"response_time\"] = self.job_df[\"departure\"] - self.job_df[\"arrival\"]\n",
    "        \n",
    "        self._plot_jobs_gantt(self.span_df, 100)\n",
    "        self._plot_response_time_histogram(self.job_df)\n",
    "    \n",
    "    # Find the next clock tick by looking at arrivals and departures.\n",
    "    def _update_clock(self):\n",
    "        next_clock = float(\"inf\")\n",
    "        for server in self.servers:\n",
    "            if server.next_arrival:\n",
    "                next_clock = min(next_clock, server.next_arrival)\n",
    "            if server.current_job:\n",
    "                next_clock = min(next_clock, server.current_job.depart_ts)\n",
    "            else:\n",
    "                if server.wait_queue._data:\n",
    "                    next_clock = self.clock        \n",
    "        self.clock = next_clock\n",
    "    \n",
    "    # Next arrival -> wait queue\n",
    "    def _process_arrivals(self):\n",
    "        for server in self.servers:\n",
    "            if self.clock >= server.next_arrival:\n",
    "                job = Job(arrive_ts=server.next_arrival)\n",
    "                server.wait_queue.push(job)\n",
    "                self._generate_arrival(server)\n",
    "                self._log_event(job.id, server.id, \"arrival\")\n",
    "                self.job_df = self.job_df.append({\n",
    "                    \"job_id\": job.id,\n",
    "                    \"arrival\": job.arrive_ts,\n",
    "                    \"departure\": None,\n",
    "                }, ignore_index=True)\n",
    "    \n",
    "    # Wait queue -> server\n",
    "    def _process_starts(self):\n",
    "        for server in self.servers:\n",
    "            heap = server.wait_queue._data\n",
    "            if not server.current_job and heap and self.clock >= server.wait_queue.peek().arrive_ts:\n",
    "                job = server.wait_queue.pop()\n",
    "                job.start_ts = self.clock\n",
    "                job.depart_ts = self.clock + self.rng.exponential(scale=1.0/server.service_rate)\n",
    "                server.current_job = job\n",
    "                self._log_event(job.id, server.id, \"start\")\n",
    "                self._log_span(job.id, server.id, \"wait\", job.arrive_ts, job.start_ts)\n",
    "    \n",
    "    # Server -> (downstream wait queue or external)\n",
    "    def _process_departures(self):\n",
    "        for server in self.servers:\n",
    "            if server.current_job and self.clock >= server.current_job.depart_ts:\n",
    "                job = server.current_job\n",
    "                server.current_job = None\n",
    "                next_server = self._find_next_server(server)\n",
    "                if next_server:\n",
    "                    job.arrive_ts = self.clock\n",
    "                    next_server.wait_queue.push(job)\n",
    "                    self._log_event(job.id, server.id, \"arrival\")\n",
    "                else:\n",
    "                    self.job_df.loc[self.job_df[\"job_id\"] == job.id, \"departure\"] = job.depart_ts                \n",
    "                self._log_event(job.id, server.id, \"departure\")\n",
    "                self._log_span(job.id, server.id, \"service\", job.start_ts, job.depart_ts)\n",
    "    \n",
    "    def _find_next_server(self, src_server):\n",
    "        x = self.rng.uniform()\n",
    "        for i in range(len(self.servers)):\n",
    "            dest_server = self.servers[i]\n",
    "            if x < src_server.routing_cdf[i]:\n",
    "                return dest_server\n",
    "        return None\n",
    "    \n",
    "    def _log_event(self, job_id, server_id, event_type):\n",
    "        self.event_df = self.event_df.append({\n",
    "            \"timestamp\": self.clock,\n",
    "            \"job_id\": job_id,\n",
    "            \"server_id\": server_id,\n",
    "            \"event_type\": event_type,\n",
    "        }, ignore_index=True)\n",
    "    \n",
    "    def _log_span(self, job_id, server_id, span_type, start, end):\n",
    "        self.span_df = self.span_df.append({\n",
    "            \"job_id\": job_id,\n",
    "            \"span_type\": span_type,\n",
    "            \"server\": server_id,\n",
    "            \"start\": start,\n",
    "            \"duration\": end - start,\n",
    "        }, ignore_index=True)\n",
    "    \n",
    "    def _plot_jobs_gantt(self, span_df, num_spans):\n",
    "        # FIXME This breaks down if there are too many servers\n",
    "        COLORS = [\n",
    "            \"firebrick\",\n",
    "            \"limegreen\",\n",
    "            \"steelblue\",\n",
    "            \"orange\",\n",
    "            \"gold\",\n",
    "        ]\n",
    "        \n",
    "        df = span_df.head(num_spans)\n",
    "\n",
    "        plt.figure(figsize=(14, 8))\n",
    "        plt.title(\"Job schedule (partial view)\", size=TITLE_SIZE)\n",
    "        plt.xlabel(\"Time\")\n",
    "        plt.ylabel(\"Job ID\")\n",
    "        for i in range(len(self.servers)):\n",
    "            server_df = df[df[\"server\"] == i]\n",
    "            wait_df = server_df[server_df[\"span_type\"] == \"wait\"]\n",
    "            service_df = server_df[server_df[\"span_type\"] == \"service\"]\n",
    "            plt.barh(\n",
    "                y=wait_df[\"job_id\"],\n",
    "                left=wait_df[\"start\"],\n",
    "                width=wait_df[\"duration\"],\n",
    "                alpha=0.2,\n",
    "                color=COLORS[i])\n",
    "            plt.barh(\n",
    "                y=service_df[\"job_id\"],\n",
    "                left=service_df[\"start\"],\n",
    "                width=service_df[\"duration\"],\n",
    "                alpha=1.0,\n",
    "                color=COLORS[i])\n",
    "        plt.gca().invert_yaxis()\n",
    "        plt.grid(axis=\"x\")\n",
    "        plt.show()\n",
    "    \n",
    "    def _plot_response_time_histogram(self, job_df):\n",
    "        plt.figure(figsize=(8, 3))\n",
    "        plt.title(\"Response time histogram\", size=TITLE_SIZE)\n",
    "        plt.xlabel(\"Response time\")\n",
    "        plt.ylabel(\"Count\")\n",
    "        plt.hist(job_df[\"response_time\"], bins=31)\n",
    "        plt.show()"
   ]
  },
  {
   "cell_type": "markdown",
   "id": "b6784777",
   "metadata": {},
   "source": [
    "## 2 Simulation run"
   ]
  },
  {
   "cell_type": "code",
   "execution_count": 6,
   "id": "6126f018",
   "metadata": {},
   "outputs": [
    {
     "data": {
      "image/png": "[encoded data removed]",
      "text/plain": [
       "<Figure size 1008x576 with 1 Axes>"
      ]
     },
     "metadata": {
      "needs_background": "light"
     },
     "output_type": "display_data"
    },
    {
     "data": {
      "image/png": "[encoded data removed]",
      "text/plain": [
       "<Figure size 576x216 with 1 Axes>"
      ]
     },
     "metadata": {
      "needs_background": "light"
     },
     "output_type": "display_data"
    }
   ],
   "source": [
    "Simulation({\n",
    "    \"servers\": [\n",
    "        { \"arrival_rate\": 8.0, \"service_rate\": 32.0, \"routing_cdf\": [0.0, 0.1, 0.3, 1.0], },\n",
    "        { \"arrival_rate\": 2.0, \"service_rate\": 32.0, \"routing_cdf\": [0.0, 0.0, 0.5, 1.0], },\n",
    "        { \"arrival_rate\": 4.0, \"service_rate\": 32.0, \"routing_cdf\": [1.0, 1.0, 1.0, 1.0], },\n",
    "    ],\n",
    "}, 142).run(4000)"
   ]
  },
  {
   "cell_type": "code",
   "execution_count": 7,
   "id": "e02c2465",
   "metadata": {},
   "outputs": [
    {
     "data": {
      "image/png": "[encoded data removed]",
      "text/plain": [
       "<Figure size 1008x576 with 1 Axes>"
      ]
     },
     "metadata": {
      "needs_background": "light"
     },
     "output_type": "display_data"
    },
    {
     "data": {
      "image/png": "[encoded data removed]",
      "text/plain": [
       "<Figure size 576x216 with 1 Axes>"
      ]
     },
     "metadata": {
      "needs_background": "light"
     },
     "output_type": "display_data"
    }
   ],
   "source": [
    "Simulation({\n",
    "    \"servers\": [\n",
    "        { \"arrival_rate\": 40.0, \"service_rate\": 32.0, \"routing_cdf\": [0.0, 1.0, 1.0], },\n",
    "        { \"arrival_rate\": 36.0, \"service_rate\": 32.0, \"routing_cdf\": [0.0, 0.0, 1.0], },\n",
    "    ],\n",
    "}, 142).run(4000)"
   ]
  },
  {
   "cell_type": "code",
   "execution_count": null,
   "id": "93379ee1",
   "metadata": {},
   "outputs": [],
   "source": []
  }
 ],
 "metadata": {
  "kernelspec": {
   "display_name": "Python 3 (ipykernel)",
   "language": "python",
   "name": "python3"
  },
  "language_info": {
   "codemirror_mode": {
    "name": "ipython",
    "version": 3
   },
   "file_extension": ".py",
   "mimetype": "text/x-python",
   "name": "python",
   "nbconvert_exporter": "python",
   "pygments_lexer": "ipython3",
   "version": "3.9.5"
  }
 },
 "nbformat": 4,
 "nbformat_minor": 5
}
