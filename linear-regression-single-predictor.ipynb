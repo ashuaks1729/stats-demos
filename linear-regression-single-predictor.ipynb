{
 "cells": [
  {
   "cell_type": "markdown",
   "id": "a381bbf7",
   "metadata": {},
   "source": [
    "# Ch 7: Linear regression with a single predictor"
   ]
  },
  {
   "cell_type": "markdown",
   "id": "15be2db7",
   "metadata": {},
   "source": [
    "See https://github.com/avehtari/ROS-Examples/tree/master/ElectionsEconomy"
   ]
  },
  {
   "cell_type": "code",
   "execution_count": 13,
   "id": "c64da5b9",
   "metadata": {},
   "outputs": [],
   "source": [
    "library(\"rstanarm\")\n",
    "#library(\"ggplot2\")\n",
    "#library(\"bayesplot\")"
   ]
  },
  {
   "cell_type": "code",
   "execution_count": 14,
   "id": "a50e6d71",
   "metadata": {},
   "outputs": [],
   "source": [
    "#theme_set(bayesplot::theme_default(base_family=\"sans\"))"
   ]
  },
  {
   "cell_type": "code",
   "execution_count": 18,
   "id": "7cefeaf7",
   "metadata": {},
   "outputs": [
    {
     "data": {
      "text/html": [
       "<table class=\"dataframe\">\n",
       "<caption>A data.frame: 16 × 5</caption>\n",
       "<thead>\n",
       "\t<tr><th scope=col>year</th><th scope=col>growth</th><th scope=col>vote</th><th scope=col>inc_party_candidate</th><th scope=col>other_candidate</th></tr>\n",
       "\t<tr><th scope=col>&lt;int&gt;</th><th scope=col>&lt;dbl&gt;</th><th scope=col>&lt;dbl&gt;</th><th scope=col>&lt;chr&gt;</th><th scope=col>&lt;chr&gt;</th></tr>\n",
       "</thead>\n",
       "<tbody>\n",
       "\t<tr><td>1952</td><td> 2.40</td><td>44.60</td><td>Stevenson </td><td>Eisenhower</td></tr>\n",
       "\t<tr><td>1956</td><td> 2.89</td><td>57.76</td><td>Eisenhower</td><td>Stevenson </td></tr>\n",
       "\t<tr><td>1960</td><td> 0.85</td><td>49.91</td><td>Nixon     </td><td>Kennedy   </td></tr>\n",
       "\t<tr><td>1964</td><td> 4.21</td><td>61.34</td><td>Johnson   </td><td>Goldwater </td></tr>\n",
       "\t<tr><td>1968</td><td> 3.02</td><td>49.60</td><td>Humphrey  </td><td>Nixon     </td></tr>\n",
       "\t<tr><td>1972</td><td> 3.62</td><td>61.79</td><td>Nixon     </td><td>McGovern  </td></tr>\n",
       "\t<tr><td>1976</td><td> 1.08</td><td>48.95</td><td>Ford      </td><td>Carter    </td></tr>\n",
       "\t<tr><td>1980</td><td>-0.39</td><td>44.70</td><td>Carter    </td><td>Reagan    </td></tr>\n",
       "\t<tr><td>1984</td><td> 3.86</td><td>59.17</td><td>Reagan    </td><td>Mondale   </td></tr>\n",
       "\t<tr><td>1988</td><td> 2.27</td><td>53.94</td><td>Bush, Sr. </td><td>Dukakis   </td></tr>\n",
       "\t<tr><td>1992</td><td> 0.38</td><td>46.55</td><td>Bush, Sr. </td><td>Clinton   </td></tr>\n",
       "\t<tr><td>1996</td><td> 1.04</td><td>54.74</td><td>Clinton   </td><td>Dole      </td></tr>\n",
       "\t<tr><td>2000</td><td> 2.36</td><td>50.27</td><td>Gore      </td><td>Bush, Jr. </td></tr>\n",
       "\t<tr><td>2004</td><td> 1.72</td><td>51.24</td><td>Bush, Jr. </td><td>Kerry     </td></tr>\n",
       "\t<tr><td>2008</td><td> 0.10</td><td>46.32</td><td>McCain    </td><td>Obama     </td></tr>\n",
       "\t<tr><td>2012</td><td> 0.95</td><td>52.00</td><td>Obama     </td><td>Romney    </td></tr>\n",
       "</tbody>\n",
       "</table>\n"
      ],
      "text/latex": [
       "A data.frame: 16 × 5\n",
       "\\begin{tabular}{lllll}\n",
       " year & growth & vote & inc\\_party\\_candidate & other\\_candidate\\\\\n",
       " <int> & <dbl> & <dbl> & <chr> & <chr>\\\\\n",
       "\\hline\n",
       "\t 1952 &  2.40 & 44.60 & Stevenson  & Eisenhower\\\\\n",
       "\t 1956 &  2.89 & 57.76 & Eisenhower & Stevenson \\\\\n",
       "\t 1960 &  0.85 & 49.91 & Nixon      & Kennedy   \\\\\n",
       "\t 1964 &  4.21 & 61.34 & Johnson    & Goldwater \\\\\n",
       "\t 1968 &  3.02 & 49.60 & Humphrey   & Nixon     \\\\\n",
       "\t 1972 &  3.62 & 61.79 & Nixon      & McGovern  \\\\\n",
       "\t 1976 &  1.08 & 48.95 & Ford       & Carter    \\\\\n",
       "\t 1980 & -0.39 & 44.70 & Carter     & Reagan    \\\\\n",
       "\t 1984 &  3.86 & 59.17 & Reagan     & Mondale   \\\\\n",
       "\t 1988 &  2.27 & 53.94 & Bush, Sr.  & Dukakis   \\\\\n",
       "\t 1992 &  0.38 & 46.55 & Bush, Sr.  & Clinton   \\\\\n",
       "\t 1996 &  1.04 & 54.74 & Clinton    & Dole      \\\\\n",
       "\t 2000 &  2.36 & 50.27 & Gore       & Bush, Jr. \\\\\n",
       "\t 2004 &  1.72 & 51.24 & Bush, Jr.  & Kerry     \\\\\n",
       "\t 2008 &  0.10 & 46.32 & McCain     & Obama     \\\\\n",
       "\t 2012 &  0.95 & 52.00 & Obama      & Romney    \\\\\n",
       "\\end{tabular}\n"
      ],
      "text/markdown": [
       "\n",
       "A data.frame: 16 × 5\n",
       "\n",
       "| year &lt;int&gt; | growth &lt;dbl&gt; | vote &lt;dbl&gt; | inc_party_candidate &lt;chr&gt; | other_candidate &lt;chr&gt; |\n",
       "|---|---|---|---|---|\n",
       "| 1952 |  2.40 | 44.60 | Stevenson  | Eisenhower |\n",
       "| 1956 |  2.89 | 57.76 | Eisenhower | Stevenson  |\n",
       "| 1960 |  0.85 | 49.91 | Nixon      | Kennedy    |\n",
       "| 1964 |  4.21 | 61.34 | Johnson    | Goldwater  |\n",
       "| 1968 |  3.02 | 49.60 | Humphrey   | Nixon      |\n",
       "| 1972 |  3.62 | 61.79 | Nixon      | McGovern   |\n",
       "| 1976 |  1.08 | 48.95 | Ford       | Carter     |\n",
       "| 1980 | -0.39 | 44.70 | Carter     | Reagan     |\n",
       "| 1984 |  3.86 | 59.17 | Reagan     | Mondale    |\n",
       "| 1988 |  2.27 | 53.94 | Bush, Sr.  | Dukakis    |\n",
       "| 1992 |  0.38 | 46.55 | Bush, Sr.  | Clinton    |\n",
       "| 1996 |  1.04 | 54.74 | Clinton    | Dole       |\n",
       "| 2000 |  2.36 | 50.27 | Gore       | Bush, Jr.  |\n",
       "| 2004 |  1.72 | 51.24 | Bush, Jr.  | Kerry      |\n",
       "| 2008 |  0.10 | 46.32 | McCain     | Obama      |\n",
       "| 2012 |  0.95 | 52.00 | Obama      | Romney     |\n",
       "\n"
      ],
      "text/plain": [
       "   year growth vote  inc_party_candidate other_candidate\n",
       "1  1952  2.40  44.60 Stevenson           Eisenhower     \n",
       "2  1956  2.89  57.76 Eisenhower          Stevenson      \n",
       "3  1960  0.85  49.91 Nixon               Kennedy        \n",
       "4  1964  4.21  61.34 Johnson             Goldwater      \n",
       "5  1968  3.02  49.60 Humphrey            Nixon          \n",
       "6  1972  3.62  61.79 Nixon               McGovern       \n",
       "7  1976  1.08  48.95 Ford                Carter         \n",
       "8  1980 -0.39  44.70 Carter              Reagan         \n",
       "9  1984  3.86  59.17 Reagan              Mondale        \n",
       "10 1988  2.27  53.94 Bush, Sr.           Dukakis        \n",
       "11 1992  0.38  46.55 Bush, Sr.           Clinton        \n",
       "12 1996  1.04  54.74 Clinton             Dole           \n",
       "13 2000  2.36  50.27 Gore                Bush, Jr.      \n",
       "14 2004  1.72  51.24 Bush, Jr.           Kerry          \n",
       "15 2008  0.10  46.32 McCain              Obama          \n",
       "16 2012  0.95  52.00 Obama               Romney         "
      ]
     },
     "metadata": {},
     "output_type": "display_data"
    }
   ],
   "source": [
    "hibbs <- read.table(\"data/hibbs.dat\", header=TRUE)\n",
    "hibbs"
   ]
  },
  {
   "cell_type": "markdown",
   "id": "9bc5088a",
   "metadata": {},
   "source": [
    "## 1 Linear regression, single predictor "
   ]
  },
  {
   "cell_type": "code",
   "execution_count": 9,
   "id": "e75a47f5",
   "metadata": {
    "scrolled": false
   },
   "outputs": [
    {
     "name": "stdout",
     "output_type": "stream",
     "text": [
      "\n",
      "SAMPLING FOR MODEL 'continuous' NOW (CHAIN 1).\n",
      "Chain 1: \n",
      "Chain 1: Gradient evaluation took 1.9e-05 seconds\n",
      "Chain 1: 1000 transitions using 10 leapfrog steps per transition would take 0.19 seconds.\n",
      "Chain 1: Adjust your expectations accordingly!\n",
      "Chain 1: \n",
      "Chain 1: \n",
      "Chain 1: Iteration:    1 / 2000 [  0%]  (Warmup)\n",
      "Chain 1: Iteration:  200 / 2000 [ 10%]  (Warmup)\n",
      "Chain 1: Iteration:  400 / 2000 [ 20%]  (Warmup)\n",
      "Chain 1: Iteration:  600 / 2000 [ 30%]  (Warmup)\n",
      "Chain 1: Iteration:  800 / 2000 [ 40%]  (Warmup)\n",
      "Chain 1: Iteration: 1000 / 2000 [ 50%]  (Warmup)\n",
      "Chain 1: Iteration: 1001 / 2000 [ 50%]  (Sampling)\n",
      "Chain 1: Iteration: 1200 / 2000 [ 60%]  (Sampling)\n",
      "Chain 1: Iteration: 1400 / 2000 [ 70%]  (Sampling)\n",
      "Chain 1: Iteration: 1600 / 2000 [ 80%]  (Sampling)\n",
      "Chain 1: Iteration: 1800 / 2000 [ 90%]  (Sampling)\n",
      "Chain 1: Iteration: 2000 / 2000 [100%]  (Sampling)\n",
      "Chain 1: \n",
      "Chain 1:  Elapsed Time: 0.029669 seconds (Warm-up)\n",
      "Chain 1:                0.022816 seconds (Sampling)\n",
      "Chain 1:                0.052485 seconds (Total)\n",
      "Chain 1: \n",
      "\n",
      "SAMPLING FOR MODEL 'continuous' NOW (CHAIN 2).\n",
      "Chain 2: \n",
      "Chain 2: Gradient evaluation took 7e-06 seconds\n",
      "Chain 2: 1000 transitions using 10 leapfrog steps per transition would take 0.07 seconds.\n",
      "Chain 2: Adjust your expectations accordingly!\n",
      "Chain 2: \n",
      "Chain 2: \n",
      "Chain 2: Iteration:    1 / 2000 [  0%]  (Warmup)\n",
      "Chain 2: Iteration:  200 / 2000 [ 10%]  (Warmup)\n",
      "Chain 2: Iteration:  400 / 2000 [ 20%]  (Warmup)\n",
      "Chain 2: Iteration:  600 / 2000 [ 30%]  (Warmup)\n",
      "Chain 2: Iteration:  800 / 2000 [ 40%]  (Warmup)\n",
      "Chain 2: Iteration: 1000 / 2000 [ 50%]  (Warmup)\n",
      "Chain 2: Iteration: 1001 / 2000 [ 50%]  (Sampling)\n",
      "Chain 2: Iteration: 1200 / 2000 [ 60%]  (Sampling)\n",
      "Chain 2: Iteration: 1400 / 2000 [ 70%]  (Sampling)\n",
      "Chain 2: Iteration: 1600 / 2000 [ 80%]  (Sampling)\n",
      "Chain 2: Iteration: 1800 / 2000 [ 90%]  (Sampling)\n",
      "Chain 2: Iteration: 2000 / 2000 [100%]  (Sampling)\n",
      "Chain 2: \n",
      "Chain 2:  Elapsed Time: 0.025153 seconds (Warm-up)\n",
      "Chain 2:                0.021959 seconds (Sampling)\n",
      "Chain 2:                0.047112 seconds (Total)\n",
      "Chain 2: \n",
      "\n",
      "SAMPLING FOR MODEL 'continuous' NOW (CHAIN 3).\n",
      "Chain 3: \n",
      "Chain 3: Gradient evaluation took 7e-06 seconds\n",
      "Chain 3: 1000 transitions using 10 leapfrog steps per transition would take 0.07 seconds.\n",
      "Chain 3: Adjust your expectations accordingly!\n",
      "Chain 3: \n",
      "Chain 3: \n",
      "Chain 3: Iteration:    1 / 2000 [  0%]  (Warmup)\n",
      "Chain 3: Iteration:  200 / 2000 [ 10%]  (Warmup)\n",
      "Chain 3: Iteration:  400 / 2000 [ 20%]  (Warmup)\n",
      "Chain 3: Iteration:  600 / 2000 [ 30%]  (Warmup)\n",
      "Chain 3: Iteration:  800 / 2000 [ 40%]  (Warmup)\n",
      "Chain 3: Iteration: 1000 / 2000 [ 50%]  (Warmup)\n",
      "Chain 3: Iteration: 1001 / 2000 [ 50%]  (Sampling)\n",
      "Chain 3: Iteration: 1200 / 2000 [ 60%]  (Sampling)\n",
      "Chain 3: Iteration: 1400 / 2000 [ 70%]  (Sampling)\n",
      "Chain 3: Iteration: 1600 / 2000 [ 80%]  (Sampling)\n",
      "Chain 3: Iteration: 1800 / 2000 [ 90%]  (Sampling)\n",
      "Chain 3: Iteration: 2000 / 2000 [100%]  (Sampling)\n",
      "Chain 3: \n",
      "Chain 3:  Elapsed Time: 0.023042 seconds (Warm-up)\n",
      "Chain 3:                0.024395 seconds (Sampling)\n",
      "Chain 3:                0.047437 seconds (Total)\n",
      "Chain 3: \n",
      "\n",
      "SAMPLING FOR MODEL 'continuous' NOW (CHAIN 4).\n",
      "Chain 4: \n",
      "Chain 4: Gradient evaluation took 9e-06 seconds\n",
      "Chain 4: 1000 transitions using 10 leapfrog steps per transition would take 0.09 seconds.\n",
      "Chain 4: Adjust your expectations accordingly!\n",
      "Chain 4: \n",
      "Chain 4: \n",
      "Chain 4: Iteration:    1 / 2000 [  0%]  (Warmup)\n",
      "Chain 4: Iteration:  200 / 2000 [ 10%]  (Warmup)\n",
      "Chain 4: Iteration:  400 / 2000 [ 20%]  (Warmup)\n",
      "Chain 4: Iteration:  600 / 2000 [ 30%]  (Warmup)\n",
      "Chain 4: Iteration:  800 / 2000 [ 40%]  (Warmup)\n",
      "Chain 4: Iteration: 1000 / 2000 [ 50%]  (Warmup)\n",
      "Chain 4: Iteration: 1001 / 2000 [ 50%]  (Sampling)\n",
      "Chain 4: Iteration: 1200 / 2000 [ 60%]  (Sampling)\n",
      "Chain 4: Iteration: 1400 / 2000 [ 70%]  (Sampling)\n",
      "Chain 4: Iteration: 1600 / 2000 [ 80%]  (Sampling)\n",
      "Chain 4: Iteration: 1800 / 2000 [ 90%]  (Sampling)\n",
      "Chain 4: Iteration: 2000 / 2000 [100%]  (Sampling)\n",
      "Chain 4: \n",
      "Chain 4:  Elapsed Time: 0.025779 seconds (Warm-up)\n",
      "Chain 4:                0.023101 seconds (Sampling)\n",
      "Chain 4:                0.04888 seconds (Total)\n",
      "Chain 4: \n"
     ]
    },
    {
     "data": {
      "text/plain": [
       "stan_glm\n",
       " family:       gaussian [identity]\n",
       " formula:      vote ~ growth\n",
       " observations: 16\n",
       " predictors:   2\n",
       "------\n",
       "            Median MAD_SD\n",
       "(Intercept) 46.2    1.7  \n",
       "growth       3.1    0.7  \n",
       "\n",
       "Auxiliary parameter(s):\n",
       "      Median MAD_SD\n",
       "sigma 3.9    0.8   \n",
       "\n",
       "------\n",
       "* For help interpreting the printed output see ?print.stanreg\n",
       "* For info on the priors used see ?prior_summary.stanreg"
      ]
     },
     "metadata": {},
     "output_type": "display_data"
    }
   ],
   "source": [
    "M1 <- stan_glm(vote ~ growth, data=hibbs)\n",
    "M1"
   ]
  },
  {
   "cell_type": "code",
   "execution_count": 17,
   "id": "0099fb0d",
   "metadata": {},
   "outputs": [
    {
     "data": {
      "image/png": "[encoded data removed]",
      "text/plain": [
       "plot without title"
      ]
     },
     "metadata": {
      "image/png": {
       "height": 420,
       "width": 420
      }
     },
     "output_type": "display_data"
    }
   ],
   "source": [
    "plot(hibbs$growth, hibbs$vote, xlab=\"Economic growth\", ylab=\"Incumbent party's vote share\")\n",
    "abline(coef(M1))"
   ]
  },
  {
   "cell_type": "markdown",
   "id": "79a077a8",
   "metadata": {},
   "source": [
    "## 2 Fake data simulation"
   ]
  },
  {
   "cell_type": "markdown",
   "id": "55c67568",
   "metadata": {},
   "source": [
    "### 2.1 Create world "
   ]
  },
  {
   "cell_type": "code",
   "execution_count": 20,
   "id": "e488a893",
   "metadata": {},
   "outputs": [],
   "source": [
    "# Create the world\n",
    "a <- 46.3\n",
    "b <- 3.0\n",
    "sigma <- 3.9\n",
    "x <- hibbs$growth\n",
    "n <- length(x)"
   ]
  },
  {
   "cell_type": "markdown",
   "id": "59a5751a",
   "metadata": {},
   "source": [
    "### 2.2 Create fake data "
   ]
  },
  {
   "cell_type": "code",
   "execution_count": 21,
   "id": "95d2b1ac",
   "metadata": {},
   "outputs": [],
   "source": [
    "# Create fake data\n",
    "y <- a + b*x + rnorm(n, 0, sigma)\n",
    "fake <- data.frame(x, y)"
   ]
  },
  {
   "cell_type": "markdown",
   "id": "08c29a59",
   "metadata": {},
   "source": [
    "### 2.3 Fit model and compare to assumed values "
   ]
  },
  {
   "cell_type": "code",
   "execution_count": 22,
   "id": "85a1227d",
   "metadata": {
    "scrolled": false
   },
   "outputs": [
    {
     "name": "stdout",
     "output_type": "stream",
     "text": [
      "\n",
      "SAMPLING FOR MODEL 'continuous' NOW (CHAIN 1).\n",
      "Chain 1: \n",
      "Chain 1: Gradient evaluation took 2e-05 seconds\n",
      "Chain 1: 1000 transitions using 10 leapfrog steps per transition would take 0.2 seconds.\n",
      "Chain 1: Adjust your expectations accordingly!\n",
      "Chain 1: \n",
      "Chain 1: \n",
      "Chain 1: Iteration:    1 / 2000 [  0%]  (Warmup)\n",
      "Chain 1: Iteration:  200 / 2000 [ 10%]  (Warmup)\n",
      "Chain 1: Iteration:  400 / 2000 [ 20%]  (Warmup)\n",
      "Chain 1: Iteration:  600 / 2000 [ 30%]  (Warmup)\n",
      "Chain 1: Iteration:  800 / 2000 [ 40%]  (Warmup)\n",
      "Chain 1: Iteration: 1000 / 2000 [ 50%]  (Warmup)\n",
      "Chain 1: Iteration: 1001 / 2000 [ 50%]  (Sampling)\n",
      "Chain 1: Iteration: 1200 / 2000 [ 60%]  (Sampling)\n",
      "Chain 1: Iteration: 1400 / 2000 [ 70%]  (Sampling)\n",
      "Chain 1: Iteration: 1600 / 2000 [ 80%]  (Sampling)\n",
      "Chain 1: Iteration: 1800 / 2000 [ 90%]  (Sampling)\n",
      "Chain 1: Iteration: 2000 / 2000 [100%]  (Sampling)\n",
      "Chain 1: \n",
      "Chain 1:  Elapsed Time: 0.037836 seconds (Warm-up)\n",
      "Chain 1:                0.027753 seconds (Sampling)\n",
      "Chain 1:                0.065589 seconds (Total)\n",
      "Chain 1: \n",
      "\n",
      "SAMPLING FOR MODEL 'continuous' NOW (CHAIN 2).\n",
      "Chain 2: \n",
      "Chain 2: Gradient evaluation took 1.1e-05 seconds\n",
      "Chain 2: 1000 transitions using 10 leapfrog steps per transition would take 0.11 seconds.\n",
      "Chain 2: Adjust your expectations accordingly!\n",
      "Chain 2: \n",
      "Chain 2: \n",
      "Chain 2: Iteration:    1 / 2000 [  0%]  (Warmup)\n",
      "Chain 2: Iteration:  200 / 2000 [ 10%]  (Warmup)\n",
      "Chain 2: Iteration:  400 / 2000 [ 20%]  (Warmup)\n",
      "Chain 2: Iteration:  600 / 2000 [ 30%]  (Warmup)\n",
      "Chain 2: Iteration:  800 / 2000 [ 40%]  (Warmup)\n",
      "Chain 2: Iteration: 1000 / 2000 [ 50%]  (Warmup)\n",
      "Chain 2: Iteration: 1001 / 2000 [ 50%]  (Sampling)\n",
      "Chain 2: Iteration: 1200 / 2000 [ 60%]  (Sampling)\n",
      "Chain 2: Iteration: 1400 / 2000 [ 70%]  (Sampling)\n",
      "Chain 2: Iteration: 1600 / 2000 [ 80%]  (Sampling)\n",
      "Chain 2: Iteration: 1800 / 2000 [ 90%]  (Sampling)\n",
      "Chain 2: Iteration: 2000 / 2000 [100%]  (Sampling)\n",
      "Chain 2: \n",
      "Chain 2:  Elapsed Time: 0.026449 seconds (Warm-up)\n",
      "Chain 2:                0.023286 seconds (Sampling)\n",
      "Chain 2:                0.049735 seconds (Total)\n",
      "Chain 2: \n",
      "\n",
      "SAMPLING FOR MODEL 'continuous' NOW (CHAIN 3).\n",
      "Chain 3: \n",
      "Chain 3: Gradient evaluation took 8e-06 seconds\n",
      "Chain 3: 1000 transitions using 10 leapfrog steps per transition would take 0.08 seconds.\n",
      "Chain 3: Adjust your expectations accordingly!\n",
      "Chain 3: \n",
      "Chain 3: \n",
      "Chain 3: Iteration:    1 / 2000 [  0%]  (Warmup)\n",
      "Chain 3: Iteration:  200 / 2000 [ 10%]  (Warmup)\n",
      "Chain 3: Iteration:  400 / 2000 [ 20%]  (Warmup)\n",
      "Chain 3: Iteration:  600 / 2000 [ 30%]  (Warmup)\n",
      "Chain 3: Iteration:  800 / 2000 [ 40%]  (Warmup)\n",
      "Chain 3: Iteration: 1000 / 2000 [ 50%]  (Warmup)\n",
      "Chain 3: Iteration: 1001 / 2000 [ 50%]  (Sampling)\n",
      "Chain 3: Iteration: 1200 / 2000 [ 60%]  (Sampling)\n",
      "Chain 3: Iteration: 1400 / 2000 [ 70%]  (Sampling)\n",
      "Chain 3: Iteration: 1600 / 2000 [ 80%]  (Sampling)\n",
      "Chain 3: Iteration: 1800 / 2000 [ 90%]  (Sampling)\n",
      "Chain 3: Iteration: 2000 / 2000 [100%]  (Sampling)\n",
      "Chain 3: \n",
      "Chain 3:  Elapsed Time: 0.025786 seconds (Warm-up)\n",
      "Chain 3:                0.023117 seconds (Sampling)\n",
      "Chain 3:                0.048903 seconds (Total)\n",
      "Chain 3: \n",
      "\n",
      "SAMPLING FOR MODEL 'continuous' NOW (CHAIN 4).\n",
      "Chain 4: \n",
      "Chain 4: Gradient evaluation took 7e-06 seconds\n",
      "Chain 4: 1000 transitions using 10 leapfrog steps per transition would take 0.07 seconds.\n",
      "Chain 4: Adjust your expectations accordingly!\n",
      "Chain 4: \n",
      "Chain 4: \n",
      "Chain 4: Iteration:    1 / 2000 [  0%]  (Warmup)\n",
      "Chain 4: Iteration:  200 / 2000 [ 10%]  (Warmup)\n",
      "Chain 4: Iteration:  400 / 2000 [ 20%]  (Warmup)\n",
      "Chain 4: Iteration:  600 / 2000 [ 30%]  (Warmup)\n",
      "Chain 4: Iteration:  800 / 2000 [ 40%]  (Warmup)\n",
      "Chain 4: Iteration: 1000 / 2000 [ 50%]  (Warmup)\n",
      "Chain 4: Iteration: 1001 / 2000 [ 50%]  (Sampling)\n",
      "Chain 4: Iteration: 1200 / 2000 [ 60%]  (Sampling)\n",
      "Chain 4: Iteration: 1400 / 2000 [ 70%]  (Sampling)\n",
      "Chain 4: Iteration: 1600 / 2000 [ 80%]  (Sampling)\n",
      "Chain 4: Iteration: 1800 / 2000 [ 90%]  (Sampling)\n",
      "Chain 4: Iteration: 2000 / 2000 [100%]  (Sampling)\n",
      "Chain 4: \n",
      "Chain 4:  Elapsed Time: 0.025847 seconds (Warm-up)\n",
      "Chain 4:                0.026583 seconds (Sampling)\n",
      "Chain 4:                0.05243 seconds (Total)\n",
      "Chain 4: \n"
     ]
    },
    {
     "data": {
      "text/plain": [
       "stan_glm\n",
       " family:       gaussian [identity]\n",
       " formula:      y ~ x\n",
       " observations: 16\n",
       " predictors:   2\n",
       "------\n",
       "            Median MAD_SD\n",
       "(Intercept) 42.6    1.6  \n",
       "x            4.2    0.7  \n",
       "\n",
       "Auxiliary parameter(s):\n",
       "      Median MAD_SD\n",
       "sigma 3.8    0.7   \n",
       "\n",
       "------\n",
       "* For help interpreting the printed output see ?print.stanreg\n",
       "* For info on the priors used see ?prior_summary.stanreg"
      ]
     },
     "metadata": {},
     "output_type": "display_data"
    }
   ],
   "source": [
    "# Fit the model and compare fitted to assumed values\n",
    "fit <- stan_glm(y ~ x, data=fake)\n",
    "fit"
   ]
  },
  {
   "cell_type": "code",
   "execution_count": 23,
   "id": "41837197",
   "metadata": {},
   "outputs": [],
   "source": [
    "b_hat <- coef(fit)[\"x\"]\n",
    "b_se <- se(fit)[\"x\"]"
   ]
  },
  {
   "cell_type": "code",
   "execution_count": 30,
   "id": "2afccd12",
   "metadata": {},
   "outputs": [
    {
     "data": {
      "text/html": [
       "<strong>x:</strong> 4.17967089514842"
      ],
      "text/latex": [
       "\\textbf{x:} 4.17967089514842"
      ],
      "text/markdown": [
       "**x:** 4.17967089514842"
      ],
      "text/plain": [
       "       x \n",
       "4.179671 "
      ]
     },
     "metadata": {},
     "output_type": "display_data"
    }
   ],
   "source": [
    "b_hat"
   ]
  },
  {
   "cell_type": "code",
   "execution_count": 28,
   "id": "cdaa9d38",
   "metadata": {},
   "outputs": [
    {
     "data": {
      "text/html": [
       "<strong>x:</strong> 0.691487715198171"
      ],
      "text/latex": [
       "\\textbf{x:} 0.691487715198171"
      ],
      "text/markdown": [
       "**x:** 0.691487715198171"
      ],
      "text/plain": [
       "        x \n",
       "0.6914877 "
      ]
     },
     "metadata": {},
     "output_type": "display_data"
    }
   ],
   "source": [
    "b_se"
   ]
  },
  {
   "cell_type": "code",
   "execution_count": 34,
   "id": "a28cd682",
   "metadata": {},
   "outputs": [
    {
     "name": "stdout",
     "output_type": "stream",
     "text": [
      "68% coverage:  FALSE \n",
      "95% coverage:  TRUE \n"
     ]
    }
   ],
   "source": [
    "cover_68 <- abs(b - b_hat) < b_se\n",
    "cover_95 <- abs(b - b_hat) < 2 * b_se\n",
    "cat(paste(\"68% coverage: \", cover_68, \"\\n\"))\n",
    "cat(paste(\"95% coverage: \", cover_95, \"\\n\"))"
   ]
  },
  {
   "cell_type": "markdown",
   "id": "1bc1aea4",
   "metadata": {},
   "source": [
    "### 2.4 Embed the simulation in a loop "
   ]
  },
  {
   "cell_type": "code",
   "execution_count": 35,
   "id": "937221ff",
   "metadata": {},
   "outputs": [],
   "source": [
    "n_fake <- 1000\n",
    "cover_68 <- rep(NA, n_fake)\n",
    "cover_95 <- rep(NA, n_fake)\n",
    "for (s in 1:n_fake) {\n",
    "    y <- a + b*x + rnorm(n, 0, sigma)\n",
    "    fake <- data.frame(x, y)\n",
    "    fit <- stan_glm(y ~ x, data=fake, refresh=0) # suppress console output\n",
    "    b_hat <- coef(fit)[\"x\"]\n",
    "    b_se <- se(fit)[\"x\"]\n",
    "    cover_68[s] <- abs(b - b_hat) < b_se\n",
    "    cover_95[s] <- abs(b - b_hat) < 2 * b_se\n",
    "}"
   ]
  },
  {
   "cell_type": "code",
   "execution_count": 36,
   "id": "a8d6de9f",
   "metadata": {},
   "outputs": [
    {
     "name": "stdout",
     "output_type": "stream",
     "text": [
      "68% coverage:  0.662 \n",
      "95% coverage:  0.928 \n"
     ]
    }
   ],
   "source": [
    "cat(paste(\"68% coverage: \", mean(cover_68), \"\\n\"))\n",
    "cat(paste(\"95% coverage: \", mean(cover_95), \"\\n\"))"
   ]
  },
  {
   "cell_type": "code",
   "execution_count": null,
   "id": "3c6821e6",
   "metadata": {},
   "outputs": [],
   "source": []
  }
 ],
 "metadata": {
  "kernelspec": {
   "display_name": "R",
   "language": "R",
   "name": "ir"
  },
  "language_info": {
   "codemirror_mode": "r",
   "file_extension": ".r",
   "mimetype": "text/x-r-source",
   "name": "R",
   "pygments_lexer": "r",
   "version": "4.1.0"
  }
 },
 "nbformat": 4,
 "nbformat_minor": 5
}
