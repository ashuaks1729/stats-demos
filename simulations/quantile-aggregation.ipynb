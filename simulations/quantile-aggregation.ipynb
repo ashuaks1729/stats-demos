{
 "cells": [
  {
   "cell_type": "markdown",
   "id": "7a195b3e",
   "metadata": {},
   "source": [
    "# Quantile aggregation"
   ]
  },
  {
   "cell_type": "code",
   "execution_count": 31,
   "id": "c586666c",
   "metadata": {},
   "outputs": [],
   "source": [
    "import numpy as np\n",
    "import pandas as pd\n",
    "import random\n",
    "import matplotlib.pyplot as plt"
   ]
  },
  {
   "cell_type": "code",
   "execution_count": 32,
   "id": "fd10c005",
   "metadata": {},
   "outputs": [],
   "source": [
    "rng = np.random.default_rng(42)"
   ]
  },
  {
   "cell_type": "code",
   "execution_count": 33,
   "id": "1a2aeb39",
   "metadata": {},
   "outputs": [],
   "source": [
    "def plot_data(data, title, plot_range):\n",
    "    plt.hist(data, bins=100, range=plot_range)\n",
    "    plt.title(title)\n",
    "    plt.show()"
   ]
  },
  {
   "cell_type": "code",
   "execution_count": 34,
   "id": "ac19160d",
   "metadata": {},
   "outputs": [],
   "source": [
    "iq_boys = rng.normal(100, 15, 10000)\n",
    "iq_girls = rng.normal(100, 15, 10000)"
   ]
  },
  {
   "cell_type": "code",
   "execution_count": 35,
   "id": "53e7fc95",
   "metadata": {},
   "outputs": [
    {
     "data": {
      "image/png": "[encoded data removed]",
      "text/plain": [
       "<Figure size 432x288 with 1 Axes>"
      ]
     },
     "metadata": {
      "needs_background": "light"
     },
     "output_type": "display_data"
    }
   ],
   "source": [
    "plot_data(iq_boys, \"IQ scores, boys\", [20, 180])"
   ]
  },
  {
   "cell_type": "code",
   "execution_count": 36,
   "id": "c4759669",
   "metadata": {},
   "outputs": [
    {
     "data": {
      "image/png": "[encoded data removed]",
      "text/plain": [
       "<Figure size 432x288 with 1 Axes>"
      ]
     },
     "metadata": {
      "needs_background": "light"
     },
     "output_type": "display_data"
    }
   ],
   "source": [
    "plot_data(iq_girls, \"IQ scores, girls\", [20, 180])"
   ]
  },
  {
   "cell_type": "code",
   "execution_count": 39,
   "id": "2c073719",
   "metadata": {},
   "outputs": [],
   "source": [
    "df = pd.DataFrame({ \"iq_boy\": iq_boys, \"iq_girl\": iq_girls, \"iq_total\": iq_boys + iq_girls })"
   ]
  },
  {
   "cell_type": "code",
   "execution_count": 40,
   "id": "66fa1366",
   "metadata": {},
   "outputs": [
    {
     "data": {
      "text/html": [
       "<div>\n",
       "<style scoped>\n",
       "    .dataframe tbody tr th:only-of-type {\n",
       "        vertical-align: middle;\n",
       "    }\n",
       "\n",
       "    .dataframe tbody tr th {\n",
       "        vertical-align: top;\n",
       "    }\n",
       "\n",
       "    .dataframe thead th {\n",
       "        text-align: right;\n",
       "    }\n",
       "</style>\n",
       "<table border=\"1\" class=\"dataframe\">\n",
       "  <thead>\n",
       "    <tr style=\"text-align: right;\">\n",
       "      <th></th>\n",
       "      <th>iq_boy</th>\n",
       "      <th>iq_girl</th>\n",
       "      <th>iq_total</th>\n",
       "    </tr>\n",
       "  </thead>\n",
       "  <tbody>\n",
       "    <tr>\n",
       "      <th>0</th>\n",
       "      <td>104.570756</td>\n",
       "      <td>102.644156</td>\n",
       "      <td>207.214912</td>\n",
       "    </tr>\n",
       "    <tr>\n",
       "      <th>1</th>\n",
       "      <td>84.400238</td>\n",
       "      <td>113.486852</td>\n",
       "      <td>197.887091</td>\n",
       "    </tr>\n",
       "    <tr>\n",
       "      <th>2</th>\n",
       "      <td>111.256768</td>\n",
       "      <td>77.915941</td>\n",
       "      <td>189.172709</td>\n",
       "    </tr>\n",
       "    <tr>\n",
       "      <th>3</th>\n",
       "      <td>114.108471</td>\n",
       "      <td>95.720528</td>\n",
       "      <td>209.828998</td>\n",
       "    </tr>\n",
       "    <tr>\n",
       "      <th>4</th>\n",
       "      <td>70.734472</td>\n",
       "      <td>112.437299</td>\n",
       "      <td>183.171772</td>\n",
       "    </tr>\n",
       "    <tr>\n",
       "      <th>...</th>\n",
       "      <td>...</td>\n",
       "      <td>...</td>\n",
       "      <td>...</td>\n",
       "    </tr>\n",
       "    <tr>\n",
       "      <th>9995</th>\n",
       "      <td>124.301592</td>\n",
       "      <td>126.472432</td>\n",
       "      <td>250.774024</td>\n",
       "    </tr>\n",
       "    <tr>\n",
       "      <th>9996</th>\n",
       "      <td>99.052303</td>\n",
       "      <td>87.818218</td>\n",
       "      <td>186.870521</td>\n",
       "    </tr>\n",
       "    <tr>\n",
       "      <th>9997</th>\n",
       "      <td>101.278732</td>\n",
       "      <td>109.619681</td>\n",
       "      <td>210.898413</td>\n",
       "    </tr>\n",
       "    <tr>\n",
       "      <th>9998</th>\n",
       "      <td>116.871163</td>\n",
       "      <td>107.965642</td>\n",
       "      <td>224.836805</td>\n",
       "    </tr>\n",
       "    <tr>\n",
       "      <th>9999</th>\n",
       "      <td>97.257252</td>\n",
       "      <td>117.624713</td>\n",
       "      <td>214.881965</td>\n",
       "    </tr>\n",
       "  </tbody>\n",
       "</table>\n",
       "<p>10000 rows × 3 columns</p>\n",
       "</div>"
      ],
      "text/plain": [
       "          iq_boy     iq_girl    iq_total\n",
       "0     104.570756  102.644156  207.214912\n",
       "1      84.400238  113.486852  197.887091\n",
       "2     111.256768   77.915941  189.172709\n",
       "3     114.108471   95.720528  209.828998\n",
       "4      70.734472  112.437299  183.171772\n",
       "...          ...         ...         ...\n",
       "9995  124.301592  126.472432  250.774024\n",
       "9996   99.052303   87.818218  186.870521\n",
       "9997  101.278732  109.619681  210.898413\n",
       "9998  116.871163  107.965642  224.836805\n",
       "9999   97.257252  117.624713  214.881965\n",
       "\n",
       "[10000 rows x 3 columns]"
      ]
     },
     "execution_count": 40,
     "metadata": {},
     "output_type": "execute_result"
    }
   ],
   "source": [
    "df"
   ]
  },
  {
   "cell_type": "code",
   "execution_count": 42,
   "id": "40964356",
   "metadata": {},
   "outputs": [
    {
     "data": {
      "image/png": "[encoded data removed]",
      "text/plain": [
       "<Figure size 432x288 with 1 Axes>"
      ]
     },
     "metadata": {
      "needs_background": "light"
     },
     "output_type": "display_data"
    }
   ],
   "source": [
    "plot_data(df[\"iq_total\"], \"Total IQ score\", [100, 300])"
   ]
  },
  {
   "cell_type": "code",
   "execution_count": 43,
   "id": "85103769",
   "metadata": {},
   "outputs": [
    {
     "data": {
      "text/plain": [
       "124.64109992925111"
      ]
     },
     "execution_count": 43,
     "metadata": {},
     "output_type": "execute_result"
    }
   ],
   "source": [
    "np.quantile(df[\"iq_boy\"], 0.95)"
   ]
  },
  {
   "cell_type": "code",
   "execution_count": 44,
   "id": "761dad84",
   "metadata": {},
   "outputs": [
    {
     "data": {
      "text/plain": [
       "125.4877505975583"
      ]
     },
     "execution_count": 44,
     "metadata": {},
     "output_type": "execute_result"
    }
   ],
   "source": [
    "np.quantile(df[\"iq_girl\"], 0.95)"
   ]
  },
  {
   "cell_type": "code",
   "execution_count": 46,
   "id": "db20736c",
   "metadata": {},
   "outputs": [
    {
     "data": {
      "text/plain": [
       "235.55075458235353"
      ]
     },
     "execution_count": 46,
     "metadata": {},
     "output_type": "execute_result"
    }
   ],
   "source": [
    "np.quantile(df[\"iq_total\"], 0.95)"
   ]
  },
  {
   "cell_type": "code",
   "execution_count": null,
   "id": "818b4ce9",
   "metadata": {},
   "outputs": [],
   "source": []
  }
 ],
 "metadata": {
  "kernelspec": {
   "display_name": "Python 3 (ipykernel)",
   "language": "python",
   "name": "python3"
  },
  "language_info": {
   "codemirror_mode": {
    "name": "ipython",
    "version": 3
   },
   "file_extension": ".py",
   "mimetype": "text/x-python",
   "name": "python",
   "nbconvert_exporter": "python",
   "pygments_lexer": "ipython3",
   "version": "3.9.5"
  }
 },
 "nbformat": 4,
 "nbformat_minor": 5
}
