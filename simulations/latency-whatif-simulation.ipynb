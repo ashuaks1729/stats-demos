{
 "cells": [
  {
   "cell_type": "markdown",
   "id": "6675d842",
   "metadata": {},
   "source": [
    "# Latency \"what-if\" simulation"
   ]
  },
  {
   "cell_type": "code",
   "execution_count": 43,
   "id": "3d479b2e",
   "metadata": {},
   "outputs": [],
   "source": [
    "import numpy as np\n",
    "import matplotlib.pyplot as plt"
   ]
  },
  {
   "cell_type": "code",
   "execution_count": 44,
   "id": "b8f4de51",
   "metadata": {},
   "outputs": [],
   "source": [
    "rng = np.random.default_rng(42)"
   ]
  },
  {
   "cell_type": "code",
   "execution_count": 45,
   "id": "aa79de6c",
   "metadata": {},
   "outputs": [],
   "source": [
    "n = 1000\n",
    "xrange = [0, 100]"
   ]
  },
  {
   "cell_type": "code",
   "execution_count": 69,
   "id": "1c1baeb5",
   "metadata": {},
   "outputs": [],
   "source": [
    "def plot_stages(s0, s1, s2, total):\n",
    "    fig, ax = plt.subplots(1, 4, figsize=(12, 2), sharex=True, tight_layout=True)\n",
    "\n",
    "    ax[0].hist(s0, bins=20, range=xrange)\n",
    "    ax[0].set_title(\"S0 latency\")\n",
    "\n",
    "    ax[1].hist(s1, bins=20, range=xrange)\n",
    "    ax[1].set_title(\"S1 latency\")\n",
    "\n",
    "    ax[2].hist(s2, bins=20, range=xrange)\n",
    "    ax[2].set_title(\"S2 latency\")\n",
    "\n",
    "    ax[3].hist(total, bins=20, range=xrange)\n",
    "    ax[3].set_title(\"Total latency\")\n",
    "\n",
    "    plt.show()"
   ]
  },
  {
   "cell_type": "code",
   "execution_count": 87,
   "id": "7afa99e9",
   "metadata": {},
   "outputs": [],
   "source": [
    "def run_sim(m, sd, n):\n",
    "    s0 = rng.lognormal(m[0], sd[0], n)\n",
    "    s1 = rng.lognormal(m[1], sd[1], n)\n",
    "    s2 = rng.lognormal(m[2], sd[1], n)\n",
    "    total = s0 + s1 + s2\n",
    "    plot_stages(s0, s1, s2, total)\n",
    "    print(f\"Total p50, p95, p99={np.quantile(total, [0.5, 0.95, 0.99])}\")"
   ]
  },
  {
   "cell_type": "markdown",
   "id": "c73fd4a8",
   "metadata": {},
   "source": [
    "## Baseline "
   ]
  },
  {
   "cell_type": "code",
   "execution_count": 85,
   "id": "13e348e0",
   "metadata": {},
   "outputs": [
    {
     "data": {
      "image/png": "[encoded data removed]",
      "text/plain": [
       "<Figure size 864x144 with 4 Axes>"
      ]
     },
     "metadata": {
      "needs_background": "light"
     },
     "output_type": "display_data"
    },
    {
     "name": "stdout",
     "output_type": "stream",
     "text": [
      "Total p50, p95, p99=[43.41349027 65.5088208  77.16034759]\n"
     ]
    }
   ],
   "source": [
    "base_mean = [2.5, 3.1, 2.1]\n",
    "base_sd = [0.3, 0.4, 0.5]\n",
    "run_sim(base_mean, base_sd, n)"
   ]
  },
  {
   "cell_type": "markdown",
   "id": "d653181e",
   "metadata": {},
   "source": [
    "## Improved "
   ]
  },
  {
   "cell_type": "code",
   "execution_count": 86,
   "id": "a3d3ab90",
   "metadata": {},
   "outputs": [
    {
     "data": {
      "image/png": "[encoded data removed]",
      "text/plain": [
       "<Figure size 864x144 with 4 Axes>"
      ]
     },
     "metadata": {
      "needs_background": "light"
     },
     "output_type": "display_data"
    },
    {
     "name": "stdout",
     "output_type": "stream",
     "text": [
      "Total p50, p95, p99=[33.88734523 49.4790683  54.04962044]\n"
     ]
    }
   ],
   "source": [
    "imp_mean = [2.5, 2.5, 2.1]\n",
    "imp_sd = base_sd\n",
    "run_sim(imp_mean, imp_sd, n)"
   ]
  }
 ],
 "metadata": {
  "kernelspec": {
   "display_name": "Python 3",
   "language": "python",
   "name": "python3"
  },
  "language_info": {
   "codemirror_mode": {
    "name": "ipython",
    "version": 3
   },
   "file_extension": ".py",
   "mimetype": "text/x-python",
   "name": "python",
   "nbconvert_exporter": "python",
   "pygments_lexer": "ipython3",
   "version": "3.9.5"
  }
 },
 "nbformat": 4,
 "nbformat_minor": 5
}
