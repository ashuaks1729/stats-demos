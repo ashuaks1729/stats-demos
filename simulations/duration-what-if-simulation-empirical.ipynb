{
 "cells": [
  {
   "cell_type": "markdown",
   "id": "54b143da",
   "metadata": {},
   "source": [
    "# Duration \"what-if\" simulation with empirical distributions "
   ]
  },
  {
   "cell_type": "code",
   "execution_count": 1,
   "id": "c8dfe3fb",
   "metadata": {},
   "outputs": [],
   "source": [
    "import numpy as np\n",
    "import random\n",
    "import matplotlib.pyplot as plt"
   ]
  },
  {
   "cell_type": "code",
   "execution_count": 2,
   "id": "7b487f77",
   "metadata": {},
   "outputs": [],
   "source": [
    "rng = np.random.default_rng(42)"
   ]
  },
  {
   "cell_type": "code",
   "execution_count": 3,
   "id": "32fdba28",
   "metadata": {},
   "outputs": [],
   "source": [
    "def left_trunc(data):\n",
    "    zeros = np.zeros(data.shape[0])\n",
    "    return np.maximum(zeros, data)"
   ]
  },
  {
   "cell_type": "code",
   "execution_count": 4,
   "id": "6621ffc0",
   "metadata": {},
   "outputs": [],
   "source": [
    "def dump_quantiles(data_ctrl, data_exp):\n",
    "    q = [0.25, 0.5, 0.75, 0.9, 0.95, 0.99]\n",
    "    q_ctrl = np.quantile(data_ctrl, q)\n",
    "    q_exp = np.quantile(data_exp, q)\n",
    "    print(\"Baseline        Experiment\")\n",
    "    print(f\"p25={q_ctrl[0]:6.2f}      p25={q_exp[0]:6.2f}\")\n",
    "    print(f\"p50={q_ctrl[1]:6.2f}      p50={q_exp[1]:6.2f}\")\n",
    "    print(f\"p75={q_ctrl[2]:6.2f}      p75={q_exp[2]:6.2f}\")\n",
    "    print(f\"p90={q_ctrl[3]:6.2f}      p90={q_exp[3]:6.2f}\")\n",
    "    print(f\"p95={q_ctrl[4]:6.2f}      p95={q_exp[4]:6.2f}\")\n",
    "    print(f\"p99={q_ctrl[5]:6.2f}      p99={q_exp[5]:6.2f}\")"
   ]
  },
  {
   "cell_type": "code",
   "execution_count": 16,
   "id": "dcf96454",
   "metadata": {},
   "outputs": [],
   "source": [
    "def plot_data(data, title, plot_range):\n",
    "    plt.hist(data, bins=100, range=plot_range)\n",
    "    plt.title(title)\n",
    "    plt.show()"
   ]
  },
  {
   "cell_type": "code",
   "execution_count": 17,
   "id": "41fa74a2",
   "metadata": {},
   "outputs": [],
   "source": [
    "def plot_sim_vs_observed(data_obs, title_obs, data_sim, title_sim, plot_range):\n",
    "    fig, ax = plt.subplots(nrows=2, ncols=1, tight_layout=True, sharex=True, sharey=False, figsize=(8, 5))\n",
    "\n",
    "    ax[0].hist(data_obs, bins=100, range=plot_range)\n",
    "    ax[0].set_title(title_obs)\n",
    "    ax[0].set_ylabel(\"Count\")\n",
    "\n",
    "    ax[1].hist(data_sim, bins=100, range=plot_range)\n",
    "    ax[1].set_title(title_sim)\n",
    "    ax[1].set_xlabel(\"Duration (ms)\")\n",
    "    ax[1].set_ylabel(\"Count\")\n",
    "\n",
    "    plt.show()"
   ]
  },
  {
   "cell_type": "markdown",
   "id": "0c85a8c3",
   "metadata": {},
   "source": [
    "## 1 Generate observations"
   ]
  },
  {
   "cell_type": "markdown",
   "id": "abbc7456",
   "metadata": {},
   "source": [
    "Our hypothetical process is a web service endpoint that queries a database for a list of records, does some processing on each, and then returns the result of that processing to the user. Both query time and processing time are roughly linear in the size of the record list.\n",
    "\n",
    "There are two request classes: an \"small\" class and a \"large\" class. \"Small\" and \"large\" refer to the number of records returned rather than the number of requests. Indeed we will have more small requests than large requests.\n",
    "\n",
    "Even though we're manufacturing this data, we'll treat it as actual observations for the purposes of this notebook. That is, we will treat the manufactured data as the simulation target; it's not itself the simulation."
   ]
  },
  {
   "cell_type": "code",
   "execution_count": 18,
   "id": "3a6ce6bf",
   "metadata": {},
   "outputs": [],
   "source": [
    "# Counts for small vs large requests\n",
    "n_total = 20000\n",
    "n_small = 15000\n",
    "n_large = n_total - n_small\n",
    "\n",
    "query_err_small = rng.normal(0.0, 3.0, n_small)\n",
    "query_err_large = rng.normal(0.0, 3.0, n_large)\n",
    "query_dur_small = left_trunc(65.3 + rng.lognormal(1.6, 1.0, n_small) + query_err_small)\n",
    "query_dur_large = left_trunc(85.2 + rng.lognormal(1.6, 1.0, n_large) + query_err_large)\n",
    "query_dur = np.hstack((query_dur_small, query_dur_large))\n",
    "\n",
    "cpu_err_small = rng.normal(0.0, 3.0, n_small)\n",
    "cpu_err_large = rng.normal(0.0, 3.0, n_large)\n",
    "cpu_dur_small = left_trunc(10.0 + 0.3 * query_dur_small + cpu_err_small)\n",
    "cpu_dur_large = left_trunc(38.0 + 0.3 * query_dur_large + cpu_err_large)\n",
    "cpu_dur = np.hstack((cpu_dur_small, cpu_dur_large))\n",
    "\n",
    "total_dur = query_dur + cpu_dur"
   ]
  },
  {
   "cell_type": "code",
   "execution_count": 19,
   "id": "6be5604a",
   "metadata": {},
   "outputs": [
    {
     "data": {
      "image/png": "[encoded data removed]",
      "text/plain": [
       "<Figure size 432x288 with 1 Axes>"
      ]
     },
     "metadata": {
      "needs_background": "light"
     },
     "output_type": "display_data"
    }
   ],
   "source": [
    "plot_data(query_dur, \"Query duration (ms)\", [0, 300])"
   ]
  },
  {
   "cell_type": "code",
   "execution_count": 20,
   "id": "8e9bfdfb",
   "metadata": {},
   "outputs": [
    {
     "data": {
      "image/png": "[encoded data removed]",
      "text/plain": [
       "<Figure size 432x288 with 1 Axes>"
      ]
     },
     "metadata": {
      "needs_background": "light"
     },
     "output_type": "display_data"
    }
   ],
   "source": [
    "plot_data(cpu_dur, \"CPU duration (ms)\", [0, 300])"
   ]
  },
  {
   "cell_type": "code",
   "execution_count": 21,
   "id": "3fedd2a9",
   "metadata": {},
   "outputs": [
    {
     "data": {
      "image/png": "[encoded data removed]",
      "text/plain": [
       "<Figure size 432x288 with 1 Axes>"
      ]
     },
     "metadata": {
      "needs_background": "light"
     },
     "output_type": "display_data"
    }
   ],
   "source": [
    "plot_data(total_dur, \"Total duration (ms)\", [0, 300])"
   ]
  },
  {
   "cell_type": "code",
   "execution_count": 22,
   "id": "2b2f7d32",
   "metadata": {},
   "outputs": [
    {
     "data": {
      "text/plain": [
       "Text(0, 0.5, 'CPU duration (ms)')"
      ]
     },
     "execution_count": 22,
     "metadata": {},
     "output_type": "execute_result"
    },
    {
     "data": {
      "image/png": "[encoded data removed]",
      "text/plain": [
       "<Figure size 576x576 with 1 Axes>"
      ]
     },
     "metadata": {
      "needs_background": "light"
     },
     "output_type": "display_data"
    }
   ],
   "source": [
    "i = random.sample(range(0, n_total), 1000)\n",
    "plt.figure(figsize=(8, 8))\n",
    "plt.title(\"CPU duration vs query duration\")\n",
    "plt.scatter(x=query_dur[i], y=cpu_dur[i], s=0.1)\n",
    "plt.xlim(0, 200)\n",
    "plt.ylim(0, 150)\n",
    "plt.xlabel(\"Query duration (ms)\")\n",
    "plt.ylabel(\"CPU duration (ms)\")"
   ]
  },
  {
   "cell_type": "markdown",
   "id": "bc8c30e7",
   "metadata": {},
   "source": [
    "## 2 Sampling from an empirical distribution"
   ]
  },
  {
   "cell_type": "code",
   "execution_count": null,
   "id": "93f87f36",
   "metadata": {},
   "outputs": [],
   "source": [
    "n_sample = 20000\n",
    "i_sample = random.choices(range(0, n_total), k=n_sample)\n",
    "query_sample = query_dur[i_sample]"
   ]
  },
  {
   "cell_type": "code",
   "execution_count": null,
   "id": "79a3c069",
   "metadata": {},
   "outputs": [],
   "source": [
    "plot_sim_vs_observed(\n",
    "    query_dur, \"Query duration, observed\",\n",
    "    query_sample, \"Query duration, sampled\",\n",
    "    [0, 300])"
   ]
  },
  {
   "cell_type": "code",
   "execution_count": null,
   "id": "8cec9313",
   "metadata": {},
   "outputs": [],
   "source": [
    "dump_quantiles(query_dur, query_sample)"
   ]
  },
  {
   "cell_type": "markdown",
   "id": "ab3870f8",
   "metadata": {},
   "source": [
    "## 3 What-if analysis"
   ]
  },
  {
   "cell_type": "code",
   "execution_count": null,
   "id": "4e67dbab",
   "metadata": {},
   "outputs": [],
   "source": [
    "def run_sim(query_data, cpu_data, n, k_query=1.0, k_cpu=1.0):\n",
    "    i_sample = random.choices(range(0, n_total), k=n)\n",
    "    return k_query * query_data[i_sample] + k_cpu * cpu_data[i_sample]"
   ]
  },
  {
   "cell_type": "code",
   "execution_count": null,
   "id": "ca58555d",
   "metadata": {},
   "outputs": [],
   "source": [
    "n_sim = 20000"
   ]
  },
  {
   "cell_type": "markdown",
   "id": "e3d84805",
   "metadata": {},
   "source": [
    "### Verify the simulation"
   ]
  },
  {
   "cell_type": "code",
   "execution_count": null,
   "id": "f8b05ae2",
   "metadata": {},
   "outputs": [],
   "source": [
    "sim_sample_baseline = run_sim(query_dur, cpu_dur, n_sim)"
   ]
  },
  {
   "cell_type": "code",
   "execution_count": null,
   "id": "bedb1397",
   "metadata": {},
   "outputs": [],
   "source": [
    "plot_sim_vs_observed(\n",
    "    total_dur, \"Total duration, observed\",\n",
    "    sim_sample_baseline, \"Total duration, simulated\",\n",
    "    [0, 300])"
   ]
  },
  {
   "cell_type": "code",
   "execution_count": null,
   "id": "027eb5f6",
   "metadata": {},
   "outputs": [],
   "source": [
    "dump_quantiles(total_dur, sim_sample_baseline)"
   ]
  },
  {
   "cell_type": "markdown",
   "id": "b5e21c9f",
   "metadata": {},
   "source": [
    "### Experiment \\#1: faster queries"
   ]
  },
  {
   "cell_type": "code",
   "execution_count": null,
   "id": "0c9cacdc",
   "metadata": {},
   "outputs": [],
   "source": [
    "sim_sample_whatif_query = run_sim(query_dur, cpu_dur, n_sim, k_query=0.8)"
   ]
  },
  {
   "cell_type": "code",
   "execution_count": null,
   "id": "e2358057",
   "metadata": {},
   "outputs": [],
   "source": [
    "plot_sim_vs_observed(\n",
    "    total_dur, \"Total duration, observed\",\n",
    "    sim_sample_whatif_query, \"Total duration, simulated - faster queries\",\n",
    "    [0, 300])"
   ]
  },
  {
   "cell_type": "code",
   "execution_count": null,
   "id": "71dfb0c9",
   "metadata": {},
   "outputs": [],
   "source": [
    "dump_quantiles(total_dur, sim_sample_whatif_query)"
   ]
  },
  {
   "cell_type": "markdown",
   "id": "290becdd",
   "metadata": {},
   "source": [
    "### Experiment \\#2: faster CPU"
   ]
  },
  {
   "cell_type": "code",
   "execution_count": null,
   "id": "ab1dce04",
   "metadata": {},
   "outputs": [],
   "source": [
    "sim_sample_whatif_cpu = run_sim(query_dur, cpu_dur, n_sim, k_cpu=0.8)"
   ]
  },
  {
   "cell_type": "code",
   "execution_count": null,
   "id": "7cb1dad0",
   "metadata": {},
   "outputs": [],
   "source": [
    "plot_sim_vs_observed(\n",
    "    total_dur, \"Total duration, observed\",\n",
    "    sim_sample_whatif_cpu, \"Total duration, simulated - faster CPU\",\n",
    "    [0, 300])"
   ]
  },
  {
   "cell_type": "code",
   "execution_count": null,
   "id": "fe4b721a",
   "metadata": {},
   "outputs": [],
   "source": [
    "dump_quantiles(total_dur, sim_sample_whatif_cpu)"
   ]
  },
  {
   "cell_type": "markdown",
   "id": "d3a34435",
   "metadata": {},
   "source": [
    "### Experiment \\#3: faster queries and CPU "
   ]
  },
  {
   "cell_type": "code",
   "execution_count": null,
   "id": "aa9bb7be",
   "metadata": {},
   "outputs": [],
   "source": [
    "sim_sample_whatif_both = run_sim(query_dur, cpu_dur, n_sim, k_query=0.8, k_cpu=0.8)"
   ]
  },
  {
   "cell_type": "code",
   "execution_count": null,
   "id": "6b9a7d09",
   "metadata": {},
   "outputs": [],
   "source": [
    "plot_sim_vs_observed(\n",
    "    total_dur, \"Total duration, observed\",\n",
    "    sim_sample_whatif_both, \"Total duration, simulated - faster queries and CPU\",\n",
    "    [0, 300])"
   ]
  },
  {
   "cell_type": "code",
   "execution_count": null,
   "id": "63506b44",
   "metadata": {},
   "outputs": [],
   "source": [
    "dump_quantiles(total_dur, sim_sample_whatif_both)"
   ]
  },
  {
   "cell_type": "markdown",
   "id": "0ea0f334",
   "metadata": {},
   "source": [
    "### Experiment \\#4: slower queries"
   ]
  },
  {
   "cell_type": "code",
   "execution_count": null,
   "id": "2dadb837",
   "metadata": {},
   "outputs": [],
   "source": [
    "sim_sample_whatif_query2 = run_sim(query_dur, cpu_dur, n_sim, k_query=1.3)"
   ]
  },
  {
   "cell_type": "code",
   "execution_count": null,
   "id": "a10a6af1",
   "metadata": {},
   "outputs": [],
   "source": [
    "plot_sim_vs_observed(\n",
    "    total_dur, \"Total duration, observed\",\n",
    "    sim_sample_whatif_query2, \"Total duration, simulated - slower queries\",\n",
    "    [0, 300])"
   ]
  },
  {
   "cell_type": "code",
   "execution_count": null,
   "id": "d1652051",
   "metadata": {},
   "outputs": [],
   "source": [
    "dump_quantiles(total_dur, sim_sample_whatif_query2)"
   ]
  },
  {
   "cell_type": "code",
   "execution_count": null,
   "id": "be083e84",
   "metadata": {},
   "outputs": [],
   "source": []
  }
 ],
 "metadata": {
  "kernelspec": {
   "display_name": "Python 3 (ipykernel)",
   "language": "python",
   "name": "python3"
  },
  "language_info": {
   "codemirror_mode": {
    "name": "ipython",
    "version": 3
   },
   "file_extension": ".py",
   "mimetype": "text/x-python",
   "name": "python",
   "nbconvert_exporter": "python",
   "pygments_lexer": "ipython3",
   "version": "3.9.5"
  }
 },
 "nbformat": 4,
 "nbformat_minor": 5
}
