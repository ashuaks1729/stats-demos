{
 "cells": [
  {
   "cell_type": "markdown",
   "id": "54b143da",
   "metadata": {},
   "source": [
    "# Duration \"what-if\" simulation with empirical distributions "
   ]
  },
  {
   "cell_type": "code",
   "execution_count": 1,
   "id": "c8dfe3fb",
   "metadata": {},
   "outputs": [],
   "source": [
    "import numpy as np\n",
    "import random\n",
    "import matplotlib.pyplot as plt"
   ]
  },
  {
   "cell_type": "code",
   "execution_count": 2,
   "id": "7b487f77",
   "metadata": {},
   "outputs": [],
   "source": [
    "rng = np.random.default_rng(42)"
   ]
  },
  {
   "cell_type": "code",
   "execution_count": 3,
   "id": "6621ffc0",
   "metadata": {},
   "outputs": [],
   "source": [
    "def dump_quantiles(data):\n",
    "    q = np.quantile(data, [0.25, 0.5, 0.75, 0.9, 0.95, 0.99])\n",
    "    print(f\"p25 = {q[0]}\")\n",
    "    print(f\"p50 = {q[1]}\")\n",
    "    print(f\"p75 = {q[2]}\")\n",
    "    print(f\"p90 = {q[3]}\")\n",
    "    print(f\"p95 = {q[4]}\")\n",
    "    print(f\"p99 = {q[5]}\")"
   ]
  },
  {
   "cell_type": "markdown",
   "id": "0c85a8c3",
   "metadata": {},
   "source": [
    "## 1 Manufacture distributions "
   ]
  },
  {
   "cell_type": "markdown",
   "id": "abbc7456",
   "metadata": {},
   "source": [
    "Here we manufacture some \"messy\" distributions. For the purposes of this notebook, we'll treat these as \"real\", observed data, even though we're actually just creating it."
   ]
  },
  {
   "cell_type": "code",
   "execution_count": 4,
   "id": "3a6ce6bf",
   "metadata": {},
   "outputs": [],
   "source": [
    "query_data = np.concatenate((rng.lognormal(1.1, 0.8, 4500) + 35.3, rng.lognormal(1.2, 1.2, 15500) + 46.2))\n",
    "np.random.shuffle(query_data)\n",
    "\n",
    "cpu_data = np.concatenate((rng.lognormal(0.8, 1.2, 4500) + 30.8, rng.lognormal(1.4, 1.2, 15500) + 25.0))\n",
    "np.random.shuffle(cpu_data)\n",
    "\n",
    "total_data = query_data + cpu_data"
   ]
  },
  {
   "cell_type": "code",
   "execution_count": 5,
   "id": "70bcf0cd",
   "metadata": {},
   "outputs": [
    {
     "data": {
      "image/png": "[encoded data removed]",
      "text/plain": [
       "<Figure size 576x288 with 1 Axes>"
      ]
     },
     "metadata": {
      "needs_background": "light"
     },
     "output_type": "display_data"
    }
   ],
   "source": [
    "plt.figure(figsize=(8, 4))\n",
    "plt.title(\"Query duration - observed\")\n",
    "plt.hist(query_data, bins=100, range=[20, 200])\n",
    "plt.show()"
   ]
  },
  {
   "cell_type": "code",
   "execution_count": 6,
   "id": "a428b440",
   "metadata": {},
   "outputs": [
    {
     "name": "stdout",
     "output_type": "stream",
     "text": [
      "p25 = 46.64497780852419\n",
      "p50 = 48.421540155629145\n",
      "p75 = 52.107988270063004\n",
      "p90 = 59.74291478995247\n",
      "p95 = 67.7048550194154\n",
      "p99 = 93.97219909927439\n"
     ]
    }
   ],
   "source": [
    "dump_quantiles(query_data)"
   ]
  },
  {
   "cell_type": "code",
   "execution_count": 7,
   "id": "e3c92134",
   "metadata": {},
   "outputs": [
    {
     "data": {
      "image/png": "[encoded data removed]",
      "text/plain": [
       "<Figure size 576x288 with 1 Axes>"
      ]
     },
     "metadata": {
      "needs_background": "light"
     },
     "output_type": "display_data"
    }
   ],
   "source": [
    "plt.figure(figsize=(8, 4))\n",
    "plt.title(\"CPU duration - observed\")\n",
    "plt.hist(cpu_data, bins=100, range=[20, 200])\n",
    "plt.show()"
   ]
  },
  {
   "cell_type": "code",
   "execution_count": 8,
   "id": "115ee039",
   "metadata": {},
   "outputs": [
    {
     "name": "stdout",
     "output_type": "stream",
     "text": [
      "p25 = 27.32651648508576\n",
      "p50 = 31.07948169536899\n",
      "p75 = 34.85402406131578\n",
      "p90 = 43.40856220143767\n",
      "p95 = 52.64192286179959\n",
      "p99 = 88.04099411491451\n"
     ]
    }
   ],
   "source": [
    "dump_quantiles(cpu_data)"
   ]
  },
  {
   "cell_type": "code",
   "execution_count": 9,
   "id": "3fedd2a9",
   "metadata": {},
   "outputs": [
    {
     "data": {
      "image/png": "[encoded data removed]",
      "text/plain": [
       "<Figure size 576x288 with 1 Axes>"
      ]
     },
     "metadata": {
      "needs_background": "light"
     },
     "output_type": "display_data"
    }
   ],
   "source": [
    "plt.figure(figsize=(8, 4))\n",
    "plt.title(\"Total duration - observed\")\n",
    "plt.hist(total_data, bins=100, range=[40, 200])\n",
    "plt.show()"
   ]
  },
  {
   "cell_type": "code",
   "execution_count": 10,
   "id": "334dd1c5",
   "metadata": {},
   "outputs": [
    {
     "name": "stdout",
     "output_type": "stream",
     "text": [
      "p25 = 74.84451981059644\n",
      "p50 = 80.07512905747667\n",
      "p75 = 87.66524382944928\n",
      "p90 = 100.57027981277615\n",
      "p95 = 112.82635383116806\n",
      "p99 = 154.44581974959053\n"
     ]
    }
   ],
   "source": [
    "dump_quantiles(total_data)"
   ]
  },
  {
   "cell_type": "markdown",
   "id": "bc8c30e7",
   "metadata": {},
   "source": [
    "## 2 Sampling from an empirical distribution"
   ]
  },
  {
   "cell_type": "code",
   "execution_count": 11,
   "id": "7640604b",
   "metadata": {},
   "outputs": [],
   "source": [
    "num_bins = 1000\n",
    "indices = np.arange(0, 1, 1.0 / num_bins)\n",
    "query_quantiles = np.quantile(query_data, indices)\n",
    "cpu_quantiles = np.quantile(cpu_data, indices)"
   ]
  },
  {
   "cell_type": "code",
   "execution_count": 12,
   "id": "93f87f36",
   "metadata": {},
   "outputs": [],
   "source": [
    "cpu_sample = np.empty(20000)\n",
    "for i in range(20000):\n",
    "    cpu_sample[i] = cpu_quantiles[rng.integers(0, num_bins)]"
   ]
  },
  {
   "cell_type": "code",
   "execution_count": 13,
   "id": "85468aff",
   "metadata": {},
   "outputs": [
    {
     "data": {
      "image/png": "[encoded data removed]",
      "text/plain": [
       "<Figure size 576x288 with 1 Axes>"
      ]
     },
     "metadata": {
      "needs_background": "light"
     },
     "output_type": "display_data"
    }
   ],
   "source": [
    "plt.figure(figsize=(8, 4))\n",
    "plt.title(\"CPU duration - simulated\")\n",
    "plt.hist(cpu_sample, bins=100, range=[20, 200])\n",
    "plt.show()"
   ]
  },
  {
   "cell_type": "code",
   "execution_count": 14,
   "id": "0723859f",
   "metadata": {},
   "outputs": [
    {
     "name": "stdout",
     "output_type": "stream",
     "text": [
      "p25 = 27.32651648508576\n",
      "p50 = 31.07948169536899\n",
      "p75 = 34.85402406131578\n",
      "p90 = 43.25579367650433\n",
      "p95 = 52.240515696665426\n",
      "p99 = 85.59923356532906\n"
     ]
    }
   ],
   "source": [
    "dump_quantiles(cpu_sample)"
   ]
  },
  {
   "cell_type": "markdown",
   "id": "ab3870f8",
   "metadata": {},
   "source": [
    "## 3 What-if analysis"
   ]
  },
  {
   "cell_type": "code",
   "execution_count": 15,
   "id": "4e67dbab",
   "metadata": {},
   "outputs": [],
   "source": [
    "def run_sim(n, query_factor=1.0, cpu_factor=1.0):\n",
    "    total_sample = np.empty(n)\n",
    "    for i in range(n):\n",
    "        query_idx = rng.integers(0, num_bins)\n",
    "        query_sample = query_quantiles[query_idx] * query_factor\n",
    "        cpu_idx = rng.integers(0, num_bins)\n",
    "        cpu_sample = cpu_quantiles[cpu_idx] * cpu_factor\n",
    "        total_sample[i] = query_sample + cpu_sample\n",
    "    return total_sample"
   ]
  },
  {
   "cell_type": "markdown",
   "id": "e3d84805",
   "metadata": {},
   "source": [
    "### 3.1 Simulation - baseline"
   ]
  },
  {
   "cell_type": "code",
   "execution_count": 16,
   "id": "f8b05ae2",
   "metadata": {},
   "outputs": [],
   "source": [
    "sim_sample_baseline = run_sim(20000)"
   ]
  },
  {
   "cell_type": "code",
   "execution_count": 17,
   "id": "bedb1397",
   "metadata": {},
   "outputs": [
    {
     "data": {
      "image/png": "[encoded data removed]",
      "text/plain": [
       "<Figure size 576x360 with 2 Axes>"
      ]
     },
     "metadata": {
      "needs_background": "light"
     },
     "output_type": "display_data"
    }
   ],
   "source": [
    "fig, ax = plt.subplots(nrows=2, ncols=1, tight_layout=True, sharex=True, sharey=True, figsize=(8, 5))\n",
    "\n",
    "ax[0].hist(total_data, bins=100, range=[40, 200])\n",
    "ax[0].set_title(\"Total duration - observed\")\n",
    "\n",
    "ax[1].hist(sim_sample_baseline, bins=100, range=[40, 200])\n",
    "ax[1].set_title(\"Total duration - simulated\")\n",
    "\n",
    "plt.show()"
   ]
  },
  {
   "cell_type": "code",
   "execution_count": 18,
   "id": "027eb5f6",
   "metadata": {},
   "outputs": [
    {
     "name": "stdout",
     "output_type": "stream",
     "text": [
      "p25 = 74.99298503936755\n",
      "p50 = 80.19850860591995\n",
      "p75 = 87.58637915887789\n",
      "p90 = 100.97048228534271\n",
      "p95 = 113.78425176849915\n",
      "p99 = 150.02981501819426\n"
     ]
    }
   ],
   "source": [
    "dump_quantiles(sim_sample_baseline)"
   ]
  },
  {
   "cell_type": "markdown",
   "id": "b5e21c9f",
   "metadata": {},
   "source": [
    "### 3.2 Simulation - faster queries "
   ]
  },
  {
   "cell_type": "code",
   "execution_count": 19,
   "id": "0c9cacdc",
   "metadata": {},
   "outputs": [],
   "source": [
    "sim_sample_whatif_query = run_sim(20000, query_factor=0.8)"
   ]
  },
  {
   "cell_type": "code",
   "execution_count": 20,
   "id": "e2358057",
   "metadata": {},
   "outputs": [
    {
     "data": {
      "image/png": "[encoded data removed]",
      "text/plain": [
       "<Figure size 576x360 with 2 Axes>"
      ]
     },
     "metadata": {
      "needs_background": "light"
     },
     "output_type": "display_data"
    }
   ],
   "source": [
    "fig, ax = plt.subplots(nrows=2, ncols=1, tight_layout=True, sharex=True, sharey=True, figsize=(8, 5))\n",
    "\n",
    "ax[0].hist(total_data, bins=100, range=[40, 200])\n",
    "ax[0].set_title(\"Total duration - observed\")\n",
    "\n",
    "ax[1].hist(sim_sample_whatif_query, bins=100, range=[40, 200])\n",
    "ax[1].set_title(\"Total duration - simulated, faster queries\")\n",
    "\n",
    "plt.show()"
   ]
  },
  {
   "cell_type": "code",
   "execution_count": 21,
   "id": "71dfb0c9",
   "metadata": {},
   "outputs": [
    {
     "name": "stdout",
     "output_type": "stream",
     "text": [
      "p25 = 65.53144937673622\n",
      "p50 = 70.3478815058618\n",
      "p75 = 77.02780401510302\n",
      "p90 = 88.837088718723\n",
      "p95 = 99.63046918459695\n",
      "p99 = 134.3334638392895\n"
     ]
    }
   ],
   "source": [
    "dump_quantiles(sim_sample_whatif_query)"
   ]
  },
  {
   "cell_type": "markdown",
   "id": "290becdd",
   "metadata": {},
   "source": [
    "### 3.3 Simulation - faster CPU "
   ]
  },
  {
   "cell_type": "code",
   "execution_count": 22,
   "id": "ab1dce04",
   "metadata": {},
   "outputs": [],
   "source": [
    "sim_sample_whatif_cpu = run_sim(20000, cpu_factor=0.8)"
   ]
  },
  {
   "cell_type": "code",
   "execution_count": 23,
   "id": "7cb1dad0",
   "metadata": {},
   "outputs": [
    {
     "data": {
      "image/png": "[encoded data removed]",
      "text/plain": [
       "<Figure size 576x360 with 2 Axes>"
      ]
     },
     "metadata": {
      "needs_background": "light"
     },
     "output_type": "display_data"
    }
   ],
   "source": [
    "fig, ax = plt.subplots(nrows=2, ncols=1, tight_layout=True, sharex=True, sharey=True, figsize=(8, 5))\n",
    "\n",
    "ax[0].hist(total_data, bins=100, range=[40, 200])\n",
    "ax[0].set_title(\"Total duration - observed\")\n",
    "\n",
    "ax[1].hist(sim_sample_whatif_cpu, bins=100, range=[40, 200])\n",
    "ax[1].set_title(\"Total duration - simulated, faster CPU\")\n",
    "\n",
    "plt.show()"
   ]
  },
  {
   "cell_type": "code",
   "execution_count": 24,
   "id": "fe4b721a",
   "metadata": {},
   "outputs": [
    {
     "name": "stdout",
     "output_type": "stream",
     "text": [
      "p25 = 69.28530485462767\n",
      "p50 = 73.94050992854321\n",
      "p75 = 80.89674740205663\n",
      "p90 = 92.59470987220512\n",
      "p95 = 103.45867189744712\n",
      "p99 = 136.4284014725134\n"
     ]
    }
   ],
   "source": [
    "dump_quantiles(sim_sample_whatif_cpu)"
   ]
  },
  {
   "cell_type": "markdown",
   "id": "d3a34435",
   "metadata": {},
   "source": [
    "### 3.4 Simulation - faster queries and CPU "
   ]
  },
  {
   "cell_type": "code",
   "execution_count": 25,
   "id": "aa9bb7be",
   "metadata": {},
   "outputs": [],
   "source": [
    "sim_sample_whatif_both = run_sim(20000, query_factor=0.8, cpu_factor=0.8)"
   ]
  },
  {
   "cell_type": "code",
   "execution_count": 26,
   "id": "6b9a7d09",
   "metadata": {},
   "outputs": [
    {
     "data": {
      "image/png": "[encoded data removed]",
      "text/plain": [
       "<Figure size 576x360 with 2 Axes>"
      ]
     },
     "metadata": {
      "needs_background": "light"
     },
     "output_type": "display_data"
    }
   ],
   "source": [
    "fig, ax = plt.subplots(nrows=2, ncols=1, tight_layout=True, sharex=True, sharey=True, figsize=(8, 5))\n",
    "\n",
    "ax[0].hist(total_data, bins=100, range=[40, 200])\n",
    "ax[0].set_title(\"Total duration - observed\")\n",
    "\n",
    "ax[1].hist(sim_sample_whatif_both, bins=100, range=[40, 200])\n",
    "ax[1].set_title(\"Total duration - simulated, faster queries and CPU\")\n",
    "\n",
    "plt.show()"
   ]
  },
  {
   "cell_type": "code",
   "execution_count": 27,
   "id": "63506b44",
   "metadata": {},
   "outputs": [
    {
     "name": "stdout",
     "output_type": "stream",
     "text": [
      "p25 = 59.846555981453164\n",
      "p50 = 64.04193636456897\n",
      "p75 = 69.9296221904291\n",
      "p90 = 80.06733935445067\n",
      "p95 = 90.16267111447996\n",
      "p99 = 119.60618320482277\n"
     ]
    }
   ],
   "source": [
    "dump_quantiles(sim_sample_whatif_both)"
   ]
  },
  {
   "cell_type": "code",
   "execution_count": null,
   "id": "826120cc",
   "metadata": {},
   "outputs": [],
   "source": []
  }
 ],
 "metadata": {
  "kernelspec": {
   "display_name": "Python 3",
   "language": "python",
   "name": "python3"
  },
  "language_info": {
   "codemirror_mode": {
    "name": "ipython",
    "version": 3
   },
   "file_extension": ".py",
   "mimetype": "text/x-python",
   "name": "python",
   "nbconvert_exporter": "python",
   "pygments_lexer": "ipython3",
   "version": "3.9.5"
  }
 },
 "nbformat": 4,
 "nbformat_minor": 5
}
