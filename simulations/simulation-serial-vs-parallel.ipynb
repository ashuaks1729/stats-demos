{
 "cells": [
  {
   "cell_type": "markdown",
   "id": "b7c90b08",
   "metadata": {},
   "source": [
    "# Simulating serial vs parallel processing "
   ]
  },
  {
   "cell_type": "code",
   "execution_count": 2,
   "id": "9ff1ff80",
   "metadata": {},
   "outputs": [],
   "source": [
    "import numpy as np\n",
    "import matplotlib.pyplot as plt"
   ]
  },
  {
   "cell_type": "code",
   "execution_count": 3,
   "id": "3a16f4ae",
   "metadata": {},
   "outputs": [],
   "source": [
    "rng = np.random.default_rng(42)"
   ]
  },
  {
   "cell_type": "code",
   "execution_count": 4,
   "id": "e2f7a922",
   "metadata": {},
   "outputs": [],
   "source": [
    "def run_sim(a_lambda, b_lambdas, c_lambda, n=10000, nbins=21):\n",
    "    \n",
    "    # Generate data\n",
    "    a = rng.exponential(scale=a_lambda, size=n)\n",
    "    b1 = rng.exponential(scale=b_lambdas[0], size=n)\n",
    "    b2 = rng.exponential(scale=b_lambdas[1], size=n)\n",
    "    b3 = rng.exponential(scale=b_lambdas[2], size=n)\n",
    "    b4 = rng.exponential(scale=b_lambdas[3], size=n)\n",
    "    b5 = rng.exponential(scale=b_lambdas[4], size=n)\n",
    "    c = rng.exponential(scale=c_lambda, size=n)\n",
    "    \n",
    "    b = np.maximum(b1, b2)\n",
    "    b = np.maximum(b, b3)\n",
    "    b = np.maximum(b, b4)\n",
    "    b = np.maximum(b, b5)\n",
    "    \n",
    "    total = a + b + c\n",
    "    \n",
    "    # Plot results\n",
    "    fig, ax = plt.subplots(nrows=1, ncols=4, sharex=True, sharey=True, tight_layout=True, figsize=(10, 2))\n",
    "    ax[0].hist(a, bins=nbins)\n",
    "    ax[0].set_title(\"A\")\n",
    "    ax[1].hist(b, bins=nbins)\n",
    "    ax[1].set_title(\"max(B)\")\n",
    "    ax[2].hist(c, bins=nbins)\n",
    "    ax[2].set_title(\"C\")\n",
    "    ax[3].hist(total, bins=nbins)\n",
    "    ax[3].set_title(\"A+B+C\")\n",
    "    plt.show()"
   ]
  },
  {
   "cell_type": "code",
   "execution_count": 5,
   "id": "ce84d073",
   "metadata": {},
   "outputs": [
    {
     "data": {
      "image/png": "[encoded data removed]",
      "text/plain": [
       "<Figure size 720x144 with 4 Axes>"
      ]
     },
     "metadata": {
      "needs_background": "light"
     },
     "output_type": "display_data"
    }
   ],
   "source": [
    "run_sim(0.1, [0.1, 0.1, 0.1, 0.1, 0.1], 0.1)"
   ]
  },
  {
   "cell_type": "code",
   "execution_count": 6,
   "id": "83aa4149",
   "metadata": {},
   "outputs": [
    {
     "data": {
      "image/png": "[encoded data removed]",
      "text/plain": [
       "<Figure size 720x144 with 4 Axes>"
      ]
     },
     "metadata": {
      "needs_background": "light"
     },
     "output_type": "display_data"
    }
   ],
   "source": [
    "run_sim(0.5, [0.1, 0.1, 0.1, 0.1, 0.1], 0.1)"
   ]
  },
  {
   "cell_type": "code",
   "execution_count": 7,
   "id": "ec0a987c",
   "metadata": {},
   "outputs": [
    {
     "data": {
      "image/png": "[encoded data removed]",
      "text/plain": [
       "<Figure size 720x144 with 4 Axes>"
      ]
     },
     "metadata": {
      "needs_background": "light"
     },
     "output_type": "display_data"
    }
   ],
   "source": [
    "run_sim(0.1, [0.1, 0.1, 0.5, 0.1, 0.1], 0.1)"
   ]
  },
  {
   "cell_type": "code",
   "execution_count": null,
   "id": "b3d48d6f",
   "metadata": {},
   "outputs": [],
   "source": []
  }
 ],
 "metadata": {
  "kernelspec": {
   "display_name": "Python 3 (ipykernel)",
   "language": "python",
   "name": "python3"
  },
  "language_info": {
   "codemirror_mode": {
    "name": "ipython",
    "version": 3
   },
   "file_extension": ".py",
   "mimetype": "text/x-python",
   "name": "python",
   "nbconvert_exporter": "python",
   "pygments_lexer": "ipython3",
   "version": "3.9.5"
  }
 },
 "nbformat": 4,
 "nbformat_minor": 5
}
