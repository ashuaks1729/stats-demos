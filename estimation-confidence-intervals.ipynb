{
 "cells": [
  {
   "cell_type": "markdown",
   "id": "b2d81638",
   "metadata": {},
   "source": [
    "# Estimation and confidence intervals"
   ]
  },
  {
   "cell_type": "code",
   "execution_count": 1,
   "id": "15b9736f",
   "metadata": {},
   "outputs": [],
   "source": [
    "y <- rep(c(0, 1, 2, 3, 4), c(600, 300, 50, 30, 20))"
   ]
  },
  {
   "cell_type": "code",
   "execution_count": 2,
   "id": "2d915692",
   "metadata": {},
   "outputs": [],
   "source": [
    "n <- length(y)\n",
    "estimate <- mean(y)\n",
    "se <- sd(y) / sqrt(n)\n",
    "int_50 <- estimate + qt(c(0.25, 0.75), n-1) * se\n",
    "int_95 <- estimate + qt(c(0.025, 0.975), n-1) * se"
   ]
  },
  {
   "cell_type": "code",
   "execution_count": 4,
   "id": "5c1f8913",
   "metadata": {},
   "outputs": [
    {
     "data": {
      "text/html": [
       "0.57"
      ],
      "text/latex": [
       "0.57"
      ],
      "text/markdown": [
       "0.57"
      ],
      "text/plain": [
       "[1] 0.57"
      ]
     },
     "metadata": {},
     "output_type": "display_data"
    }
   ],
   "source": [
    "estimate"
   ]
  },
  {
   "cell_type": "code",
   "execution_count": 5,
   "id": "a8c4e073",
   "metadata": {},
   "outputs": [
    {
     "data": {
      "text/html": [
       "0.0276742816684709"
      ],
      "text/latex": [
       "0.0276742816684709"
      ],
      "text/markdown": [
       "0.0276742816684709"
      ],
      "text/plain": [
       "[1] 0.02767428"
      ]
     },
     "metadata": {},
     "output_type": "display_data"
    }
   ],
   "source": [
    "se"
   ]
  },
  {
   "cell_type": "code",
   "execution_count": 6,
   "id": "0ac5e6de",
   "metadata": {},
   "outputs": [
    {
     "data": {
      "text/html": [
       "<style>\n",
       ".list-inline {list-style: none; margin:0; padding: 0}\n",
       ".list-inline>li {display: inline-block}\n",
       ".list-inline>li:not(:last-child)::after {content: \"\\00b7\"; padding: 0 .5ex}\n",
       "</style>\n",
       "<ol class=list-inline><li>0.551327182202374</li><li>0.588672817797626</li></ol>\n"
      ],
      "text/latex": [
       "\\begin{enumerate*}\n",
       "\\item 0.551327182202374\n",
       "\\item 0.588672817797626\n",
       "\\end{enumerate*}\n"
      ],
      "text/markdown": [
       "1. 0.551327182202374\n",
       "2. 0.588672817797626\n",
       "\n",
       "\n"
      ],
      "text/plain": [
       "[1] 0.5513272 0.5886728"
      ]
     },
     "metadata": {},
     "output_type": "display_data"
    }
   ],
   "source": [
    "int_50"
   ]
  },
  {
   "cell_type": "code",
   "execution_count": 7,
   "id": "087b934e",
   "metadata": {},
   "outputs": [
    {
     "data": {
      "text/html": [
       "<style>\n",
       ".list-inline {list-style: none; margin:0; padding: 0}\n",
       ".list-inline>li {display: inline-block}\n",
       ".list-inline>li:not(:last-child)::after {content: \"\\00b7\"; padding: 0 .5ex}\n",
       "</style>\n",
       "<ol class=list-inline><li>0.515693609674874</li><li>0.624306390325126</li></ol>\n"
      ],
      "text/latex": [
       "\\begin{enumerate*}\n",
       "\\item 0.515693609674874\n",
       "\\item 0.624306390325126\n",
       "\\end{enumerate*}\n"
      ],
      "text/markdown": [
       "1. 0.515693609674874\n",
       "2. 0.624306390325126\n",
       "\n",
       "\n"
      ],
      "text/plain": [
       "[1] 0.5156936 0.6243064"
      ]
     },
     "metadata": {},
     "output_type": "display_data"
    }
   ],
   "source": [
    "int_95"
   ]
  },
  {
   "cell_type": "code",
   "execution_count": 8,
   "id": "00dd10b7",
   "metadata": {},
   "outputs": [],
   "source": [
    "? qt"
   ]
  },
  {
   "cell_type": "code",
   "execution_count": null,
   "id": "5976c049",
   "metadata": {},
   "outputs": [],
   "source": []
  }
 ],
 "metadata": {
  "kernelspec": {
   "display_name": "R",
   "language": "R",
   "name": "ir"
  },
  "language_info": {
   "codemirror_mode": "r",
   "file_extension": ".r",
   "mimetype": "text/x-r-source",
   "name": "R",
   "pygments_lexer": "r",
   "version": "4.1.0"
  }
 },
 "nbformat": 4,
 "nbformat_minor": 5
}
