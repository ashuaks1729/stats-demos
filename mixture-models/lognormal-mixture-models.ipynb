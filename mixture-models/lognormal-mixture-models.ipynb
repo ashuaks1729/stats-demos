{
 "cells": [
  {
   "cell_type": "markdown",
   "id": "1949b10d",
   "metadata": {},
   "source": [
    "# Lognormal mixture models"
   ]
  },
  {
   "cell_type": "markdown",
   "id": "e043fc1e",
   "metadata": {},
   "source": [
    "See https://blogs2.datall-analyse.nl/2016/02/18/rcode_mixture_distribution_censored/"
   ]
  },
  {
   "cell_type": "code",
   "execution_count": null,
   "id": "c170fd35",
   "metadata": {},
   "outputs": [],
   "source": []
  }
 ],
 "metadata": {
  "kernelspec": {
   "display_name": "R",
   "language": "R",
   "name": "ir"
  },
  "language_info": {
   "codemirror_mode": "r",
   "file_extension": ".r",
   "mimetype": "text/x-r-source",
   "name": "R",
   "pygments_lexer": "r",
   "version": "4.0.2"
  }
 },
 "nbformat": 4,
 "nbformat_minor": 5
}
