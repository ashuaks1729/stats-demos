{
 "cells": [
  {
   "cell_type": "markdown",
   "id": "2b0d6300",
   "metadata": {},
   "source": [
    "# Mixture models: synthetic vs analytic views"
   ]
  },
  {
   "cell_type": "code",
   "execution_count": 87,
   "id": "9cac85bc",
   "metadata": {},
   "outputs": [],
   "source": [
    "import numpy as np\n",
    "import pandas as pd\n",
    "import matplotlib.pyplot as plt\n",
    "\n",
    "from pomegranate import *"
   ]
  },
  {
   "cell_type": "code",
   "execution_count": 78,
   "id": "e1a16064",
   "metadata": {},
   "outputs": [],
   "source": [
    "n = 20_000"
   ]
  },
  {
   "cell_type": "markdown",
   "id": "7fcfca52",
   "metadata": {},
   "source": [
    "## Synthetic mixture model "
   ]
  },
  {
   "cell_type": "code",
   "execution_count": 71,
   "id": "1c67038f",
   "metadata": {},
   "outputs": [],
   "source": [
    "# Model for height data in inches\n",
    "# https://tasks.illustrativemathematics.org/content-standards/HSS/ID/A/4/tasks/1020\n",
    "men = NormalDistribution(70.0, 3.0)\n",
    "women = NormalDistribution(64.5, 2.5)\n",
    "model = GeneralMixtureModel([men, women], [0.5, 0.5])"
   ]
  },
  {
   "cell_type": "code",
   "execution_count": 90,
   "id": "d7ebc937",
   "metadata": {},
   "outputs": [
    {
     "data": {
      "text/plain": [
       "{\n",
       "    \"class\" : \"GeneralMixtureModel\",\n",
       "    \"distributions\" : [\n",
       "        {\n",
       "            \"class\" : \"Distribution\",\n",
       "            \"name\" : \"NormalDistribution\",\n",
       "            \"parameters\" : [\n",
       "                70.0,\n",
       "                3.0\n",
       "            ],\n",
       "            \"frozen\" : false\n",
       "        },\n",
       "        {\n",
       "            \"class\" : \"Distribution\",\n",
       "            \"name\" : \"NormalDistribution\",\n",
       "            \"parameters\" : [\n",
       "                64.5,\n",
       "                2.5\n",
       "            ],\n",
       "            \"frozen\" : false\n",
       "        }\n",
       "    ],\n",
       "    \"weights\" : [\n",
       "        0.5,\n",
       "        0.5\n",
       "    ]\n",
       "}"
      ]
     },
     "execution_count": 90,
     "metadata": {},
     "output_type": "execute_result"
    }
   ],
   "source": [
    "model"
   ]
  },
  {
   "cell_type": "code",
   "execution_count": 79,
   "id": "f8a76d1c",
   "metadata": {},
   "outputs": [],
   "source": [
    "heights = model.sample(n)"
   ]
  },
  {
   "cell_type": "code",
   "execution_count": 80,
   "id": "9b5c5049",
   "metadata": {},
   "outputs": [
    {
     "data": {
      "image/png": "[encoded data removed]",
      "text/plain": [
       "<Figure size 432x288 with 1 Axes>"
      ]
     },
     "metadata": {
      "needs_background": "light"
     },
     "output_type": "display_data"
    }
   ],
   "source": [
    "plt.hist(heights, bins=31)\n",
    "plt.show()"
   ]
  },
  {
   "cell_type": "markdown",
   "id": "6d4c3c19",
   "metadata": {},
   "source": [
    "## Analytic mixture model "
   ]
  },
  {
   "cell_type": "code",
   "execution_count": 121,
   "id": "d6992918",
   "metadata": {},
   "outputs": [],
   "source": [
    "# Now fit a mixture model to the sample.\n",
    "# We're going to fit a \"wrong\" model on purpose.\n",
    "alt_model = GeneralMixtureModel.from_samples(\n",
    "    GammaDistribution,\n",
    "    n_components=2,\n",
    "    X=np.asarray([heights]).T.copy())"
   ]
  },
  {
   "cell_type": "code",
   "execution_count": 122,
   "id": "552797bd",
   "metadata": {},
   "outputs": [
    {
     "data": {
      "text/plain": [
       "{\n",
       "    \"class\" : \"GeneralMixtureModel\",\n",
       "    \"distributions\" : [\n",
       "        {\n",
       "            \"class\" : \"Distribution\",\n",
       "            \"name\" : \"GammaDistribution\",\n",
       "            \"parameters\" : [\n",
       "                687.0599495086699,\n",
       "                10.72155202073887\n",
       "            ],\n",
       "            \"frozen\" : false\n",
       "        },\n",
       "        {\n",
       "            \"class\" : \"Distribution\",\n",
       "            \"name\" : \"GammaDistribution\",\n",
       "            \"parameters\" : [\n",
       "                455.06886100657505,\n",
       "                6.564277878275685\n",
       "            ],\n",
       "            \"frozen\" : false\n",
       "        }\n",
       "    ],\n",
       "    \"weights\" : [\n",
       "        0.3931704386455496,\n",
       "        0.6068295613544503\n",
       "    ]\n",
       "}"
      ]
     },
     "execution_count": 122,
     "metadata": {},
     "output_type": "execute_result"
    }
   ],
   "source": [
    "alt_model"
   ]
  },
  {
   "cell_type": "code",
   "execution_count": 127,
   "id": "eb78d949",
   "metadata": {},
   "outputs": [],
   "source": [
    "alt_heights = alt_model.sample(n)"
   ]
  },
  {
   "cell_type": "code",
   "execution_count": 128,
   "id": "d1957446",
   "metadata": {},
   "outputs": [
    {
     "data": {
      "image/png": "[encoded data removed]",
      "text/plain": [
       "<Figure size 432x288 with 1 Axes>"
      ]
     },
     "metadata": {
      "needs_background": "light"
     },
     "output_type": "display_data"
    }
   ],
   "source": [
    "plt.hist(alt_heights, bins=31)\n",
    "plt.show()"
   ]
  },
  {
   "cell_type": "markdown",
   "id": "efc47c9a",
   "metadata": {},
   "source": [
    "## Comparison"
   ]
  },
  {
   "cell_type": "code",
   "execution_count": 129,
   "id": "41d4f9e8",
   "metadata": {},
   "outputs": [
    {
     "data": {
      "text/html": [
       "<div>\n",
       "<style scoped>\n",
       "    .dataframe tbody tr th:only-of-type {\n",
       "        vertical-align: middle;\n",
       "    }\n",
       "\n",
       "    .dataframe tbody tr th {\n",
       "        vertical-align: top;\n",
       "    }\n",
       "\n",
       "    .dataframe thead th {\n",
       "        text-align: right;\n",
       "    }\n",
       "</style>\n",
       "<table border=\"1\" class=\"dataframe\">\n",
       "  <thead>\n",
       "    <tr style=\"text-align: right;\">\n",
       "      <th></th>\n",
       "      <th>0</th>\n",
       "    </tr>\n",
       "  </thead>\n",
       "  <tbody>\n",
       "    <tr>\n",
       "      <th>count</th>\n",
       "      <td>20000.000000</td>\n",
       "    </tr>\n",
       "    <tr>\n",
       "      <th>mean</th>\n",
       "      <td>67.263688</td>\n",
       "    </tr>\n",
       "    <tr>\n",
       "      <th>std</th>\n",
       "      <td>3.912171</td>\n",
       "    </tr>\n",
       "    <tr>\n",
       "      <th>min</th>\n",
       "      <td>55.918017</td>\n",
       "    </tr>\n",
       "    <tr>\n",
       "      <th>25%</th>\n",
       "      <td>64.339951</td>\n",
       "    </tr>\n",
       "    <tr>\n",
       "      <th>50%</th>\n",
       "      <td>67.034671</td>\n",
       "    </tr>\n",
       "    <tr>\n",
       "      <th>75%</th>\n",
       "      <td>70.097367</td>\n",
       "    </tr>\n",
       "    <tr>\n",
       "      <th>max</th>\n",
       "      <td>80.429128</td>\n",
       "    </tr>\n",
       "  </tbody>\n",
       "</table>\n",
       "</div>"
      ],
      "text/plain": [
       "                  0\n",
       "count  20000.000000\n",
       "mean      67.263688\n",
       "std        3.912171\n",
       "min       55.918017\n",
       "25%       64.339951\n",
       "50%       67.034671\n",
       "75%       70.097367\n",
       "max       80.429128"
      ]
     },
     "execution_count": 129,
     "metadata": {},
     "output_type": "execute_result"
    }
   ],
   "source": [
    "pd.DataFrame(heights).describe()"
   ]
  },
  {
   "cell_type": "code",
   "execution_count": 130,
   "id": "976653fa",
   "metadata": {},
   "outputs": [
    {
     "data": {
      "text/html": [
       "<div>\n",
       "<style scoped>\n",
       "    .dataframe tbody tr th:only-of-type {\n",
       "        vertical-align: middle;\n",
       "    }\n",
       "\n",
       "    .dataframe tbody tr th {\n",
       "        vertical-align: top;\n",
       "    }\n",
       "\n",
       "    .dataframe thead th {\n",
       "        text-align: right;\n",
       "    }\n",
       "</style>\n",
       "<table border=\"1\" class=\"dataframe\">\n",
       "  <thead>\n",
       "    <tr style=\"text-align: right;\">\n",
       "      <th></th>\n",
       "      <th>0</th>\n",
       "    </tr>\n",
       "  </thead>\n",
       "  <tbody>\n",
       "    <tr>\n",
       "      <th>count</th>\n",
       "      <td>20000.000000</td>\n",
       "    </tr>\n",
       "    <tr>\n",
       "      <th>mean</th>\n",
       "      <td>67.310975</td>\n",
       "    </tr>\n",
       "    <tr>\n",
       "      <th>std</th>\n",
       "      <td>3.912698</td>\n",
       "    </tr>\n",
       "    <tr>\n",
       "      <th>min</th>\n",
       "      <td>54.916996</td>\n",
       "    </tr>\n",
       "    <tr>\n",
       "      <th>25%</th>\n",
       "      <td>64.386705</td>\n",
       "    </tr>\n",
       "    <tr>\n",
       "      <th>50%</th>\n",
       "      <td>67.152005</td>\n",
       "    </tr>\n",
       "    <tr>\n",
       "      <th>75%</th>\n",
       "      <td>70.084387</td>\n",
       "    </tr>\n",
       "    <tr>\n",
       "      <th>max</th>\n",
       "      <td>82.045749</td>\n",
       "    </tr>\n",
       "  </tbody>\n",
       "</table>\n",
       "</div>"
      ],
      "text/plain": [
       "                  0\n",
       "count  20000.000000\n",
       "mean      67.310975\n",
       "std        3.912698\n",
       "min       54.916996\n",
       "25%       64.386705\n",
       "50%       67.152005\n",
       "75%       70.084387\n",
       "max       82.045749"
      ]
     },
     "execution_count": 130,
     "metadata": {},
     "output_type": "execute_result"
    }
   ],
   "source": [
    "pd.DataFrame(alt_heights).describe()"
   ]
  },
  {
   "cell_type": "code",
   "execution_count": null,
   "id": "b3f64df8",
   "metadata": {},
   "outputs": [],
   "source": []
  }
 ],
 "metadata": {
  "kernelspec": {
   "display_name": "Python 3 (ipykernel)",
   "language": "python",
   "name": "python3"
  },
  "language_info": {
   "codemirror_mode": {
    "name": "ipython",
    "version": 3
   },
   "file_extension": ".py",
   "mimetype": "text/x-python",
   "name": "python",
   "nbconvert_exporter": "python",
   "pygments_lexer": "ipython3",
   "version": "3.9.5"
  }
 },
 "nbformat": 4,
 "nbformat_minor": 5
}
